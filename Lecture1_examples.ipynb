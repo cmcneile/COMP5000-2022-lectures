{
 "cells": [
  {
   "cell_type": "markdown",
   "id": "1832d00b",
   "metadata": {},
   "source": [
    "# Python examples in lecture 1"
   ]
  },
  {
   "cell_type": "markdown",
   "id": "23b7496f",
   "metadata": {},
   "source": [
    "###  First example "
   ]
  },
  {
   "cell_type": "code",
   "execution_count": null,
   "id": "535359b3",
   "metadata": {},
   "outputs": [],
   "source": [
    "# Traditionally we start by writing to the screen\n",
    "print (\"Hello world\")\n",
    "a = 2\n",
    "print (\"a = \" , a)\n",
    "a = a + 2\n",
    "print (\"a = \" , a)"
   ]
  },
  {
   "cell_type": "markdown",
   "id": "dd2e3182",
   "metadata": {},
   "source": [
    "Here we run python in a jupyter notebook where we can mix text and python code\n",
    "The main page for jupyter notebooks is at <https://jupyter.org/>"
   ]
  },
  {
   "cell_type": "markdown",
   "id": "0482ca96",
   "metadata": {},
   "source": [
    "## Data types in python\n",
    "* The basic building blocks of python programs are variables.\n",
    "* Variables have different type (example; integer, float or string)\n",
    "* See <https://www.w3schools.com/python/python_datatypes.asp> for more information about data types"
   ]
  },
  {
   "cell_type": "code",
   "execution_count": null,
   "id": "a7fff929",
   "metadata": {},
   "outputs": [],
   "source": [
    "# x is an integer\n",
    "x = 10\n",
    "# y is a float\n",
    "y = 3.45\n",
    "# z is a string\n",
    "z = \"Hello\"\n",
    "# a is a boolean\n",
    "a = True"
   ]
  },
  {
   "cell_type": "markdown",
   "id": "bdf65075",
   "metadata": {},
   "source": [
    "##  Example of a list\n",
    "\n",
    "Often we need to build collections of variables"
   ]
  },
  {
   "cell_type": "code",
   "execution_count": null,
   "id": "78c74761",
   "metadata": {},
   "outputs": [],
   "source": [
    "#  This is example of a list\n",
    "v = [23, 14, 6, 8]\n",
    "\n",
    "print(\"The whole list \" , v)\n",
    "\n",
    "print(\"The first element of the list \" , v[0])\n",
    "print(\"The second element of the list \" , v[1])\n"
   ]
  },
  {
   "cell_type": "markdown",
   "id": "64ca6d8d",
   "metadata": {},
   "source": [
    "##  Example of reading from the keyboard\n",
    "Normally we need some input to start the program"
   ]
  },
  {
   "cell_type": "code",
   "execution_count": null,
   "id": "822d85ea",
   "metadata": {},
   "outputs": [],
   "source": [
    "name = input(\"Enter your name\")\n",
    "print(\"Hello \" , name)"
   ]
  },
  {
   "cell_type": "markdown",
   "id": "1ae69c85",
   "metadata": {},
   "source": [
    "What if we want to input an age in years which is an integer\n",
    "The input command always return a string"
   ]
  },
  {
   "cell_type": "code",
   "execution_count": 1,
   "id": "7f0b8cd4",
   "metadata": {},
   "outputs": [
    {
     "name": "stdout",
     "output_type": "stream",
     "text": [
      "Enter your age55\n",
      "This year you are  55 years old\n",
      "Next year you will be  56 years old\n"
     ]
    }
   ],
   "source": [
    "age_string = input(\"Enter your age\")\n",
    "age = int(age_string)\n",
    "\n",
    "print(\"This year you are \" , age, \"years old\")\n",
    "print(\"Next year you will be \" , age + 1, \"years old\")\n"
   ]
  },
  {
   "cell_type": "code",
   "execution_count": null,
   "id": "e88f1dc2",
   "metadata": {},
   "outputs": [],
   "source": []
  },
  {
   "cell_type": "code",
   "execution_count": null,
   "id": "b805cb53",
   "metadata": {},
   "outputs": [],
   "source": []
  }
 ],
 "metadata": {
  "kernelspec": {
   "display_name": "Python 3",
   "language": "python",
   "name": "python3"
  },
  "language_info": {
   "codemirror_mode": {
    "name": "ipython",
    "version": 3
   },
   "file_extension": ".py",
   "mimetype": "text/x-python",
   "name": "python",
   "nbconvert_exporter": "python",
   "pygments_lexer": "ipython3",
   "version": "3.9.4"
  }
 },
 "nbformat": 4,
 "nbformat_minor": 5
}
