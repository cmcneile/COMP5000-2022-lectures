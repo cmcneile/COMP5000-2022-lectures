{
 "cells": [
  {
   "cell_type": "markdown",
   "id": "1832d00b",
   "metadata": {
    "slideshow": {
     "slide_type": "slide"
    }
   },
   "source": [
    "# Python examples in lecture 11\n",
    "* This file is a jupyter notebook. To run it you can download it from the DLE and run it on your own machine.\n",
    "* Or you can run it on google collab <https://colab.research.google.com> via your google account. This may be slower than running on your own machine\n",
    "* Information on downloading notebooks from the store to your computer https://youtu.be/1zY7hIj5tWg"
   ]
  },
  {
   "cell_type": "markdown",
   "id": "01841d60",
   "metadata": {
    "slideshow": {
     "slide_type": "slide"
    }
   },
   "source": [
    "##  Unit testing\n",
    "\n",
    "* I have been pushing the idea of iteratively improving a python code.\n",
    "\n",
    "* What happens if you make a mistake and introduce a bug, when you making changes to the code.\n",
    "\n",
    "* Unit testing is a test of a small segment of the code. These are  normally written by the programmers.\n",
    "\n",
    "* The tests can be used to help explain what the code is doing.\n",
    "\n"
   ]
  },
  {
   "cell_type": "markdown",
   "id": "6b08c352",
   "metadata": {
    "slideshow": {
     "slide_type": "slide"
    }
   },
   "source": [
    "##  Assert statement\n",
    "\n",
    "* A key building block of unit testing is the assert.\n",
    "\n",
    "<blockquote>\n",
    "An assertion is a Boolean expression at a specific point in a program\n",
    "which will be true unless there is a bug in the program.\n",
    "</blockquote>\n",
    "From http://wiki.c2.com/?WhatAreAssertions.\n",
    "\n",
    "\n",
    "\n",
    "Asserts should NOT  be used for testing user input, but just to make\n",
    "consistently checks in parts of the code.\n",
    "\n",
    "\n",
    "\n"
   ]
  },
  {
   "cell_type": "markdown",
   "id": "aee4b538",
   "metadata": {
    "slideshow": {
     "slide_type": "slide"
    }
   },
   "source": [
    "##  Example of an assert\n",
    "\n",
    "The area of a circle is $\\pi r^2$ where $r > 0$."
   ]
  },
  {
   "cell_type": "code",
   "execution_count": null,
   "id": "b22834b0",
   "metadata": {},
   "outputs": [],
   "source": [
    "import math\n",
    "radius = 2.0\n",
    "assert radius > 0 , \"Radius should be positive\"\n",
    "area = math.pi * radius**2\n",
    "print(\"Area of circle = {:.2f} \" . format(area))\n"
   ]
  },
  {
   "cell_type": "markdown",
   "id": "0b6070d0",
   "metadata": {},
   "source": [
    "In this case the radius was positive so no error condition was triggered."
   ]
  },
  {
   "cell_type": "markdown",
   "id": "3cd17e14",
   "metadata": {
    "slideshow": {
     "slide_type": "slide"
    }
   },
   "source": [
    "##  Example of an assert\n",
    "\n",
    "*  This is an artificial example. I assume that because of a bug in  a piece of  code, the radius is accidently set negative."
   ]
  },
  {
   "cell_type": "code",
   "execution_count": null,
   "id": "cdde8394",
   "metadata": {},
   "outputs": [],
   "source": [
    "import math\n",
    "radius = -2.0\n",
    "assert radius > 0 , \"Radius should be positive\"\n",
    "area = math.pi * radius**2\n",
    "print(\"Area of circle = {:.2f} \". format(area))"
   ]
  },
  {
   "cell_type": "markdown",
   "id": "5ed3cd24",
   "metadata": {
    "slideshow": {
     "slide_type": "slide"
    }
   },
   "source": [
    "## Using assert to test a class"
   ]
  },
  {
   "cell_type": "code",
   "execution_count": null,
   "id": "c6204230",
   "metadata": {},
   "outputs": [],
   "source": [
    "class Rectangle:\n",
    "    def __init__(self, x, y):\n",
    "        self.x = x\n",
    "        self.y = y\n",
    "    def area(self):\n",
    "        return self.x * self.y\n",
    "\n",
    "# Unit test of Rectangle class\n",
    "print(\"Start of unit tests\")\n",
    "rectangle = Rectangle(100, 45)\n",
    "assert rectangle.area() == 4500 , \"Error with area method\"\n",
    "print(\"Tests succesfully run\")\n"
   ]
  },
  {
   "cell_type": "markdown",
   "id": "4d4c723b",
   "metadata": {
    "slideshow": {
     "slide_type": "slide"
    }
   },
   "source": [
    "##  Testing framework\n",
    "\n",
    "* A unit test only tests a small part of the code.\n",
    "\n",
    "* Hence there should be many small tests.\n",
    "\n",
    "* There is the idea of coverage. How much of a code is tested by the testing framework.\n",
    "  \n",
    "* https://www.sqlite.org/testing.html SQLite has millions of tests.\n",
    "\n",
    "* It would be good to have a systematic way to run the many tests.\n",
    "\n",
    "* This motivates the use of a **testing framework.**\n",
    "\n",
    "\n",
    "We will look at the unittest testing module, which is part of\n",
    "the standard python library https://realpython.com/python-testing/"
   ]
  },
  {
   "cell_type": "markdown",
   "id": "b9ce66eb",
   "metadata": {
    "slideshow": {
     "slide_type": "slide"
    }
   },
   "source": [
    "##  Unit test framework\n",
    "\n",
    "* Below is an example of testing a simple function\n",
    "\n"
   ]
  },
  {
   "cell_type": "code",
   "execution_count": 8,
   "id": "9eb3c088",
   "metadata": {
    "slideshow": {
     "slide_type": "-"
    }
   },
   "outputs": [
    {
     "name": "stderr",
     "output_type": "stream",
     "text": [
      "test_add_A (__main__.TestNotebook) ... ok\n",
      "test_add_B (__main__.TestNotebook) ... ok\n",
      "\n",
      "----------------------------------------------------------------------\n",
      "Ran 2 tests in 0.002s\n",
      "\n",
      "OK\n"
     ]
    },
    {
     "data": {
      "text/plain": [
       "<unittest.main.TestProgram at 0x108627a90>"
      ]
     },
     "execution_count": 8,
     "metadata": {},
     "output_type": "execute_result"
    }
   ],
   "source": [
    "def add(a, b):\n",
    "    return a + b\n",
    "\n",
    "import unittest\n",
    "\n",
    "class TestNotebook(unittest.TestCase):\n",
    "    \n",
    "    def test_add_A(self):\n",
    "        self.assertEqual(add(2, 2), 4)\n",
    "        \n",
    "    def test_add_B(self):\n",
    "        self.assertEqual(add(1, 2), 3)\n",
    "        \n",
    "\n",
    "unittest.main(argv=[''], verbosity=2, exit=False)"
   ]
  },
  {
   "cell_type": "markdown",
   "id": "2e9f114a",
   "metadata": {
    "slideshow": {
     "slide_type": "slide"
    }
   },
   "source": [
    "#  Modules in python\n",
    "\n",
    "* modules are a way to organize code over multiple files\n",
    "* It allows code from different libraries to be combined.\n",
    "* Even if you don't create your own modules, a data science analysis typically combines multiple libraries in modules.\n",
    "\n",
    "See more information at\n",
    "* https://www.w3schools.com/python/python_modules.asp\n",
    "\n",
    "* https://docs.python.org/3/tutorial/modules.html"
   ]
  },
  {
   "cell_type": "markdown",
   "id": "a7e4a7f3",
   "metadata": {
    "slideshow": {
     "slide_type": "slide"
    }
   },
   "source": [
    "## Example of creating a module\n",
    "\n",
    "* The file **mymodel.py** in the same directory as the notebook"
   ]
  },
  {
   "cell_type": "code",
   "execution_count": 9,
   "id": "97b1101c",
   "metadata": {},
   "outputs": [
    {
     "name": "stdout",
     "output_type": "stream",
     "text": [
      "Hello, Jonathan\n",
      "36\n"
     ]
    },
    {
     "data": {
      "text/plain": [
       "['__builtins__',\n",
       " '__cached__',\n",
       " '__doc__',\n",
       " '__file__',\n",
       " '__loader__',\n",
       " '__name__',\n",
       " '__package__',\n",
       " '__spec__',\n",
       " 'greeting',\n",
       " 'person1']"
      ]
     },
     "execution_count": 9,
     "metadata": {},
     "output_type": "execute_result"
    }
   ],
   "source": [
    "import mymodel\n",
    "\n",
    "mymodel.greeting(\"Jonathan\")\n",
    "\n",
    "a = mymodel.person1[\"age\"]\n",
    "print(a) \n",
    "\n",
    "dir(mymodel)"
   ]
  },
  {
   "cell_type": "markdown",
   "id": "fcf3173b",
   "metadata": {
    "slideshow": {
     "slide_type": "slide"
    }
   },
   "source": [
    "## Comments on modules\n",
    "* The module name can be changed. This is useful if you want to combine multiple modules with the same name. \n",
    "* There is a search path for finding the modules. **PYTHONPATH**"
   ]
  },
  {
   "cell_type": "code",
   "execution_count": null,
   "id": "2cb82799",
   "metadata": {},
   "outputs": [],
   "source": [
    "import mymodel as mx\n",
    "\n",
    "mx.greeting(\"Jonathan\")\n"
   ]
  },
  {
   "cell_type": "code",
   "execution_count": null,
   "id": "f9ef083c",
   "metadata": {},
   "outputs": [],
   "source": [
    "import platform\n",
    "\n",
    "x = platform.system()\n",
    "print(x) "
   ]
  },
  {
   "cell_type": "markdown",
   "id": "c1cd1df1",
   "metadata": {
    "slideshow": {
     "slide_type": "slide"
    }
   },
   "source": [
    "## A key problem with Modules\n",
    "\n",
    "* A large module such as tensorflow will depend on many other modules.\n",
    "* Modules change with time so you may need specific versions of \n",
    "* When you install another module it may need to install different versions of modules.\n",
    "* You may not be able to install modules \n",
    "\n",
    "There are two ways to deal with this.\n",
    "\n",
    "*  Virtual enviroments\n",
    "*  Containers, such as Docker, or virtual machine can be used"
   ]
  },
  {
   "cell_type": "markdown",
   "id": "d70f3f3b",
   "metadata": {
    "slideshow": {
     "slide_type": "slide"
    }
   },
   "source": [
    "##  Virtual enviroments\n",
    "\n",
    "* One way to deal with the problem of module dependencies is to use **virtual enviroments**\n",
    "* Essentially a **named** seperate copy of the python distribution is created for each project.\n",
    "\n",
    "* https://realpython.com/python-virtual-environments-a-primer/\n",
    "* https://www.freecodecamp.org/news/how-to-setup-virtual-environments-in-python/\n"
   ]
  },
  {
   "cell_type": "markdown",
   "id": "ff93e621",
   "metadata": {
    "slideshow": {
     "slide_type": "slide"
    }
   },
   "source": [
    "##  Conda virtual enviroment\n",
    "\n",
    "* Anaconda is a collection \n",
    "* conda is the package manager for Anaconda\n",
    "* conda can install more than \n",
    "* don't use conda and pip at the same time"
   ]
  },
  {
   "cell_type": "code",
   "execution_count": null,
   "id": "bd7510f8",
   "metadata": {},
   "outputs": [],
   "source": []
  }
 ],
 "metadata": {
  "celltoolbar": "Slideshow",
  "kernelspec": {
   "display_name": "Python 3 (ipykernel)",
   "language": "python",
   "name": "python3"
  },
  "language_info": {
   "codemirror_mode": {
    "name": "ipython",
    "version": 3
   },
   "file_extension": ".py",
   "mimetype": "text/x-python",
   "name": "python",
   "nbconvert_exporter": "python",
   "pygments_lexer": "ipython3",
   "version": "3.10.0"
  }
 },
 "nbformat": 4,
 "nbformat_minor": 5
}
