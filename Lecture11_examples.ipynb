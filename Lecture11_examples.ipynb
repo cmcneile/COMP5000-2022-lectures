{
 "cells": [
  {
   "cell_type": "markdown",
   "id": "1832d00b",
   "metadata": {
    "slideshow": {
     "slide_type": "slide"
    }
   },
   "source": [
    "# Python examples in lecture 11\n",
    "* This file is a jupyter notebook. To run it you can download it from the DLE and run it on your own machine.\n",
    "* Or you can run it on google collab <https://colab.research.google.com> via your google account. This may be slower than running on your own machine\n",
    "* Information on downloading notebooks from the store to your computer https://youtu.be/1zY7hIj5tWg"
   ]
  },
  {
   "cell_type": "markdown",
   "id": "23b7496f",
   "metadata": {
    "slideshow": {
     "slide_type": "slide"
    }
   },
   "source": [
    "###  Basic example of string manipulation  \n",
    "\n",
    "* Python has excellent string processing tools.\n",
    "* See https://greenteapress.com/thinkpython2/html/thinkpython2009.html from the book Think Python\n",
    "* The example shows how to combine two strings"
   ]
  },
  {
   "cell_type": "markdown",
   "id": "01841d60",
   "metadata": {
    "slideshow": {
     "slide_type": "slide"
    }
   },
   "source": [
    "##  Unit testing\n",
    "\n",
    "* I have been pushing the idea of iteratively improving a python code.\n",
    "\n",
    "* What happens if you make a mistake and introduce a bug, when you making changes to the code.\n",
    "\n",
    "* Unit testing is a test of a small segment of the code. These are  normally written by the programmers.\n",
    "\n",
    "* The tests can be used to help explain what the code is doing.\n",
    "\n"
   ]
  },
  {
   "cell_type": "markdown",
   "id": "6b08c352",
   "metadata": {
    "slideshow": {
     "slide_type": "slide"
    }
   },
   "source": [
    "##  Assert statement\n",
    "\n",
    "* A key building block of unit testing is the assert.\n",
    "\n",
    "<blockquote>\n",
    "An assertion is a Boolean expression at a specific point in a program\n",
    "which will be true unless there is a bug in the program.\n",
    "</blockquote>\n",
    "From http://wiki.c2.com/?WhatAreAssertions.\n",
    "\n",
    "\n",
    "\n",
    "Asserts should NOT  be used for testing user input, but just to make\n",
    "consistently checks in parts of the code.\n",
    "\n",
    "\n",
    "\n"
   ]
  },
  {
   "cell_type": "markdown",
   "id": "aee4b538",
   "metadata": {
    "slideshow": {
     "slide_type": "slide"
    }
   },
   "source": [
    "##  Example of an assert\n",
    "\n",
    "The area of a circle is $\\pi r^2$ where $r > 0$."
   ]
  },
  {
   "cell_type": "code",
   "execution_count": 1,
   "id": "b22834b0",
   "metadata": {},
   "outputs": [
    {
     "name": "stdout",
     "output_type": "stream",
     "text": [
      "Area of circle = 12.57 \n"
     ]
    }
   ],
   "source": [
    "import math\n",
    "radius = 2.0\n",
    "assert radius > 0 , \"Radius should be positive\"\n",
    "area = math.pi * radius**2\n",
    "print(\"Area of circle = {:.2f} \" . format(area))\n"
   ]
  },
  {
   "cell_type": "markdown",
   "id": "0b6070d0",
   "metadata": {},
   "source": [
    "In this case the radius was positive so no error condition was triggered."
   ]
  },
  {
   "cell_type": "markdown",
   "id": "3cd17e14",
   "metadata": {
    "slideshow": {
     "slide_type": "slide"
    }
   },
   "source": [
    "##  Example of an assert\n",
    "\n",
    "*  This is an artificial example. I assume that because of a bug in  a piece of  code, the radius is accidently set negative."
   ]
  },
  {
   "cell_type": "code",
   "execution_count": 2,
   "id": "cdde8394",
   "metadata": {},
   "outputs": [
    {
     "ename": "AssertionError",
     "evalue": "Radius should be positive",
     "output_type": "error",
     "traceback": [
      "\u001b[0;31m---------------------------------------------------------------------------\u001b[0m",
      "\u001b[0;31mAssertionError\u001b[0m                            Traceback (most recent call last)",
      "\u001b[0;32m/var/folders/6m/lb4tj5q142l1fydx4rw88kkhtkdcl_/T/ipykernel_41833/139755171.py\u001b[0m in \u001b[0;36m<module>\u001b[0;34m\u001b[0m\n\u001b[1;32m      1\u001b[0m \u001b[0;32mimport\u001b[0m \u001b[0mmath\u001b[0m\u001b[0;34m\u001b[0m\u001b[0;34m\u001b[0m\u001b[0m\n\u001b[1;32m      2\u001b[0m \u001b[0mradius\u001b[0m \u001b[0;34m=\u001b[0m \u001b[0;34m-\u001b[0m\u001b[0;36m2.0\u001b[0m\u001b[0;34m\u001b[0m\u001b[0;34m\u001b[0m\u001b[0m\n\u001b[0;32m----> 3\u001b[0;31m \u001b[0;32massert\u001b[0m \u001b[0mradius\u001b[0m \u001b[0;34m>\u001b[0m \u001b[0;36m0\u001b[0m \u001b[0;34m,\u001b[0m \u001b[0;34m\"Radius should be positive\"\u001b[0m\u001b[0;34m\u001b[0m\u001b[0;34m\u001b[0m\u001b[0m\n\u001b[0m\u001b[1;32m      4\u001b[0m \u001b[0marea\u001b[0m \u001b[0;34m=\u001b[0m \u001b[0mmath\u001b[0m\u001b[0;34m.\u001b[0m\u001b[0mpi\u001b[0m \u001b[0;34m*\u001b[0m \u001b[0mradius\u001b[0m\u001b[0;34m**\u001b[0m\u001b[0;36m2\u001b[0m\u001b[0;34m\u001b[0m\u001b[0;34m\u001b[0m\u001b[0m\n\u001b[1;32m      5\u001b[0m \u001b[0mprint\u001b[0m\u001b[0;34m(\u001b[0m\u001b[0;34m\"Area of circle = {:.2f} \"\u001b[0m\u001b[0;34m.\u001b[0m \u001b[0mformat\u001b[0m\u001b[0;34m(\u001b[0m\u001b[0marea\u001b[0m\u001b[0;34m)\u001b[0m\u001b[0;34m)\u001b[0m\u001b[0;34m\u001b[0m\u001b[0;34m\u001b[0m\u001b[0m\n",
      "\u001b[0;31mAssertionError\u001b[0m: Radius should be positive"
     ]
    }
   ],
   "source": [
    "import math\n",
    "radius = -2.0\n",
    "assert radius > 0 , \"Radius should be positive\"\n",
    "area = math.pi * radius**2\n",
    "print(\"Area of circle = {:.2f} \". format(area))"
   ]
  },
  {
   "cell_type": "markdown",
   "id": "5ed3cd24",
   "metadata": {
    "slideshow": {
     "slide_type": "slide"
    }
   },
   "source": [
    "## Using assert to test a class"
   ]
  },
  {
   "cell_type": "code",
   "execution_count": 3,
   "id": "c6204230",
   "metadata": {},
   "outputs": [
    {
     "name": "stdout",
     "output_type": "stream",
     "text": [
      "Start of unit tests\n",
      "Tests succesfully run\n"
     ]
    }
   ],
   "source": [
    "class Rectangle:\n",
    "    def __init__(self, x, y):\n",
    "        self.x = x\n",
    "        self.y = y\n",
    "    def area(self):\n",
    "        return self.x * self.y\n",
    "\n",
    "# Unit test of Rectangle class\n",
    "print(\"Start of unit tests\")\n",
    "rectangle = Rectangle(100, 45)\n",
    "assert rectangle.area() == 4500 , \"Error with area method\"\n",
    "print(\"Tests succesfully run\")\n"
   ]
  },
  {
   "cell_type": "markdown",
   "id": "4d4c723b",
   "metadata": {
    "slideshow": {
     "slide_type": "slide"
    }
   },
   "source": [
    "##  Testing framework\n",
    "\n",
    "* A unit test only tests a small part of the code.\n",
    "\n",
    "* Hence there should be many small tests.\n",
    "\n",
    "* There is the idea of coverage. How much of a code is tested by the testing framework.\n",
    "  \n",
    "* https://www.sqlite.org/testing.html SQLite has millions of tests.\n",
    "\n",
    "* It would be good to have a systematic way to run the many tests.\n",
    "\n",
    "* This motivates the use of a **testing framework.**\n",
    "\n",
    "\n",
    "We will look at the unittest testing module, which is part of\n",
    "the standard python library https://realpython.com/python-testing/"
   ]
  },
  {
   "cell_type": "markdown",
   "id": "b9ce66eb",
   "metadata": {},
   "source": [
    "##  Unit test framework\n",
    "\n",
    "* The perimeter of a rectangle is 2*(x+y), where x and y are sides of the rectangle.\n",
    "\n",
    "* Area of rectangle = x*y\n",
    "\n",
    "Tests:\n",
    "\n",
    "* x=2,y=10 area = 20 \n",
    "* x=3,y=3 area = 9\n",
    "* x=1,y=2 perimeter = 9\n",
    "\n"
   ]
  },
  {
   "cell_type": "code",
   "execution_count": 6,
   "id": "066607bf",
   "metadata": {},
   "outputs": [
    {
     "name": "stderr",
     "output_type": "stream",
     "text": [
      "E\n",
      "======================================================================\n",
      "ERROR: /Users/cmcneile/Library/Jupyter/runtime/kernel-2a077a9c-cb92-43f9-808a-043f2343bdb7 (unittest.loader._FailedTest)\n",
      "----------------------------------------------------------------------\n",
      "AttributeError: module '__main__' has no attribute '/Users/cmcneile/Library/Jupyter/runtime/kernel-2a077a9c-cb92-43f9-808a-043f2343bdb7'\n",
      "\n",
      "----------------------------------------------------------------------\n",
      "Ran 1 test in 0.001s\n",
      "\n",
      "FAILED (errors=1)\n"
     ]
    },
    {
     "ename": "SystemExit",
     "evalue": "True",
     "output_type": "error",
     "traceback": [
      "An exception has occurred, use %tb to see the full traceback.\n",
      "\u001b[0;31mSystemExit\u001b[0m\u001b[0;31m:\u001b[0m True\n"
     ]
    },
    {
     "name": "stderr",
     "output_type": "stream",
     "text": [
      "/Users/cmcneile/anaconda3/envs/pres/lib/python3.10/site-packages/IPython/core/interactiveshell.py:3465: UserWarning: To exit: use 'exit', 'quit', or Ctrl-D.\n",
      "  warn(\"To exit: use 'exit', 'quit', or Ctrl-D.\", stacklevel=1)\n"
     ]
    }
   ],
   "source": [
    "import unittest\n",
    "\n",
    "# My class\n",
    "class Rectangle:\n",
    "    def __init__(self, x, y):\n",
    "        self.x = x\n",
    "        self.y = y\n",
    "    def area(self):\n",
    "        return self.x * self.y\n",
    "    def perimeter (self):\n",
    "        return 2.0 * (self.x + self.y)\n",
    "\n",
    "# The testing framework\n",
    "class TestStringMethods(unittest.TestCase):\n",
    "\n",
    "    def test_a(self):\n",
    "        rect = Rectangle(2,10)\n",
    "        self.assertEqual(rect.area(), 20)\n",
    "\n",
    "    def test_b(self):\n",
    "        rect = Rectangle(3,3)\n",
    "        self.assertEqual(rect.area(), 9)\n",
    "\n",
    "    def test_c(self):\n",
    "        rect = Rectangle(1,2)\n",
    "        self.assertEqual(rect.perimeter(), 9)\n",
    "\n",
    "\n",
    "unittest.main()"
   ]
  },
  {
   "cell_type": "code",
   "execution_count": null,
   "id": "be6cc48d",
   "metadata": {},
   "outputs": [],
   "source": []
  }
 ],
 "metadata": {
  "celltoolbar": "Slideshow",
  "kernelspec": {
   "display_name": "Python 3 (ipykernel)",
   "language": "python",
   "name": "python3"
  },
  "language_info": {
   "codemirror_mode": {
    "name": "ipython",
    "version": 3
   },
   "file_extension": ".py",
   "mimetype": "text/x-python",
   "name": "python",
   "nbconvert_exporter": "python",
   "pygments_lexer": "ipython3",
   "version": "3.10.0"
  }
 },
 "nbformat": 4,
 "nbformat_minor": 5
}
