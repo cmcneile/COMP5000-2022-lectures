{
 "cells": [
  {
   "cell_type": "markdown",
   "id": "1832d00b",
   "metadata": {
    "slideshow": {
     "slide_type": "slide"
    }
   },
   "source": [
    "# Python examples in lecture 4\n",
    "* This file is a jupyter notebook. To run it you can download it from the DLE and run it on your own machine.\n",
    "* Or you can run it on google collab <https://colab.research.google.com> via your google account. This may be slower than running on your own machine\n",
    "* Information on downloading notebooks from the store to your computer https://youtu.be/1zY7hIj5tWg"
   ]
  },
  {
   "cell_type": "markdown",
   "id": "23b7496f",
   "metadata": {
    "slideshow": {
     "slide_type": "slide"
    }
   },
   "source": [
    "###  Basic example of string manipulation  \n",
    "\n",
    "* Python has excellent string processing tools.\n",
    "* See https://greenteapress.com/thinkpython2/html/thinkpython2009.html from the book Think Python\n",
    "* The example shows how to combine two strings"
   ]
  },
  {
   "cell_type": "markdown",
   "id": "9026b283",
   "metadata": {
    "slideshow": {
     "slide_type": "slide"
    }
   },
   "source": [
    "## Why do we need to manipulate text\n",
    "* We need to extract specific parts of a text such as names or numbers. This is a important part of data cleaning.\n",
    "* We may need correct mis-spelled words.\n",
    "* When you download web pages you get additional tags (such as \\<li\\>) that must be removed."
   ]
  },
  {
   "cell_type": "markdown",
   "id": "2c60bf7f",
   "metadata": {
    "slideshow": {
     "slide_type": "slide"
    }
   },
   "source": [
    "## Example of possible text manipulation\n",
    "\n",
    "Often we need to extract specific parts of a document\n",
    "\n",
    "List of food Cost<br>\n",
    "Cost 10 pounds meat<br>\n",
    "Cost 5  pounds fruit<br>\n",
    "Cost 2  Chocolate<br>\n",
    "\n",
    "\n",
    "In the above example we might want to extract 10,5 and 2. How\n",
    "do we match **Cost** at the start of the line.\n"
   ]
  },
  {
   "cell_type": "markdown",
   "id": "d4286902",
   "metadata": {
    "slideshow": {
     "slide_type": "slide"
    }
   },
   "source": [
    "## String manipulation methods\n",
    "\n",
    "* To deal with text files we often need to change or extract parts of the text.\n",
    "* The string class in python has some  useful tools.\n",
    "\n",
    "* https://www.w3schools.com/python/python_ref_string.asp\n",
    "\n",
    "* There are more powerful ways of manipulating strings using **regular expressions**.\n",
    "\n"
   ]
  },
  {
   "cell_type": "markdown",
   "id": "9a5705c0",
   "metadata": {},
   "source": [
    "## Example of string manipulation\n",
    "* The split method can break a string into "
   ]
  },
  {
   "cell_type": "code",
   "execution_count": 20,
   "id": "2ce9b66c",
   "metadata": {},
   "outputs": [
    {
     "name": "stdout",
     "output_type": "stream",
     "text": [
      "List list\n",
      "of of\n",
      "food food\n",
      "Cost cost\n"
     ]
    }
   ],
   "source": [
    "sentence = \"List of food Cost\"\n",
    "sentence_list = sentence.split()\n",
    "for xx in sentence_list :\n",
    "    print(xx, xx.lower() )\n"
   ]
  },
  {
   "cell_type": "markdown",
   "id": "93ce658b",
   "metadata": {
    "slideshow": {
     "slide_type": "slide"
    }
   },
   "source": [
    "## Searching strings\n",
    "\n",
    "* There are commands to search for substrings in strings. \n",
    "* These return the first position of the substring, or -1 if the substring is not part of the string."
   ]
  },
  {
   "cell_type": "code",
   "execution_count": 21,
   "id": "f7bcbfc9",
   "metadata": {},
   "outputs": [
    {
     "name": "stdout",
     "output_type": "stream",
     "text": [
      "Location of of   5\n",
      "Location of blue  -1\n"
     ]
    }
   ],
   "source": [
    "text = \"List of food Cost\"\n",
    "xxx = text.find(\"of\") \n",
    "print (\"Location of of  \" ,  xxx)\n",
    "yyy = text.find(\"blue\") \n",
    "print (\"Location of blue \" ,  yyy)"
   ]
  },
  {
   "cell_type": "code",
   "execution_count": 22,
   "id": "dc4e83a1",
   "metadata": {},
   "outputs": [
    {
     "name": "stdout",
     "output_type": "stream",
     "text": [
      "<li> The first example\n",
      "The first example\n",
      "The First Example\n"
     ]
    }
   ],
   "source": [
    "name = \"<li> The first example\"\n",
    "namer = name.replace(\"<li> \" , \"\")\n",
    "print(name)\n",
    "print(namer)\n",
    "namerA = namer.title()\n",
    "print(namerA)"
   ]
  },
  {
   "cell_type": "markdown",
   "id": "d7a04c9d",
   "metadata": {
    "slideshow": {
     "slide_type": "slide"
    }
   },
   "source": [
    "## Further string manipulation\n",
    "\n",
    "* How do we search for a word at the start or end of a string?\n",
    "* How do you search for a pattern \n",
    "\n",
    "Regular expressions are a powerful way to search and replace strings"
   ]
  },
  {
   "cell_type": "markdown",
   "id": "2c410554",
   "metadata": {
    "slideshow": {
     "slide_type": "slide"
    }
   },
   "source": [
    "##  Introduction to regular expressions\n",
    "\n",
    "* Regular expressions are a powerful way to manipulate text,\n",
    "* There is a module called **re**\n",
    "* Regular expression can search and replace text.\n",
    "* Regular expressions can replace parts of strings.\n",
    "* There is a powerful syntax of manipulating strings, which is similar in many computer languages.\n",
    "\n",
    "\n",
    "\n",
    "I am not going to discuss the performance of regular expressions,\n",
    "because I personally only use them for small strings.\n"
   ]
  },
  {
   "cell_type": "markdown",
   "id": "05cf40d2",
   "metadata": {
    "slideshow": {
     "slide_type": "slide"
    }
   },
   "source": [
    "## Using regular expressions to replace text\n",
    "\n",
    "* The regular expressions are part of a module called **re**\n",
    "* The function **re.sub** can replace parts of strings.\n"
   ]
  },
  {
   "cell_type": "code",
   "execution_count": 23,
   "id": "5b5e6e0f",
   "metadata": {},
   "outputs": [
    {
     "name": "stdout",
     "output_type": "stream",
     "text": [
      "Email: Dear Roger, You didn't get the job.\n",
      "Email: Dear Mary, You didn't get the job.\n"
     ]
    }
   ],
   "source": [
    "import re\n",
    "Email = \"Dear Name, You didn't get the job.\"\n",
    "for name in [ \"Roger\" , \"Mary\" ]  :\n",
    "    EmailOut = re.sub(\"Name\", name, Email)\n",
    "    print (\"Email:\", EmailOut)"
   ]
  },
  {
   "cell_type": "markdown",
   "id": "1ac6225f",
   "metadata": {},
   "source": [
    "The string **EmailOut** would be sent to a \n",
    "function that sends out an\n",
    "email."
   ]
  },
  {
   "cell_type": "markdown",
   "id": "4143db8b",
   "metadata": {
    "slideshow": {
     "slide_type": "slide"
    }
   },
   "source": [
    "## Regular expressions\n",
    "\n",
    "There are some special symbols which match generic patterns.\n",
    "\n",
    "\n",
    "* . this matches any character except a newline\n",
    "* $ Matches the end of the string or just before the newline at the end of the string.\n",
    "* \\d  matches any digit (0 - 9)\n",
    "* \\*  repeats the previous expressions as many times as possible.\n",
    "* \\S matches any white space character.\n",
    "* \\D matches any non-digit character.\n",
    "\n",
    "This is a topic where it is helpful to see some examples.\n"
   ]
  },
  {
   "cell_type": "code",
   "execution_count": 24,
   "id": "e3b428bd",
   "metadata": {},
   "outputs": [
    {
     "name": "stdout",
     "output_type": "stream",
     "text": [
      "List of food Cost\n",
      "Cost 10 pounds meat\n",
      "Cost 5 pounds fruit\n",
      "Cost 2 Chocolate\n",
      ">  L\n",
      ">  i\n",
      ">  s\n",
      ">  t\n",
      ">   \n",
      ">  o\n",
      ">  f\n",
      ">   \n",
      ">  f\n",
      ">  o\n",
      ">  o\n",
      ">  d\n",
      ">   \n",
      ">  C\n",
      ">  o\n",
      ">  s\n",
      ">  t\n",
      ">  \n",
      "\n",
      ">  C\n",
      ">  o\n",
      ">  s\n",
      ">  t\n",
      ">   \n",
      ">  1\n",
      ">  0\n",
      ">   \n",
      ">  p\n",
      ">  o\n",
      ">  u\n",
      ">  n\n",
      ">  d\n",
      ">  s\n",
      ">   \n",
      ">  m\n",
      ">  e\n",
      ">  a\n",
      ">  t\n",
      ">  \n",
      "\n",
      ">  C\n",
      ">  o\n",
      ">  s\n",
      ">  t\n",
      ">   \n",
      ">  5\n",
      ">   \n",
      ">  p\n",
      ">  o\n",
      ">  u\n",
      ">  n\n",
      ">  d\n",
      ">  s\n",
      ">   \n",
      ">  f\n",
      ">  r\n",
      ">  u\n",
      ">  i\n",
      ">  t\n",
      ">  \n",
      "\n",
      ">  C\n",
      ">  o\n",
      ">  s\n",
      ">  t\n",
      ">   \n",
      ">  2\n",
      ">   \n",
      ">  C\n",
      ">  h\n",
      ">  o\n",
      ">  c\n",
      ">  o\n",
      ">  l\n",
      ">  a\n",
      ">  t\n",
      ">  e\n"
     ]
    }
   ],
   "source": [
    "xxx = \"\"\"List of food Cost\n",
    "Cost 10 pounds meat\n",
    "Cost 5 pounds fruit\n",
    "Cost 2 Chocolate\"\"\" \n",
    "\n",
    "print(xxx)\n",
    "for xxx_ in xxx:\n",
    "    print(\"> \", xxx_)"
   ]
  },
  {
   "cell_type": "code",
   "execution_count": 25,
   "id": "9baff199",
   "metadata": {},
   "outputs": [
    {
     "name": "stdout",
     "output_type": "stream",
     "text": [
      "Cost is the string\n",
      "Cost is at the end \n"
     ]
    }
   ],
   "source": [
    "import re\n",
    "xxx = \"List of food Cost\"\n",
    "\n",
    "if \"Cost\" in xxx :\n",
    "    print(\"Cost is the string\")\n",
    "    \n",
    "if re.search(r\"Cost$\" , xxx) :\n",
    "    print(\"Cost is at the end \")\n",
    "\n",
    "if re.search(r\"^Cost\" , xxx) :\n",
    "    print(\"Cost is at the start\")\n",
    "\n",
    "\n"
   ]
  },
  {
   "cell_type": "code",
   "execution_count": 26,
   "id": "0d6a0d7f",
   "metadata": {},
   "outputs": [
    {
     "name": "stdout",
     "output_type": "stream",
     "text": [
      "Cost is at the end \n",
      "Cost is at the start\n"
     ]
    }
   ],
   "source": [
    "def look_for_Cost(xxx) :\n",
    "    if re.search(r\"Cost$\" , xxx) :   # match at end of string\n",
    "        print(\"Cost is at the end \")\n",
    "\n",
    "    if re.search(r\"^Cost\" , xxx) :  # match at start of string\n",
    "       print(\"Cost is at the start\")\n",
    "\n",
    "look_for_Cost(\"List of food Cost\")\n",
    "look_for_Cost(\"Cost 10 pounds meat\")"
   ]
  },
  {
   "cell_type": "markdown",
   "id": "1090bd14",
   "metadata": {
    "slideshow": {
     "slide_type": "slide"
    }
   },
   "source": [
    "##  Examples of Regular expressions"
   ]
  },
  {
   "cell_type": "code",
   "execution_count": 11,
   "id": "b1256d17",
   "metadata": {},
   "outputs": [
    {
     "name": "stdout",
     "output_type": "stream",
     "text": [
      "Student ID 5674231\n"
     ]
    }
   ],
   "source": [
    "import re\n",
    "input =  \"My name is Roger and my ID is 5674231\"\n",
    "inputr= re.sub(\"\\D\", \"\", input)\n",
    "print(\"Student ID\", inputr)"
   ]
  },
  {
   "cell_type": "markdown",
   "id": "c7195082",
   "metadata": {
    "slideshow": {
     "slide_type": "slide"
    }
   },
   "source": [
    "##  Example of Regular expressions\n",
    "\n",
    "Extract a phone number from a string.\n"
   ]
  },
  {
   "cell_type": "code",
   "execution_count": 12,
   "id": "969a70a6",
   "metadata": {},
   "outputs": [
    {
     "name": "stdout",
     "output_type": "stream",
     "text": [
      "Input  2004-959-559 # This is Phone Number\n",
      "Phone Num :  2004-959-559 \n",
      "Phone Num :  2004959559\n"
     ]
    }
   ],
   "source": [
    "import re\n",
    "phone = \"2004-959-559 # This is Phone Number\"\n",
    "print (\"Input \" , phone)\n",
    "# Delete Python-style comments\n",
    "num = re.sub(r'#.*$', \"\", phone)\n",
    "print (\"Phone Num : \", num)\n",
    "# Remove anything other than digits\n",
    "num = re.sub(r'\\D', \"\", phone)    \n",
    "print (\"Phone Num : \", num)\n"
   ]
  },
  {
   "cell_type": "markdown",
   "id": "5a5423a6",
   "metadata": {
    "slideshow": {
     "slide_type": "slide"
    }
   },
   "source": [
    "## Summary of regular expressions"
   ]
  },
  {
   "cell_type": "markdown",
   "id": "04cb90c4",
   "metadata": {},
   "source": [
    "note"
   ]
  },
  {
   "cell_type": "markdown",
   "id": "8d60a11d",
   "metadata": {
    "slideshow": {
     "slide_type": "slide"
    }
   },
   "source": [
    "## The power of regular expressions\n",
    "\n",
    "So far we can do simple replacements of substrings.\n",
    "\n",
    "* I will show some more sophisticated examples, but you need to read the documentation to fully use all the tricks.\n",
    "* See the documentation https://docs.python.org/2/library/re.html\n",
    "* Regular expressions are a langauge.\n",
    "* Once you have understood the basics, the ideas are similar in most languages."
   ]
  },
  {
   "cell_type": "markdown",
   "id": "9d4c0847",
   "metadata": {
    "slideshow": {
     "slide_type": "slide"
    }
   },
   "source": [
    "##  My history with regular expressions"
   ]
  },
  {
   "cell_type": "markdown",
   "id": "c0e87f2c",
   "metadata": {},
   "source": [
    "* I started using regular expressions with UNIX tools: grep, sed, awk.\n",
    "* I then used regular expressions with a language called perl\n",
    "* I don't use the full power of regular expressions.\n",
    "\n",
    "![RegBook](https://m.media-amazon.com/images/I/51s3zpVhkYL._SX260_.jpg)"
   ]
  },
  {
   "cell_type": "markdown",
   "id": "d8f4e155",
   "metadata": {
    "slideshow": {
     "slide_type": "slide"
    }
   },
   "source": [
    "## Background to regular expressions\n",
    "\n",
    "There is a long history of regular expressions.\n",
    "\n",
    "* A regular expression (shortened as regex or regexp) is a sequence of characters that define a search pattern. \n",
    "* The concept arose in the 1950s when the American mathematician Stephen Cole Kleene formalized the description of a regular language\n",
    "* The first computer implementations were in the late 1960s.\n",
    "\n",
    "\n",
    "More detail at https://en.wikipedia.org/wiki/Regular_expression\n",
    "and the book:\n",
    "Mastering Regular Expressions: Understand Your Data and Be More\n",
    "Productive \n",
    "by Jeffrey E. F. Friedl ."
   ]
  },
  {
   "cell_type": "markdown",
   "id": "b3d53ff0",
   "metadata": {
    "slideshow": {
     "slide_type": "slide"
    }
   },
   "source": [
    "## Natural Language processing\n",
    "\n",
    "Regular expressions allow us to split up a text\n",
    "and split it into sub parts.\n",
    "\n",
    "* The next step is Natural Language Processing NLP, where the library knows the structure of English.\n",
    "* Natural Language Toolkit library in python https://www.nltk.org/\n",
    "\n",
    "One of the professions that AI may radically change is lawyers.\n",
    "For example, \"Will A.I. Put Lawyers Out Of Business?\" \n",
    "https://www.forbes.com/sites/cognitiveworld/2019/02/09/will-a-i-put-lawyers-out-of-business/?sh=4df4c25131f0 .\n",
    "\n",
    "For example, NLP is used to extract information from legal \n",
    "contracts https://pythonawesome.com/a-spacy-pipeline-and-model-for-nlp-on-unstructured-legal-text/ .\n"
   ]
  },
  {
   "cell_type": "markdown",
   "id": "956cb021",
   "metadata": {
    "slideshow": {
     "slide_type": "slide"
    }
   },
   "source": [
    "## Basic example of a nltk \n",
    "*  You may need to install the nltk module  https://anaconda.org/anaconda/nltk\n",
    "* So nltk knows about punctuation, so it is more "
   ]
  },
  {
   "cell_type": "code",
   "execution_count": 3,
   "id": "6b4fd75d",
   "metadata": {},
   "outputs": [
    {
     "name": "stdout",
     "output_type": "stream",
     "text": [
      "At eight o'clock on Thursday morning\n",
      "Arthur didn't feel very good, but he tested negative for COVID.\n",
      "['At', 'eight', \"o'clock\", 'on', 'Thursday', 'morning', 'Arthur', 'did', \"n't\", 'feel', 'very', 'good', ',', 'but', 'he', 'tested', 'negative', 'for', 'COVID', '.']\n"
     ]
    },
    {
     "name": "stderr",
     "output_type": "stream",
     "text": [
      "[nltk_data] Downloading package punkt to /Users/cmcneile/nltk_data...\n",
      "[nltk_data]   Package punkt is already up-to-date!\n"
     ]
    }
   ],
   "source": [
    "import nltk\n",
    "nltk.download('punkt')\n",
    "\n",
    "sentence = \"\"\"At eight o'clock on Thursday morning\n",
    "Arthur didn't feel very good, but he tested negative for COVID.\"\"\"\n",
    "tokens = nltk.word_tokenize(sentence)\n",
    "\n",
    "print(sentence)\n",
    "print(tokens)"
   ]
  },
  {
   "cell_type": "code",
   "execution_count": null,
   "id": "e767e2dd",
   "metadata": {},
   "outputs": [],
   "source": []
  }
 ],
 "metadata": {
  "celltoolbar": "Slideshow",
  "kernelspec": {
   "display_name": "Python 3 (ipykernel)",
   "language": "python",
   "name": "python3"
  },
  "language_info": {
   "codemirror_mode": {
    "name": "ipython",
    "version": 3
   },
   "file_extension": ".py",
   "mimetype": "text/x-python",
   "name": "python",
   "nbconvert_exporter": "python",
   "pygments_lexer": "ipython3",
   "version": "3.10.0"
  }
 },
 "nbformat": 4,
 "nbformat_minor": 5
}
