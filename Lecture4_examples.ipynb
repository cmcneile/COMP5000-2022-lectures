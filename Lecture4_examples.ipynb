{
 "cells": [
  {
   "cell_type": "markdown",
   "id": "1832d00b",
   "metadata": {
    "slideshow": {
     "slide_type": "slide"
    }
   },
   "source": [
    "# Python examples in lecture 4\n",
    "* This file is a jupyter notebook. To run it you can download it from the DLE and run it on your own machine.\n",
    "* Or you can run it on google collab <https://colab.research.google.com> via your google account. This may be slower than running on your own machine\n",
    "* Information on downloading notebooks from the store to your computer https://youtu.be/1zY7hIj5tWg"
   ]
  },
  {
   "cell_type": "markdown",
   "id": "23b7496f",
   "metadata": {
    "slideshow": {
     "slide_type": "slide"
    }
   },
   "source": [
    "###  Basic example of string manipulation  \n",
    "\n",
    "* Python has excellent string processing tools.\n",
    "* See https://greenteapress.com/thinkpython2/html/thinkpython2009.html from the book Think Python\n",
    "* The example shows how to combine two strings"
   ]
  },
  {
   "cell_type": "markdown",
   "id": "2c60bf7f",
   "metadata": {
    "slideshow": {
     "slide_type": "slide"
    }
   },
   "source": [
    "## Why do we need to manipulate text\n",
    "* text\n"
   ]
  },
  {
   "cell_type": "markdown",
   "id": "d4286902",
   "metadata": {},
   "source": [
    "## String manipulation methods"
   ]
  },
  {
   "cell_type": "markdown",
   "id": "2c410554",
   "metadata": {
    "slideshow": {
     "slide_type": "slide"
    }
   },
   "source": [
    "##  Introduction to regular expressions\n",
    "\n",
    "* Regular expressions are a powerful way to manipulate text,\n",
    "* There is a module called **re**\n",
    "* Regular expression can search and replace text.\n",
    "* Regular expressions can replace parts of strings.\n",
    "* There is a powerful syntax of manipulating strings, which is similar in many computer languages.\n",
    "\n",
    "\n",
    "\n",
    "I am not going to discuss the performance of regular expressions,\n",
    "as I personally only use them for small strings.\n"
   ]
  },
  {
   "cell_type": "markdown",
   "id": "05cf40d2",
   "metadata": {
    "slideshow": {
     "slide_type": "slide"
    }
   },
   "source": [
    "## Basic replacing text\n",
    "\n",
    "The function **re.sub** can replace parts of strings.\n"
   ]
  },
  {
   "cell_type": "code",
   "execution_count": 9,
   "id": "5b5e6e0f",
   "metadata": {},
   "outputs": [
    {
     "name": "stdout",
     "output_type": "stream",
     "text": [
      "Email: Dear Roger, You didn't get the job.\n",
      "Email: Dear Mary, You didn't get the job.\n"
     ]
    }
   ],
   "source": [
    "import re\n",
    "Email = \"Dear Name, You didn't get the job.\"\n",
    "for name in [ \"Roger\" , \"Mary\" ]  :\n",
    "    EmailOut = re.sub(\"Name\", name, Email)\n",
    "    print (\"Email:\", EmailOut)"
   ]
  },
  {
   "cell_type": "markdown",
   "id": "1ac6225f",
   "metadata": {},
   "source": [
    "The string **EmailOut** would be sent to a \n",
    "function that sends out an\n",
    "email."
   ]
  },
  {
   "cell_type": "markdown",
   "id": "4143db8b",
   "metadata": {
    "slideshow": {
     "slide_type": "slide"
    }
   },
   "source": [
    "## Regular expressions\n",
    "\n",
    "There are some special symbols which match generic patterns.\n",
    "\n",
    "\n",
    "* . this matches any character except a newline\n",
    "* $ Matches the end of the string or just before the newline at the end of the string.\n",
    "* \\d  matches any digit (0 - 9)\n",
    "* \\*  repeats the previous expressions as many times as possible.\n",
    "* \\S matches any white space character.\n",
    "* \\D matches any non-digit character.\n",
    "\n",
    "This is a topic where it is helpful to see some examples.\n"
   ]
  },
  {
   "cell_type": "code",
   "execution_count": 10,
   "id": "65fb71f1",
   "metadata": {},
   "outputs": [
    {
     "name": "stdout",
     "output_type": "stream",
     "text": [
      "Warning *> And another rule. <*  starts with And\n"
     ]
    }
   ],
   "source": [
    "## Examples of Regular expression\n",
    "\n",
    "import re \n",
    "def gram_check(input) :\n",
    "    if re.search(r\"^And\", input) :\n",
    "      print(\"Warning *>\",input,\"<*  starts with And\")\n",
    "\n",
    "gram_check(\"And another rule.\") \n",
    "gram_check(\"Hello And\") "
   ]
  },
  {
   "cell_type": "markdown",
   "id": "1090bd14",
   "metadata": {
    "slideshow": {
     "slide_type": "slide"
    }
   },
   "source": [
    "##  Examples of Regular expressions"
   ]
  },
  {
   "cell_type": "code",
   "execution_count": 11,
   "id": "b1256d17",
   "metadata": {},
   "outputs": [
    {
     "name": "stdout",
     "output_type": "stream",
     "text": [
      "Student ID 5674231\n"
     ]
    }
   ],
   "source": [
    "import re\n",
    "input =  \"My name is Roger and my ID is 5674231\"\n",
    "inputr= re.sub(\"\\D\", \"\", input)\n",
    "print(\"Student ID\", inputr)"
   ]
  },
  {
   "cell_type": "markdown",
   "id": "c7195082",
   "metadata": {
    "slideshow": {
     "slide_type": "slide"
    }
   },
   "source": [
    "##  Example of Regular expressions\n",
    "\n",
    "Extract a phone number from a string.\n"
   ]
  },
  {
   "cell_type": "code",
   "execution_count": 12,
   "id": "969a70a6",
   "metadata": {},
   "outputs": [
    {
     "name": "stdout",
     "output_type": "stream",
     "text": [
      "Input  2004-959-559 # This is Phone Number\n",
      "Phone Num :  2004-959-559 \n",
      "Phone Num :  2004959559\n"
     ]
    }
   ],
   "source": [
    "import re\n",
    "phone = \"2004-959-559 # This is Phone Number\"\n",
    "print (\"Input \" , phone)\n",
    "# Delete Python-style comments\n",
    "num = re.sub(r'#.*$', \"\", phone)\n",
    "print (\"Phone Num : \", num)\n",
    "# Remove anything other than digits\n",
    "num = re.sub(r'\\D', \"\", phone)    \n",
    "print (\"Phone Num : \", num)\n"
   ]
  },
  {
   "cell_type": "markdown",
   "id": "5a5423a6",
   "metadata": {
    "slideshow": {
     "slide_type": "slide"
    }
   },
   "source": [
    "## Summary of regular expressions"
   ]
  },
  {
   "cell_type": "markdown",
   "id": "04cb90c4",
   "metadata": {},
   "source": [
    "note"
   ]
  },
  {
   "cell_type": "markdown",
   "id": "8d60a11d",
   "metadata": {
    "slideshow": {
     "slide_type": "slide"
    }
   },
   "source": [
    "## The power of regular expressions\n",
    "\n",
    "So far we can do simple replacements of substrings.\n",
    "\n",
    "* I will show some more sophisticated examples, but you need to read the documentation to fully use all the tricks.\n",
    "* See the documentation https://docs.python.org/2/library/re.html\n",
    "* Regular expressions are a langauge.\n",
    "* Once you have understood the basics, the ideas are similar in most languages."
   ]
  },
  {
   "cell_type": "markdown",
   "id": "9d4c0847",
   "metadata": {
    "slideshow": {
     "slide_type": "slide"
    }
   },
   "source": [
    "##  My history with regular expressions"
   ]
  },
  {
   "cell_type": "markdown",
   "id": "c0e87f2c",
   "metadata": {},
   "source": [
    "* I started using regular expressions with UNIX tools: grep, sed, awk.\n",
    "* I then used regular expressions with a language called perl\n",
    "* I don't use the full power of regular expressions.\n",
    "\n",
    "![RegBook](https://m.media-amazon.com/images/I/51s3zpVhkYL._SX260_.jpg)"
   ]
  },
  {
   "cell_type": "markdown",
   "id": "d8f4e155",
   "metadata": {
    "slideshow": {
     "slide_type": "slide"
    }
   },
   "source": [
    "## Background to regular expressions\n",
    "\n",
    "There is a long history of regular expressions.\n",
    "\n",
    "* A regular expression (shortened as regex or regexp) is a sequence of characters that define a search pattern. \n",
    "* The concept arose in the 1950s when the American mathematician Stephen Cole Kleene formalized the description of a regular language\n",
    "* The first computer implementations were in the late 1960s.\n",
    "\n",
    "\n",
    "More detail at https://en.wikipedia.org/wiki/Regular_expression\n",
    "and the book:\n",
    "Mastering Regular Expressions: Understand Your Data and Be More\n",
    "Productive \n",
    "by Jeffrey E. F. Friedl ."
   ]
  },
  {
   "cell_type": "markdown",
   "id": "b3d53ff0",
   "metadata": {
    "slideshow": {
     "slide_type": "slide"
    }
   },
   "source": [
    "## Natural Language processing\n",
    "\n",
    "Regular expressions allow us to split up a text\n",
    "and split it into sub parts.\n",
    "\n",
    "* The next step is Natural Language Processing NLP, where the library knows the structure of English.\n",
    "* Natural Language Toolkit library in python https://www.nltk.org/\n",
    "\n",
    "One of the professions that AI may radically change is lawyers.\n",
    "For example, \"Will A.I. Put Lawyers Out Of Business?\" \n",
    "https://www.forbes.com/sites/cognitiveworld/2019/02/09/will-a-i-put-lawyers-out-of-business/?sh=4df4c25131f0 .\n",
    "\n",
    "For example, NLP is used to extract information from legal \n",
    "contracts https://pythonawesome.com/a-spacy-pipeline-and-model-for-nlp-on-unstructured-legal-text/ .\n"
   ]
  },
  {
   "cell_type": "code",
   "execution_count": null,
   "id": "7825f400",
   "metadata": {},
   "outputs": [],
   "source": []
  },
  {
   "cell_type": "code",
   "execution_count": null,
   "id": "6b4fd75d",
   "metadata": {},
   "outputs": [],
   "source": []
  }
 ],
 "metadata": {
  "celltoolbar": "Slideshow",
  "kernelspec": {
   "display_name": "Python 3",
   "language": "python",
   "name": "python3"
  },
  "language_info": {
   "codemirror_mode": {
    "name": "ipython",
    "version": 3
   },
   "file_extension": ".py",
   "mimetype": "text/x-python",
   "name": "python",
   "nbconvert_exporter": "python",
   "pygments_lexer": "ipython3",
   "version": "3.9.4"
  }
 },
 "nbformat": 4,
 "nbformat_minor": 5
}
