{
 "cells": [
  {
   "cell_type": "markdown",
   "id": "1832d00b",
   "metadata": {},
   "source": [
    "# Python examples in lecture 2\n",
    "* This file is a jupyter notebook. To run it you should download it and run it on your own machine.\n",
    "* Or you can run it on google collab <https://colab.research.google.com> via your google account. This may be slower than running on your own machine\n",
    "* Information on downloading notebooks from the store to your computer https://youtu.be/1zY7hIj5tWg"
   ]
  },
  {
   "cell_type": "markdown",
   "id": "23b7496f",
   "metadata": {},
   "source": [
    "###  First example \n",
    "\n",
    "* Python has excellent string processing tools.\n",
    "The example shows how to combine two strings"
   ]
  },
  {
   "cell_type": "code",
   "execution_count": 1,
   "id": "535359b3",
   "metadata": {},
   "outputs": [
    {
     "name": "stdout",
     "output_type": "stream",
     "text": [
      "Hello  World \n"
     ]
    }
   ],
   "source": [
    "one = \"Hello \"\n",
    "two = \"World \"\n",
    "three = one + \" \" + two\n",
    "print (three)"
   ]
  },
  {
   "cell_type": "markdown",
   "id": "dd2e3182",
   "metadata": {},
   "source": [
    "* Strings are a class, so there are additional ways to manipulate\n",
    "strings.\n",
    "* We will discuss classes and objects later.\n",
    "* For example **.upper()** is known as a method. It converts a\n",
    "string to uppercase."
   ]
  },
  {
   "cell_type": "code",
   "execution_count": 3,
   "id": "49999852",
   "metadata": {},
   "outputs": [
    {
     "name": "stdout",
     "output_type": "stream",
     "text": [
      "Hello World\n",
      "HELLO WORLD\n"
     ]
    }
   ],
   "source": [
    "x = str(\"Hello World\")\n",
    "print(x)\n",
    "print(x.upper())"
   ]
  },
  {
   "cell_type": "markdown",
   "id": "3743614d",
   "metadata": {},
   "source": [
    "It is easy to break down a string in terms of characters."
   ]
  },
  {
   "cell_type": "code",
   "execution_count": 4,
   "id": "6eebed2f",
   "metadata": {},
   "outputs": [
    {
     "name": "stdout",
     "output_type": "stream",
     "text": [
      "AbC\n",
      "A\n",
      "b\n",
      "C\n"
     ]
    }
   ],
   "source": [
    "x = \"AbC\"\n",
    "print (x)\n",
    "print (x[0])\n",
    "print (x[1])\n",
    "print (x[2])"
   ]
  },
  {
   "cell_type": "markdown",
   "id": "0eeefcde",
   "metadata": {},
   "source": [
    "There are better ways to search strings."
   ]
  },
  {
   "cell_type": "markdown",
   "id": "6e360741",
   "metadata": {},
   "source": [
    "* It is easy to break down a string in terms of words. \n",
    "* This is the basis of the analysis of text."
   ]
  },
  {
   "cell_type": "code",
   "execution_count": 5,
   "id": "fa66c082",
   "metadata": {},
   "outputs": [
    {
     "name": "stdout",
     "output_type": "stream",
     "text": [
      "The\n",
      "red\n",
      "owl\n"
     ]
    }
   ],
   "source": [
    "text = \"The red owl\"\n",
    "ans = text.split()\n",
    "for xxx in ans:\n",
    "    print (xxx)"
   ]
  },
  {
   "cell_type": "markdown",
   "id": "a4b0e27c",
   "metadata": {},
   "source": [
    "## Introduction to dictionaries\n",
    "* Sometimes it is more convenient to use say text strings to \"index a list\". \n",
    "* In the example below of the country with economic GDP value. \n",
    "* It is clearer to use the country name to reference the GDP value.\n",
    "* More information on dictionaries at https://www.w3schools.com/python/python_dictionaries.asp\n"
   ]
  },
  {
   "cell_type": "code",
   "execution_count": 7,
   "id": "5b0193fa",
   "metadata": {},
   "outputs": [
    {
     "name": "stdout",
     "output_type": "stream",
     "text": [
      "USA 18558130\n",
      "China 11383030\n"
     ]
    }
   ],
   "source": [
    "gdp  = {'United States': '18558130', \n",
    "'China': 11383030, 'Japan': '4412600'}\n",
    "print (\"USA\", gdp['United States'])\n",
    "print (\"China\", gdp['China'])\n",
    "gdp['Japan'] = 4412600"
   ]
  },
  {
   "cell_type": "code",
   "execution_count": 9,
   "id": "c2fbf4ed",
   "metadata": {},
   "outputs": [
    {
     "name": "stdout",
     "output_type": "stream",
     "text": [
      "Country and GDP in dollars\n",
      "United States 18558130\n",
      "China 11383030\n",
      "Japan 4412600\n"
     ]
    }
   ],
   "source": [
    "dict = {'United States': '18558130', \n",
    "'China': 11383030, 'Japan': '4412600'}\n",
    "print (\"Country and GDP in dollars\")\n",
    "for xxx in dict.keys() :\n",
    "    print (xxx , dict[xxx] )"
   ]
  },
  {
   "cell_type": "markdown",
   "id": "0482ca96",
   "metadata": {},
   "source": [
    "## Data types in python\n",
    "* The basic building blocks of python programs are variables.\n",
    "* Variables have different type (example; integer, float or string)\n",
    "* See <https://www.w3schools.com/python/python_datatypes.asp> for more information about data types"
   ]
  },
  {
   "cell_type": "code",
   "execution_count": null,
   "id": "49ff64ea",
   "metadata": {},
   "outputs": [],
   "source": []
  },
  {
   "cell_type": "code",
   "execution_count": null,
   "id": "3df76020",
   "metadata": {},
   "outputs": [],
   "source": []
  },
  {
   "cell_type": "code",
   "execution_count": null,
   "id": "a7fff929",
   "metadata": {},
   "outputs": [],
   "source": [
    "# x is an integer\n",
    "x = 10\n",
    "# y is a float\n",
    "y = 3.45\n",
    "# z is a string\n",
    "z = \"Hello\"\n",
    "# a is a boolean\n",
    "a = True"
   ]
  },
  {
   "cell_type": "markdown",
   "id": "bdf65075",
   "metadata": {},
   "source": [
    "##  Example of a list\n",
    "\n",
    "* Often we need to build collections of variables\n",
    "* Often use a list to store many variables\n",
    "* See https://www.w3schools.com/python/python_lists.asp"
   ]
  },
  {
   "cell_type": "code",
   "execution_count": null,
   "id": "78c74761",
   "metadata": {},
   "outputs": [],
   "source": []
  },
  {
   "cell_type": "markdown",
   "id": "7c91a69e",
   "metadata": {},
   "source": [
    "## Example of a tuple\n",
    "* Another way of collection variables is to use a tuple \n",
    "* See  https://www.w3schools.com/python/python_tuples.asp\n",
    "* Tuple is similar to a list, but a tuple can not be changed.\n"
   ]
  },
  {
   "cell_type": "code",
   "execution_count": null,
   "id": "26911215",
   "metadata": {},
   "outputs": [],
   "source": []
  },
  {
   "cell_type": "markdown",
   "id": "b47efa06",
   "metadata": {},
   "source": [
    "## Example of a loop\n",
    "* Often we want to process each element of a list\n",
    "* https://www.w3schools.com/python/python_for_loops.asp"
   ]
  },
  {
   "cell_type": "code",
   "execution_count": 4,
   "id": "2e637b9d",
   "metadata": {},
   "outputs": [
    {
     "name": "stdout",
     "output_type": "stream",
     "text": [
      "23\n",
      "14\n",
      "6\n",
      "8\n"
     ]
    }
   ],
   "source": []
  },
  {
   "cell_type": "markdown",
   "id": "e2512f1b",
   "metadata": {},
   "source": [
    "## Conditional statement\n",
    "* We need to be able to do things depending on value\n",
    "* See  https://www.w3schools.com/python/python_conditions.asp for more information"
   ]
  },
  {
   "cell_type": "code",
   "execution_count": null,
   "id": "f14fcb11",
   "metadata": {},
   "outputs": [],
   "source": [
    "\n"
   ]
  },
  {
   "cell_type": "markdown",
   "id": "64ca6d8d",
   "metadata": {},
   "source": [
    "##  Example of reading from the keyboard\n",
    "Normally we need some input to start the program"
   ]
  },
  {
   "cell_type": "code",
   "execution_count": null,
   "id": "822d85ea",
   "metadata": {},
   "outputs": [],
   "source": []
  },
  {
   "cell_type": "markdown",
   "id": "1ae69c85",
   "metadata": {},
   "source": [
    "What if we want to input an age in years which is an integer\n",
    "The input command always return a string"
   ]
  },
  {
   "cell_type": "code",
   "execution_count": null,
   "id": "7f0b8cd4",
   "metadata": {},
   "outputs": [],
   "source": []
  },
  {
   "cell_type": "markdown",
   "id": "8e136aec",
   "metadata": {},
   "source": [
    "The function int(x) converts the string x into an integer"
   ]
  },
  {
   "cell_type": "markdown",
   "id": "0848ede7",
   "metadata": {},
   "source": [
    "##  Example of a code\n",
    "* Write a program to compute the mean of 67, 80, 39, 36\n",
    "* We have a calculated (67+ 80+ 39+ 36)/4 = 55.5 as a test case"
   ]
  },
  {
   "cell_type": "code",
   "execution_count": 5,
   "id": "b805cb53",
   "metadata": {},
   "outputs": [
    {
     "name": "stdout",
     "output_type": "stream",
     "text": [
      "55.5\n"
     ]
    }
   ],
   "source": [
    "# First attempt\n",
    "v = [ 67, 80, 39, 36]\n",
    "m = 0\n",
    "for x in v :\n",
    "   m += x\n",
    "m = m / 4\n",
    "print(m)\n",
    "\n"
   ]
  },
  {
   "cell_type": "markdown",
   "id": "2f8d721b",
   "metadata": {},
   "source": [
    "We can improve the code by making it so it will work for any list (rather than a list of 4 elements)"
   ]
  },
  {
   "cell_type": "code",
   "execution_count": 7,
   "id": "f7113924",
   "metadata": {},
   "outputs": [
    {
     "name": "stdout",
     "output_type": "stream",
     "text": [
      "55.5\n",
      "4\n"
     ]
    }
   ],
   "source": [
    "# Second attempt\n",
    "v = [ 67, 80, 39, 36]\n",
    "m = 0\n",
    "for x in v :\n",
    "   m += x\n",
    "m = m / len(v)\n",
    "print(m)\n",
    "print( len(v))"
   ]
  },
  {
   "cell_type": "markdown",
   "id": "4e5cbf29",
   "metadata": {},
   "source": [
    "### Third attempt\n",
    "Later we will study numpy  https://www.w3schools.com/python/numpy/numpy_intro.asp"
   ]
  },
  {
   "cell_type": "code",
   "execution_count": 9,
   "id": "8d04b5ed",
   "metadata": {},
   "outputs": [
    {
     "name": "stdout",
     "output_type": "stream",
     "text": [
      "Mean  55.5\n"
     ]
    }
   ],
   "source": [
    "import numpy as np\n",
    "v = np.array(v)\n",
    "print(\"Mean \" , v.mean())"
   ]
  },
  {
   "cell_type": "code",
   "execution_count": null,
   "id": "38cdf3c5",
   "metadata": {},
   "outputs": [],
   "source": []
  }
 ],
 "metadata": {
  "kernelspec": {
   "display_name": "Python 3",
   "language": "python",
   "name": "python3"
  },
  "language_info": {
   "codemirror_mode": {
    "name": "ipython",
    "version": 3
   },
   "file_extension": ".py",
   "mimetype": "text/x-python",
   "name": "python",
   "nbconvert_exporter": "python",
   "pygments_lexer": "ipython3",
   "version": "3.9.4"
  }
 },
 "nbformat": 4,
 "nbformat_minor": 5
}
