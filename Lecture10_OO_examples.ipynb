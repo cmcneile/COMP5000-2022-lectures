{
 "cells": [
  {
   "cell_type": "markdown",
   "id": "1832d00b",
   "metadata": {
    "slideshow": {
     "slide_type": "slide"
    }
   },
   "source": [
    "# Python examples in lecture 10\n",
    "* This file is a jupyter notebook. To run it you can download it from the DLE and run it on your own machine.\n",
    "* Or you can run it on google collab <https://colab.research.google.com> via your google account. This may be slower than running on your own machine\n",
    "* Information on downloading notebooks from the store to your computer https://youtu.be/1zY7hIj5tWg"
   ]
  },
  {
   "cell_type": "markdown",
   "id": "1fda7409",
   "metadata": {},
   "source": [
    "## Why do we use classes and objects in python?\n",
    "\n",
    "* The use of objects allows a better modelllng of a system. For example, if we are writting python code to record student's results, it may better to work with objects to represent the student.\n",
    "* The details of the object are hidden from the user of the object. This is sometimes known an encapsulation https://en.wikipedia.org/wiki/Encapsulation_(computer_programming) or information hiding https://en.wikipedia.org/wiki/Information_hiding\n",
    "\n"
   ]
  },
  {
   "cell_type": "code",
   "execution_count": 8,
   "id": "24614b56",
   "metadata": {},
   "outputs": [
    {
     "name": "stdout",
     "output_type": "stream",
     "text": [
      "Area =  2\n"
     ]
    }
   ],
   "source": [
    "class Rectangle:\n",
    "    def __init__(self, x, y):\n",
    "        self.x = x\n",
    "        self.y = y\n",
    "    def area(self):\n",
    "        return self.x * self.y\n",
    "\n",
    "r = Rectangle(1,2)\n",
    "print(\"Area = \" , r.area() )"
   ]
  },
  {
   "cell_type": "markdown",
   "id": "df8bc2da",
   "metadata": {
    "slideshow": {
     "slide_type": "slide"
    }
   },
   "source": [
    "##  Inheritance\n",
    "\n",
    "* The pure idea of OO programing is that we have a library of objects, which interact via methods.\n",
    "* But how do we extend classses.\n",
    "\n",
    "For example if we are writing software for the University. We\n",
    "might need classes for\n",
    "\n",
    "* Lecturers\n",
    "* Professor\n",
    "* Technician\n",
    "* Administrative staff\n",
    "\n",
    "There will be common attributes, such as names, but some which\n",
    "are different, such as only Lecturers and Professor only teach classes.\n",
    "https://realpython.com/inheritance-composition-python/\n"
   ]
  },
  {
   "cell_type": "markdown",
   "id": "23467e02",
   "metadata": {
    "slideshow": {
     "slide_type": "slide"
    }
   },
   "source": [
    "## Inheritance example\n",
    "\n",
    "I have shown you a rectangle class in python with height and width.\n",
    "\n",
    "\n",
    "We want to create an object for coloured rectangle.\n",
    "\n",
    "\n",
    "* We introduce a ColourRectangle class which inherits from the Rectangle class.\n",
    "* The ColourRectangle class inherits from the Rectangle class.\n",
    "* The ColourRectangle class contains the name of the colour.\n",
    "\n",
    "\n"
   ]
  },
  {
   "cell_type": "code",
   "execution_count": 3,
   "id": "de875339",
   "metadata": {
    "slideshow": {
     "slide_type": "slide"
    }
   },
   "outputs": [
    {
     "name": "stdout",
     "output_type": "stream",
     "text": [
      "Area =  4500\n",
      "Colour =  Red\n"
     ]
    }
   ],
   "source": [
    "class Rectangle:\n",
    "    def __init__(self, x, y):\n",
    "        self.x = x\n",
    "        self.y = y\n",
    "    def area(self):\n",
    "        return self.x * self.y\n",
    "\n",
    "class ColourRectangle(Rectangle):\n",
    "  def __init__(self, x, y, colour):\n",
    "    super().__init__(x, y) \n",
    "    self.colour = colour\n",
    "  def print_colour(self):\n",
    "    print(\"Colour = \" , self.colour)\n",
    "\n",
    "rectangle = ColourRectangle(100, 45, \"Red\")\n",
    "print(\"Area = \" , rectangle.area())\n",
    "rectangle.print_colour()\n"
   ]
  },
  {
   "cell_type": "markdown",
   "id": "7a9a060e",
   "metadata": {},
   "source": [
    "## Inheritance jargon\n",
    "\n",
    "* Rectangle is the parent class.\n",
    "\n",
    "* ColourRectangle is the child class.\n",
    "\n",
    "* The super() builtin returns a proxy object (temporary object of the superclass) "
   ]
  },
  {
   "cell_type": "markdown",
   "id": "6427daef",
   "metadata": {},
   "source": [
    "##  Object\n",
    "\n",
    "* All classes in python inherit from the object class.\n",
    "\n",
    "* The object() function returns an empty object.\n",
    "\n",
    "* This object is the base for all classes, it holds the built-in properties and methods which are default for all classes.\n",
    "\n",
    "* However, for python3 you don't need to add explicit inheritance   of the object.   "
   ]
  },
  {
   "cell_type": "code",
   "execution_count": 4,
   "id": "e5008beb",
   "metadata": {},
   "outputs": [
    {
     "name": "stdout",
     "output_type": "stream",
     "text": [
      "Methods in the object  ['__class__', '__delattr__', '__dir__', '__doc__', '__eq__', '__format__', '__ge__', '__getattribute__', '__gt__', '__hash__', '__init__', '__init_subclass__', '__le__', '__lt__', '__ne__', '__new__', '__reduce__', '__reduce_ex__', '__repr__', '__setattr__', '__sizeof__', '__str__', '__subclasshook__']\n",
      "Type of x  <class 'object'>\n"
     ]
    }
   ],
   "source": [
    "x = object()\n",
    "print(\"Methods in the object \" , dir(x))\n",
    "print(\"Type of x \", type(x))"
   ]
  },
  {
   "cell_type": "markdown",
   "id": "8129dfd6",
   "metadata": {},
   "source": [
    "* In python 3, the definitions for Simple and SimpleA below are equivalent.\n",
    "\n",
    "* **dir** writes out the methods of the class."
   ]
  },
  {
   "cell_type": "code",
   "execution_count": 6,
   "id": "290c03e6",
   "metadata": {},
   "outputs": [
    {
     "name": "stdout",
     "output_type": "stream",
     "text": [
      "['__class__', '__delattr__', '__dict__', '__dir__', '__doc__', '__eq__', '__format__', '__ge__', '__getattribute__', '__gt__', '__hash__', '__init__', '__init_subclass__', '__le__', '__lt__', '__module__', '__ne__', '__new__', '__reduce__', '__reduce_ex__', '__repr__', '__setattr__', '__sizeof__', '__str__', '__subclasshook__', '__weakref__', 'x']\n"
     ]
    }
   ],
   "source": [
    "class Simple:\n",
    "    def __init__(self, x):\n",
    "        self.x = x\n",
    "class SimpleA(object):\n",
    "    def __init__(self, x):\n",
    "        self.x = x\n",
    "\n",
    "a = Simple(10)\n",
    "b = SimpleA(5)\n",
    "print(dir(a))\n"
   ]
  },
  {
   "cell_type": "markdown",
   "id": "7cc0d8cf",
   "metadata": {
    "slideshow": {
     "slide_type": "slide"
    }
   },
   "source": [
    "##  Recommendations for object oriented design\n",
    "\n",
    "\n",
    "* I would recommend being very careful on using inheritance in your code.\n",
    "* It is often recommended to use compoosition rather than inheritance https://realpython.com/inheritance-composition-python/\n",
    "\n",
    "* It is usually recommended to not use multiple inheritance, where a class can inherit from multiple classes.\n",
    "\n",
    "* It is important to know about inheritance.\n",
    "\n",
    "* I once wrote a c++ code to do statistical analysis. I used multiple inheritance to convert the data into a standard format. The code ended up a total mess.\n",
    "\n"
   ]
  },
  {
   "cell_type": "markdown",
   "id": "57f26b31",
   "metadata": {},
   "source": [
    "##  Further reading\n",
    "\n",
    "* Chapter 18  Inheritance from the book: Think Phython  https://greenteapress.com/thinkpython/html/thinkpython019.html#toc195\n",
    "* W3 schools page on Inheritance https://www.w3schools.com/python/python_inheritance.asp\n",
    "\n"
   ]
  },
  {
   "cell_type": "code",
   "execution_count": null,
   "id": "fcae4a41",
   "metadata": {},
   "outputs": [],
   "source": []
  }
 ],
 "metadata": {
  "celltoolbar": "Slideshow",
  "kernelspec": {
   "display_name": "Python 3",
   "language": "python",
   "name": "python3"
  },
  "language_info": {
   "codemirror_mode": {
    "name": "ipython",
    "version": 3
   },
   "file_extension": ".py",
   "mimetype": "text/x-python",
   "name": "python",
   "nbconvert_exporter": "python",
   "pygments_lexer": "ipython3",
   "version": "3.9.4"
  }
 },
 "nbformat": 4,
 "nbformat_minor": 5
}
