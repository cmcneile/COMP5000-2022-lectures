{
 "cells": [
  {
   "cell_type": "markdown",
   "id": "1832d00b",
   "metadata": {
    "slideshow": {
     "slide_type": "slide"
    }
   },
   "source": [
    "# Python examples in lecture 6\n",
    "* This file is a jupyter notebook. To run it you can download it from the DLE and run it on your own machine.\n",
    "* Or you can run it on google collab <https://colab.research.google.com> via your google account. This may be slower than running on your own machine\n",
    "* Information on downloading notebooks from the store to your computer https://youtu.be/1zY7hIj5tWg\n",
    "\n",
    "This notebook shows how to run basic SQL commands from python"
   ]
  },
  {
   "cell_type": "markdown",
   "id": "bbc614a2",
   "metadata": {
    "slideshow": {
     "slide_type": "slide"
    }
   },
   "source": [
    "##  First example of SQL command\n",
    "\n",
    "**SELECT * FROM orders**\n",
    "\n",
    "* **\\*** means everything\n",
    "* **orders** is the table name\n",
    "\n",
    "The database in the file supermarket.db"
   ]
  },
  {
   "cell_type": "code",
   "execution_count": 22,
   "id": "8b58712d",
   "metadata": {
    "slideshow": {
     "slide_type": "-"
    }
   },
   "outputs": [
    {
     "name": "stdout",
     "output_type": "stream",
     "text": [
      "fetchall:\n",
      "(30, 100, 1, '2019-04-1')\n",
      "(31, 70, 1, '2019-04-8')\n",
      "(32, 95, 3, '2019-04-15')\n",
      "(33, 121, 1, '2019-04-22')\n",
      "(34, 72, 3, '2019-04-30')\n",
      "\n",
      "fetch one:\n",
      "(30, 100, 1, '2019-04-1')\n"
     ]
    }
   ],
   "source": [
    "import sqlite3\n",
    "\n",
    "connection = sqlite3.connect(\"supermarket.db\")\n",
    "cursor = connection.cursor()\n",
    "\n",
    "cursor.execute(\"SELECT * FROM orders\") \n",
    "print(\"fetchall:\")\n",
    "result = cursor.fetchall() \n",
    "for r in result:\n",
    "    print(r)\n",
    "cursor.execute(\"SELECT * FROM orders\") \n",
    "print(\"\\nfetch one:\")\n",
    "res = cursor.fetchone() \n",
    "print(res)\n"
   ]
  },
  {
   "cell_type": "markdown",
   "id": "0b7db08f",
   "metadata": {
    "slideshow": {
     "slide_type": "slide"
    }
   },
   "source": [
    "##  Second SQL example\n",
    "* The type command can help unpack the results"
   ]
  },
  {
   "cell_type": "code",
   "execution_count": 23,
   "id": "7b45dff3",
   "metadata": {},
   "outputs": [
    {
     "name": "stdout",
     "output_type": "stream",
     "text": [
      "\n",
      "fetch one:\n",
      "(95,)\n",
      "<class 'tuple'>\n"
     ]
    }
   ],
   "source": [
    "import sqlite3\n",
    "\n",
    "connection = sqlite3.connect(\"supermarket.db\")\n",
    "cursor = connection.cursor()\n",
    "\n",
    "cursor.execute(\"SELECT orders FROM orders where date='2019-04-15'\") \n",
    "print(\"\\nfetch one:\")\n",
    "res = cursor.fetchone() \n",
    "print(res)\n",
    "print(type(res))\n"
   ]
  },
  {
   "cell_type": "markdown",
   "id": "d84ddb0a",
   "metadata": {
    "slideshow": {
     "slide_type": "slide"
    }
   },
   "source": [
    "## An important note\n",
    "\n",
    "* The python script and the database file (supermarket.db) have to be in the same directory for this script to work.\n",
    "\n",
    "* If the python script doesn't find the database file, it will exit and print the confusing error message that it can't find the table.\n",
    "\n",
    "* Sometimes it will also create a version of the database file with zero length, which will then continue to fail.\n",
    "\n",
    "\n",
    "\n"
   ]
  },
  {
   "cell_type": "markdown",
   "id": "7b63cf43",
   "metadata": {
    "slideshow": {
     "slide_type": "slide"
    }
   },
   "source": [
    "##  Format of the sqlite file\n",
    "\n",
    "* Typically there are no applications on PC/mac to read sqlite file.\n",
    "* Online tools can help debug https://inloop.github.io/sqlite-viewer/\n"
   ]
  },
  {
   "cell_type": "markdown",
   "id": "116bd6b5",
   "metadata": {
    "slideshow": {
     "slide_type": "slide"
    }
   },
   "source": [
    "## Bigger example\n",
    "\n",
    "<blockquote>\n",
    "    The management of a company have noticed that the\n",
    "productivity of the firm is reduced, because a\n",
    "number of employees are off sick because of the flu.\n",
    "The CEO suggests that it would be interesting to see \n",
    "if it was cost effective for the company to pay for \n",
    "the flu jab for all employees.\n",
    "</blockquote>\n",
    "\n",
    "The human resources department has two tables stored\n",
    "in a SQLite database in the file: **HR_info.db**. \n",
    "This file is available from the DLE.\n",
    "\n",
    "\n"
   ]
  },
  {
   "cell_type": "markdown",
   "id": "1abd7f25",
   "metadata": {
    "slideshow": {
     "slide_type": "slide"
    }
   },
   "source": [
    "##  Flu jab example continued\n",
    "\n",
    "The database (\\textbf{HR\\_info.db}) contains two tables <br>\n",
    "\n",
    "TABLE **HR_info** with the columns:\n",
    "* **staff_number** INTEGER PRIMARY KEY\n",
    "* **salary** INTEGER\n",
    "* **age** INTEGER\n",
    "\n",
    "TABLE **flu_info** with the columns:\n",
    "* **flu_treatment** INTEGER PRIMARY KEY\n",
    "* **staff_number** INTEGER \n",
    "* **days_off** INTEGER\n",
    "\n"
   ]
  },
  {
   "cell_type": "markdown",
   "id": "655c4a27",
   "metadata": {
    "slideshow": {
     "slide_type": "slide"
    }
   },
   "source": [
    "##  Reading in all the information from one table\n",
    "\n",
    "The file HR_info.db is on the DLE."
   ]
  },
  {
   "cell_type": "code",
   "execution_count": 24,
   "id": "a3961b92",
   "metadata": {},
   "outputs": [
    {
     "name": "stdout",
     "output_type": "stream",
     "text": [
      "Staff_number Salary Age\n",
      "0 30000 64\n",
      "1 35000 37\n",
      "2 35000 56\n",
      "3 25000 30\n",
      "4 35000 42\n",
      "5 30000 51\n",
      "6 30000 46\n",
      "7 20000 55\n",
      "8 20000 21\n",
      "9 25000 57\n",
      "10 30000 46\n",
      "11 35000 30\n",
      "12 35000 70\n",
      "13 20000 27\n",
      "14 30000 51\n",
      "15 30000 48\n",
      "16 30000 21\n",
      "17 25000 58\n",
      "18 30000 61\n",
      "19 25000 63\n",
      "20 30000 70\n",
      "21 25000 55\n",
      "22 30000 38\n",
      "23 25000 44\n",
      "24 20000 64\n",
      "25 35000 24\n",
      "26 25000 35\n",
      "27 20000 21\n",
      "28 30000 45\n",
      "29 25000 29\n"
     ]
    }
   ],
   "source": [
    "import sqlite3\n",
    "connection = sqlite3.connect(\"HR_info.db\")\n",
    "cursor = connection.cursor()\n",
    "cursor.execute(\"SELECT * FROM HR_info  \") \n",
    "result = cursor.fetchall() \n",
    "print(\"Staff_number Salary Age\") \n",
    "for r in result:\n",
    "    print(r[0], r[1], r[2])"
   ]
  },
  {
   "cell_type": "markdown",
   "id": "4f305452",
   "metadata": {
    "slideshow": {
     "slide_type": "slide"
    }
   },
   "source": [
    "##  A more complex query\n",
    "\n",
    "Find employee over 50 who earn more than 30,000 pounds"
   ]
  },
  {
   "cell_type": "code",
   "execution_count": 25,
   "id": "70bf45b4",
   "metadata": {},
   "outputs": [
    {
     "name": "stdout",
     "output_type": "stream",
     "text": [
      "Staff_number Salary Age\n",
      "2 35000 56\n",
      "12 35000 70\n"
     ]
    }
   ],
   "source": [
    "import sqlite3\n",
    "connection = sqlite3.connect(\"HR_info.db\")\n",
    "cursor = connection.cursor()\n",
    "cursor.execute(\"SELECT * FROM HR_info where age > 55 and salary > 30000 \") \n",
    "result = cursor.fetchall() \n",
    "print(\"Staff_number Salary Age\") \n",
    "for r in result:\n",
    "    print(r[0], r[1], r[2])"
   ]
  },
  {
   "cell_type": "markdown",
   "id": "6935fb01",
   "metadata": {
    "slideshow": {
     "slide_type": "slide"
    }
   },
   "source": [
    "## Pulling the data from the table and plotting it"
   ]
  },
  {
   "cell_type": "code",
   "execution_count": 26,
   "id": "edc01c19",
   "metadata": {},
   "outputs": [
    {
     "name": "stdout",
     "output_type": "stream",
     "text": [
      "0 30000 64\n",
      "1 35000 37\n",
      "2 35000 56\n",
      "3 25000 30\n",
      "4 35000 42\n",
      "5 30000 51\n",
      "6 30000 46\n",
      "7 20000 55\n",
      "8 20000 21\n",
      "9 25000 57\n",
      "10 30000 46\n",
      "11 35000 30\n",
      "12 35000 70\n",
      "13 20000 27\n",
      "14 30000 51\n",
      "15 30000 48\n",
      "16 30000 21\n",
      "17 25000 58\n",
      "18 30000 61\n",
      "19 25000 63\n",
      "20 30000 70\n",
      "21 25000 55\n",
      "22 30000 38\n",
      "23 25000 44\n",
      "24 20000 64\n",
      "25 35000 24\n",
      "26 25000 35\n",
      "27 20000 21\n",
      "28 30000 45\n",
      "29 25000 29\n"
     ]
    },
    {
     "data": {
      "image/png": "[encoded data removed]",
      "text/plain": [
       "<Figure size 432x288 with 1 Axes>"
      ]
     },
     "metadata": {
      "needs_background": "light"
     },
     "output_type": "display_data"
    }
   ],
   "source": [
    "import sqlite3\n",
    "import matplotlib.pyplot as plt\n",
    "connection = sqlite3.connect(\"HR_info.db\")\n",
    "cursor = connection.cursor()\n",
    "cursor.execute(\"SELECT * FROM HR_info\") \n",
    "result = cursor.fetchall() \n",
    "age = [] \n",
    "salary = [] \n",
    "for r in result:\n",
    "    print(r[0], r[1], r[2])\n",
    "    salary.append(r[1])\n",
    "    age.append(r[2])\n",
    "plt.plot(age,salary, \"ro\")\n",
    "plt.xlabel('Age')\n",
    "plt.ylabel(r'Salary pounds')\n",
    "plt.show()\n"
   ]
  },
  {
   "cell_type": "markdown",
   "id": "5bf543cd",
   "metadata": {
    "slideshow": {
     "slide_type": "slide"
    }
   },
   "source": [
    "##  Extracting information from SQLlite file\n",
    "\n",
    "\n",
    "* What if we are given the file **HR_info.db** but no information about the tables.\n",
    "\n",
    "* Can we find the table names and the names of the columns?\n",
    "\n",
    "* Is the datafile self describing?\n",
    "\n",
    "\n",
    "There is a command line interface to sqlite\n",
    "(https://www.sqlite.org/cli.html). This is typically installed\n",
    "with Anaconda.\n",
    "\n",
    "\n",
    "* **sqlite3.exe** on Windows\n",
    "\n",
    "* **sqlite3** program on my Mac.\n",
    "\n",
    "\n",
    "This program is useful for looking at small files.\n",
    "\n"
   ]
  },
  {
   "cell_type": "markdown",
   "id": "ef4d5be9",
   "metadata": {
    "slideshow": {
     "slide_type": "slide"
    }
   },
   "source": [
    "On my Mac using the command:  sqlite3 HR_info.db\n",
    "\n",
    "<pre>\n",
    "sqlite3 HR_info.db\n",
    "sqlite> .databases\n",
    "main: ./HR_info.db\n",
    "sqlite> .schema\n",
    "CREATE TABLE HR_info (\n",
    "staff_number INTEGER PRIMARY KEY,\n",
    "salary INTEGER,\n",
    "age INTEGER);\n",
    "CREATE TABLE flu_info (\n",
    "flu_treatment INTEGER PRIMARY KEY,\n",
    "staff_number INTEGER,\n",
    "days_off INTEGER);\n",
    "\n",
    "</pre>"
   ]
  },
  {
   "cell_type": "markdown",
   "id": "59c70543",
   "metadata": {
    "slideshow": {
     "slide_type": "slide"
    }
   },
   "source": [
    "## Finding the tables in HR_info.db\n",
    "\n",
    "The file **HR_info.db** is on the DLE.\n"
   ]
  },
  {
   "cell_type": "code",
   "execution_count": 27,
   "id": "cfd1f828",
   "metadata": {},
   "outputs": [
    {
     "name": "stdout",
     "output_type": "stream",
     "text": [
      "('HR_info',)\n",
      "('flu_info',)\n"
     ]
    }
   ],
   "source": [
    "import sqlite3\n",
    "connection = sqlite3.connect(\"HR_info.db\")\n",
    "cursor = connection.cursor()\n",
    "cursor.execute(\"SELECT name FROM sqlite_master WHERE type='table';\") \n",
    "result = cursor.fetchall() \n",
    "for r in result:\n",
    "    print(r)\n"
   ]
  },
  {
   "cell_type": "markdown",
   "id": "85add4d5",
   "metadata": {
    "slideshow": {
     "slide_type": "slide"
    }
   },
   "source": [
    "## Finding the column names in HR_info.db\n",
    "\n",
    "* The file HR_info.db is on the DLE.\n",
    "* The example below finds the column names of the table HR_info\n",
    "* PRAGMA  is specific to SQLite, so it is not portable to other databases (https://www.sqlite.org/pragma.html.)\n"
   ]
  },
  {
   "cell_type": "code",
   "execution_count": 28,
   "id": "19bc7dcb",
   "metadata": {},
   "outputs": [
    {
     "name": "stdout",
     "output_type": "stream",
     "text": [
      "(0, 'staff_number', 'INTEGER', 0, None, 1)\n",
      "(1, 'salary', 'INTEGER', 0, None, 0)\n",
      "(2, 'age', 'INTEGER', 0, None, 0)\n"
     ]
    }
   ],
   "source": [
    "import sqlite3\n",
    "connection = sqlite3.connect(\"HR_info.db\")\n",
    "cursor = connection.cursor()\n",
    "cursor.execute(\"PRAGMA table_info(HR_info);\") \n",
    "result = cursor.fetchall() \n",
    "for r in result:\n",
    "    print(r)"
   ]
  },
  {
   "cell_type": "markdown",
   "id": "555c27ac",
   "metadata": {
    "slideshow": {
     "slide_type": "slide"
    }
   },
   "source": [
    "##  Checking whether the database file exists\n",
    "* One issue is that the sqlite database connect will not produce an error, if that file does not exist.\n",
    "* Even worse the the API will create an empty database file \n",
    "\n",
    "In principle, it would be better to use exceptions (https://www.w3schools.com/python/python_try_except.asp)\n",
    "to check whether the file exists,\n",
    "before you try too read it"
   ]
  },
  {
   "cell_type": "code",
   "execution_count": 29,
   "id": "dd7fdd59",
   "metadata": {},
   "outputs": [
    {
     "name": "stdout",
     "output_type": "stream",
     "text": [
      "Start to work with the database\n"
     ]
    }
   ],
   "source": [
    "# this example will not catch the error if the file new_info.db  does not exist\n",
    "import sqlite3\n",
    "try:\n",
    "  connection = sqlite3.connect(\"new_info.db\")\n",
    "except sqlite3.Error as err:\n",
    "  print(\"Error reading database file\")\n",
    "\n",
    "print(\"Start to work with the database\")"
   ]
  },
  {
   "cell_type": "markdown",
   "id": "cd32aff7",
   "metadata": {
    "slideshow": {
     "slide_type": "slide"
    }
   },
   "source": [
    "##  Testing whether a file exists\n",
    "* The os module (os - Operating System ) can check whether a file exists\n",
    "* See  https://www.digitalocean.com/community/tutorials/python-os-module for more information"
   ]
  },
  {
   "cell_type": "code",
   "execution_count": 30,
   "id": "81a92000",
   "metadata": {},
   "outputs": [
    {
     "name": "stdout",
     "output_type": "stream",
     "text": [
      "HGR_info.db  NOT found\n"
     ]
    }
   ],
   "source": [
    "# Code to test whether a file exists\n",
    "import os\n",
    "\n",
    "file_name = \"HGR_info.db\"\n",
    "if os.path.isfile(file_name) :\n",
    "     print(file_name , \" exists\")\n",
    "else:\n",
    "     print(file_name , \" NOT found\")\n"
   ]
  },
  {
   "cell_type": "markdown",
   "id": "5caeb338",
   "metadata": {
    "slideshow": {
     "slide_type": "slide"
    }
   },
   "source": [
    "##  Checking whether a file exists\n",
    "* By using special syntax Uniform Resource Identifier URI the open of the database can be \n",
    "* https://www.sqlite.org/uri.html\n",
    "\n",
    "See the following for more infoormation\n",
    "*  https://stackoverflow.com/questions/57828286/how-to-make-sqlite3-connect-fail-if-the-db-file-does-not-exist"
   ]
  },
  {
   "cell_type": "code",
   "execution_count": 31,
   "id": "b7cbb1ab",
   "metadata": {},
   "outputs": [],
   "source": [
    "# see information \n",
    "import sqlite3\n",
    "database_file = \"HR_info.db\"\n",
    "try:\n",
    "    # The open of the database is now readonly \"ro\"\n",
    "    connection = sqlite3.connect(\"file:\" + database_file  + \"?mode=ro\", uri=True)\n",
    "except sqlite3.Error as err:\n",
    "  print(\"Error reading the file \" , database_file)\n",
    "\n"
   ]
  },
  {
   "cell_type": "code",
   "execution_count": 33,
   "id": "99039fd7",
   "metadata": {},
   "outputs": [],
   "source": [
    "#! rm GHR_info.db\n"
   ]
  },
  {
   "cell_type": "code",
   "execution_count": null,
   "id": "4af8e5e3",
   "metadata": {},
   "outputs": [],
   "source": []
  }
 ],
 "metadata": {
  "celltoolbar": "Slideshow",
  "kernelspec": {
   "display_name": "Python 3 (ipykernel)",
   "language": "python",
   "name": "python3"
  },
  "language_info": {
   "codemirror_mode": {
    "name": "ipython",
    "version": 3
   },
   "file_extension": ".py",
   "mimetype": "text/x-python",
   "name": "python",
   "nbconvert_exporter": "python",
   "pygments_lexer": "ipython3",
   "version": "3.10.0"
  }
 },
 "nbformat": 4,
 "nbformat_minor": 5
}
