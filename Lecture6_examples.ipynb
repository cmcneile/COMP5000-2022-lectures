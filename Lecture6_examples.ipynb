{
 "cells": [
  {
   "cell_type": "markdown",
   "id": "1832d00b",
   "metadata": {
    "slideshow": {
     "slide_type": "slide"
    }
   },
   "source": [
    "# Python examples in lecture 3\n",
    "* This file is a jupyter notebook. To run it you can download it from the DLE and run it on your own machine.\n",
    "* Or you can run it on google collab <https://colab.research.google.com> via your google account. This may be slower than running on your own machine\n",
    "* Information on downloading notebooks from the store to your computer https://youtu.be/1zY7hIj5tWg"
   ]
  },
  {
   "cell_type": "markdown",
   "id": "23b7496f",
   "metadata": {
    "slideshow": {
     "slide_type": "slide"
    }
   },
   "source": [
    "###  Basic example of string manipulation  \n",
    "\n",
    "* Python has excellent string processing tools.\n",
    "* See https://greenteapress.com/thinkpython2/html/thinkpython2009.html from the book Think Python\n",
    "* The example shows how to combine two strings"
   ]
  },
  {
   "cell_type": "code",
   "execution_count": null,
   "id": "f14fcb11",
   "metadata": {},
   "outputs": [],
   "source": [
    "\n"
   ]
  },
  {
   "cell_type": "code",
   "execution_count": null,
   "id": "822d85ea",
   "metadata": {},
   "outputs": [],
   "source": []
  }
 ],
 "metadata": {
  "celltoolbar": "Slideshow",
  "kernelspec": {
   "display_name": "Python 3 (ipykernel)",
   "language": "python",
   "name": "python3"
  },
  "language_info": {
   "codemirror_mode": {
    "name": "ipython",
    "version": 3
   },
   "file_extension": ".py",
   "mimetype": "text/x-python",
   "name": "python",
   "nbconvert_exporter": "python",
   "pygments_lexer": "ipython3",
   "version": "3.10.0"
  }
 },
 "nbformat": 4,
 "nbformat_minor": 5
}
