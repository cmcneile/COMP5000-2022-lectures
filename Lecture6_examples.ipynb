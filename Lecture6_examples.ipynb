{
 "cells": [
  {
   "cell_type": "markdown",
   "id": "1832d00b",
   "metadata": {
    "slideshow": {
     "slide_type": "slide"
    }
   },
   "source": [
    "# Python examples in lecture 6\n",
    "* This file is a jupyter notebook. To run it you can download it from the DLE and run it on your own machine.\n",
    "* Or you can run it on google collab <https://colab.research.google.com> via your google account. This may be slower than running on your own machine\n",
    "* Information on downloading notebooks from the store to your computer https://youtu.be/1zY7hIj5tWg"
   ]
  },
  {
   "cell_type": "code",
   "execution_count": null,
   "id": "f14fcb11",
   "metadata": {},
   "outputs": [],
   "source": [
    "\n"
   ]
  },
  {
   "cell_type": "markdown",
   "id": "bbc614a2",
   "metadata": {
    "slideshow": {
     "slide_type": "slide"
    }
   },
   "source": [
    "##  First example of SQL command"
   ]
  },
  {
   "cell_type": "code",
   "execution_count": 6,
   "id": "8b58712d",
   "metadata": {
    "slideshow": {
     "slide_type": "-"
    }
   },
   "outputs": [
    {
     "name": "stdout",
     "output_type": "stream",
     "text": [
      "fetchall:\n",
      "(30, 100, 1, '2019-04-1')\n",
      "(31, 70, 1, '2019-04-8')\n",
      "(32, 95, 3, '2019-04-15')\n",
      "(33, 121, 1, '2019-04-22')\n",
      "(34, 72, 3, '2019-04-30')\n",
      "\n",
      "fetch one:\n",
      "(30, 100, 1, '2019-04-1')\n"
     ]
    }
   ],
   "source": [
    "import sqlite3\n",
    "\n",
    "connection = sqlite3.connect(\"supermarket.db\")\n",
    "cursor = connection.cursor()\n",
    "\n",
    "cursor.execute(\"SELECT * FROM orders\") \n",
    "print(\"fetchall:\")\n",
    "result = cursor.fetchall() \n",
    "for r in result:\n",
    "    print(r)\n",
    "cursor.execute(\"SELECT * FROM orders\") \n",
    "print(\"\\nfetch one:\")\n",
    "res = cursor.fetchone() \n",
    "print(res)\n"
   ]
  },
  {
   "cell_type": "markdown",
   "id": "0b7db08f",
   "metadata": {
    "slideshow": {
     "slide_type": "slide"
    }
   },
   "source": [
    "##  Second SQL example"
   ]
  },
  {
   "cell_type": "code",
   "execution_count": 5,
   "id": "7b45dff3",
   "metadata": {},
   "outputs": [
    {
     "name": "stdout",
     "output_type": "stream",
     "text": [
      "\n",
      "fetch one:\n",
      "(95,)\n"
     ]
    }
   ],
   "source": [
    "import sqlite3\n",
    "\n",
    "connection = sqlite3.connect(\"supermarket.db\")\n",
    "cursor = connection.cursor()\n",
    "\n",
    "cursor.execute(\"SELECT orders FROM orders where date='2019-04-15'\") \n",
    "print(\"\\nfetch one:\")\n",
    "res = cursor.fetchone() \n",
    "print(res)\n"
   ]
  },
  {
   "cell_type": "code",
   "execution_count": 3,
   "id": "4d41136d",
   "metadata": {},
   "outputs": [
    {
     "name": "stdout",
     "output_type": "stream",
     "text": [
      "440px-Trigono_sine_en2.png      hack\r\n",
      "GUI_overview.jpeg               hist_table.png\r\n",
      "Lecture1_examples.ipynb         pie_part.pdf\r\n",
      "Lecture2_examples.ipynb         population_year.png\r\n",
      "Lecture3_examples.ipynb         readme_conda\r\n",
      "Lecture4_examples.ipynb         readme_conda~\r\n",
      "Lecture5_examples.ipynb         readme_git\r\n",
      "Lecture6_examples.ipynb         readme_jupyter\r\n",
      "Lecture_template_examples.ipynb readme_week5_note\r\n",
      "README.md                       restaurant.py\r\n",
      "README.md~                      supermarket.db\r\n",
      "asci.png                        tempCodeRunnerFile.py\r\n",
      "bar_part.pdf                    unicode_A.png\r\n",
      "convert.png                     unicode_B.png\r\n",
      "fit.csv                         webscrape.png\r\n",
      "fit.txt\r\n"
     ]
    }
   ],
   "source": [
    "!ls"
   ]
  },
  {
   "cell_type": "code",
   "execution_count": null,
   "id": "53ca33cb",
   "metadata": {},
   "outputs": [],
   "source": []
  }
 ],
 "metadata": {
  "celltoolbar": "Slideshow",
  "kernelspec": {
   "display_name": "Python 3",
   "language": "python",
   "name": "python3"
  },
  "language_info": {
   "codemirror_mode": {
    "name": "ipython",
    "version": 3
   },
   "file_extension": ".py",
   "mimetype": "text/x-python",
   "name": "python",
   "nbconvert_exporter": "python",
   "pygments_lexer": "ipython3",
   "version": "3.9.4"
  }
 },
 "nbformat": 4,
 "nbformat_minor": 5
}
