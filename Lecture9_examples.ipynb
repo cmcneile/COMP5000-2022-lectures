{
 "cells": [
  {
   "cell_type": "markdown",
   "id": "1832d00b",
   "metadata": {
    "slideshow": {
     "slide_type": "slide"
    }
   },
   "source": [
    "# Python examples in lecture 9\n",
    "* This file is a jupyter notebook. To run it you can download it from the DLE and run it on your own machine.\n",
    "* Or you can run it on google collab <https://colab.research.google.com> via your google account. This may be slower than running on your own machine\n",
    "* Information on downloading notebooks from the store to your computer https://youtu.be/1zY7hIj5tWg"
   ]
  },
  {
   "cell_type": "markdown",
   "id": "5979d09c",
   "metadata": {
    "slideshow": {
     "slide_type": "slide"
    }
   },
   "source": [
    "\n",
    "## Rectangle example\n",
    "\n",
    "* Consider a code to calculate the area of a rectangle "
   ]
  },
  {
   "cell_type": "code",
   "execution_count": 1,
   "id": "822d85ea",
   "metadata": {},
   "outputs": [
    {
     "name": "stdout",
     "output_type": "stream",
     "text": [
      "Area of rectangle= 4500\n"
     ]
    }
   ],
   "source": [
    "\n",
    "def area(x,y):\n",
    "  return  x*y\n",
    "\n",
    "# rectangle\n",
    "width = 45\n",
    "height = 100\n",
    "\n",
    "print (\"Area of rectangle=\" ,  area(width,height))"
   ]
  },
  {
   "cell_type": "markdown",
   "id": "50bff1be",
   "metadata": {
    "slideshow": {
     "slide_type": "slide"
    }
   },
   "source": [
    "## Object oriented programming\n",
    "\n",
    "\n",
    "In the previous example:\n",
    "\n",
    "* There were variables which store values.\n",
    "* There was a function which operated on the variables.\n",
    "\n",
    "\n",
    "\n",
    "However, there may be a better way to organize the code.\n",
    "\n",
    "\n",
    "* The program should model reality. It maybe better to think of a rectangle as an object.  \n",
    "*  If you are writing say a system to deal air traffic control, it would seem better to  use an object such as a **plane**.\n",
    "\n"
   ]
  },
  {
   "cell_type": "markdown",
   "id": "2f9b694c",
   "metadata": {
    "slideshow": {
     "slide_type": "slide"
    }
   },
   "source": [
    "##  Example of class in python"
   ]
  },
  {
   "cell_type": "code",
   "execution_count": 3,
   "id": "2210c00c",
   "metadata": {},
   "outputs": [
    {
     "name": "stdout",
     "output_type": "stream",
     "text": [
      "Area =  4500\n"
     ]
    }
   ],
   "source": [
    "class Rectangle:\n",
    "    def __init__(self, x, y):\n",
    "        self.x = x\n",
    "        self.y = y\n",
    "    def area(self):\n",
    "        return self.x * self.y\n",
    "\n",
    "rectangle = Rectangle(100, 45)\n",
    "print (\"Area = \" , rectangle.area())"
   ]
  },
  {
   "cell_type": "markdown",
   "id": "5877eea3",
   "metadata": {},
   "source": [
    "In the jargon of object orientation. \n",
    "\n",
    "* We defined the class Rectangle.\n",
    "* rectangle is an object\n",
    "* __init__ is a **constructor** and is called by Rectangle(100, 45).\n",
    "* self.x are variables internal to the object. They are known as **attributes**.\n",
    "* area() is a **method**."
   ]
  },
  {
   "cell_type": "markdown",
   "id": "ae6b1bcf",
   "metadata": {
    "slideshow": {
     "slide_type": "slide"
    }
   },
   "source": [
    "## Some examples of using objects in python\n",
    "\n",
    "We have already worked with objects, methods and attributes."
   ]
  },
  {
   "cell_type": "code",
   "execution_count": 4,
   "id": "540ff8e1",
   "metadata": {},
   "outputs": [
    {
     "name": "stdout",
     "output_type": "stream",
     "text": [
      "x =  [1. 2. 3.]\n",
      "Mean (via a method)  2.0\n",
      "Shape (via an attribute)  (3,)\n",
      "y =  [0.5 0.5 0.5]\n",
      "z =  [1.5 2.5 3.5]\n"
     ]
    }
   ],
   "source": [
    "import numpy as np\n",
    "x = np.array(  [ 1.0 , 2.0 , 3.0] )\n",
    "print(\"x = \" , x)\n",
    "print(\"Mean (via a method) \" , x.mean())\n",
    "\n",
    "print(\"Shape (via an attribute) \" , x.shape)\n",
    "y = np.array(  [ 0.5 , 0.5 , 0.5] )\n",
    "\n",
    "# call a magic method (see later)\n",
    "z = x + y \n",
    "print(\"y = \" , y)\n",
    "print(\"z = \" , z)\n"
   ]
  },
  {
   "cell_type": "markdown",
   "id": "1d2d8dee",
   "metadata": {
    "slideshow": {
     "slide_type": "slide"
    }
   },
   "source": [
    "##  Why would you do this?"
   ]
  },
  {
   "cell_type": "code",
   "execution_count": 5,
   "id": "3d08e17f",
   "metadata": {},
   "outputs": [
    {
     "name": "stdout",
     "output_type": "stream",
     "text": [
      "Area =  4500\n"
     ]
    }
   ],
   "source": [
    "rectangle = Rectangle(100, 45)\n",
    "print (\"Area = \" , rectangle.area())"
   ]
  },
  {
   "cell_type": "markdown",
   "id": "d56b16e4",
   "metadata": {},
   "source": [
    " The user of the class doesn't need to know the inner details of what the \n",
    "class is doing.\n",
    "\n",
    "* The idea is called **encapsulation.**\n",
    "\n",
    "\n",
    "\n",
    "For example in this application, I have not stored what the units of\n",
    "the area are: m, cm or pixels.\n"
   ]
  },
  {
   "cell_type": "markdown",
   "id": "91c3f012",
   "metadata": {
    "slideshow": {
     "slide_type": "slide"
    }
   },
   "source": [
    "##   Improved example of Rectangle class"
   ]
  },
  {
   "cell_type": "code",
   "execution_count": 7,
   "id": "5033015f",
   "metadata": {},
   "outputs": [
    {
     "name": "stdout",
     "output_type": "stream",
     "text": [
      "Area =  4500 cm^2\n"
     ]
    }
   ],
   "source": [
    "class Rectangle:\n",
    "    def __init__(self, x, y, unit):\n",
    "        self.x = x\n",
    "        self.y = y\n",
    "        self.unit  = unit\n",
    "    def area(self):\n",
    "        area = self.x * self.y\n",
    "        return str(area) + \" \" + self.unit + \"^2\"\n",
    "\n",
    "rectangle = Rectangle(100, 45, \"cm\")\n",
    "print (\"Area = \" , rectangle.area())"
   ]
  },
  {
   "cell_type": "markdown",
   "id": "4cb59993",
   "metadata": {
    "slideshow": {
     "slide_type": "slide"
    }
   },
   "source": [
    "## Comment on classes\n",
    "\n",
    "\n",
    "* In some languages, such as C++ the class variables can be hidden from the user of the class. You can only access the variables via methods.\n",
    "\n",
    "* In python you can access variables such as self.x and self.y\n",
    "\n",
    "* There are some \"tricks\" which can hide the internal variables."
   ]
  },
  {
   "cell_type": "code",
   "execution_count": 8,
   "id": "79b44245",
   "metadata": {},
   "outputs": [
    {
     "name": "stdout",
     "output_type": "stream",
     "text": [
      "Area(1) =  4500 cm^2\n",
      "x =  100\n",
      "y =  45\n",
      "Area(2) =  50 cm^2\n"
     ]
    }
   ],
   "source": [
    "class Rectangle:\n",
    "    def __init__(self, x, y, unit):\n",
    "        self.x = x\n",
    "        self.y = y\n",
    "        self.unit  = unit\n",
    "    def area(self):\n",
    "        area = self.x * self.y\n",
    "        return str(area) + \" \" + self.unit + \"^2\"\n",
    "\n",
    "rectangle_1 = Rectangle(100, 45, \"cm\")\n",
    "print (\"Area(1) = \" , rectangle_1.area())\n",
    "print (\"x = \" , rectangle_1.x)\n",
    "print (\"y = \" , rectangle_1.y)\n",
    "rectangle_2 = Rectangle(10, 5, \"cm\")\n",
    "print (\"Area(2) = \" , rectangle_2.area())\n"
   ]
  },
  {
   "cell_type": "markdown",
   "id": "831b745d",
   "metadata": {
    "slideshow": {
     "slide_type": "slide"
    }
   },
   "source": [
    "##  Magic methods\n",
    "\n",
    "These are special methods which allow your objects to behave like\n",
    "built in types. For example, you define your own addition operator\n",
    "for your classes.\n",
    "\n",
    "$$\n",
    "c = a + b \n",
    "$$\n",
    "\n",
    "Examples of magic methods.\n",
    "\n",
    "* __init()__  the constructor\n",
    "* __str()__   called when str(a) is run where a is the object\n",
    "\n",
    "\n",
    "We shall see some examples later.\n",
    "\n",
    "\\url{https://rszalski.github.io/magicmethods/}\n"
   ]
  },
  {
   "cell_type": "markdown",
   "id": "b4524d35",
   "metadata": {
    "slideshow": {
     "slide_type": "slide"
    }
   },
   "source": [
    "## str magic method\n",
    "\n",
    "* __str()__ method is called by str, which converts to a string.\n",
    "* Also the __str()__ is used in the print statement\n",
    "\n"
   ]
  },
  {
   "cell_type": "code",
   "execution_count": 1,
   "id": "4c2f8062",
   "metadata": {},
   "outputs": [
    {
     "name": "stdout",
     "output_type": "stream",
     "text": [
      "str(rectangle) =  Rectangle dimensions 100 x 45\n",
      "rectangle =  Rectangle dimensions 100 x 45\n"
     ]
    }
   ],
   "source": [
    "class Rectangle:\n",
    "    def __init__(self, x, y):\n",
    "        self.x = x\n",
    "        self.y = y\n",
    "    def area(self):\n",
    "        return self.x * self.y\n",
    "    def __str__(self):\n",
    "        return \"Rectangle dimensions \" + str(self.x) + \" x \" + str(self.y)\n",
    "\n",
    "rectangle = Rectangle(100, 45)\n",
    "print(\"str(rectangle) = \" , str(rectangle))\n",
    "print(\"rectangle = \" , rectangle)\n"
   ]
  },
  {
   "cell_type": "markdown",
   "id": "cbaf5700",
   "metadata": {
    "slideshow": {
     "slide_type": "slide"
    }
   },
   "source": [
    "## Magic method for equal\n",
    "\n",
    "* In this example I have coded the magic method __equal__ so that the classes can be used in a check for equality.\n",
    "* In this example I have coded the magic method __le__ so  that the classes can be used in a check for equality.\n",
    "\n",
    "See the code rectangle_sort.py\n"
   ]
  },
  {
   "cell_type": "code",
   "execution_count": 2,
   "id": "4430abba",
   "metadata": {},
   "outputs": [
    {
     "name": "stdout",
     "output_type": "stream",
     "text": [
      "4500\n",
      "50\n",
      "50\n"
     ]
    },
    {
     "ename": "TypeError",
     "evalue": "'<' not supported between instances of 'Rectangle' and 'Rectangle'",
     "output_type": "error",
     "traceback": [
      "\u001b[0;31m---------------------------------------------------------------------------\u001b[0m",
      "\u001b[0;31mTypeError\u001b[0m                                 Traceback (most recent call last)",
      "\u001b[0;32m/var/folders/6m/lb4tj5q142l1fydx4rw88kkhtkdcl_/T/ipykernel_68518/3836295033.py\u001b[0m in \u001b[0;36m<module>\u001b[0;34m\u001b[0m\n\u001b[1;32m      6\u001b[0m \u001b[0;32mfor\u001b[0m \u001b[0mx\u001b[0m \u001b[0;32min\u001b[0m \u001b[0mdd\u001b[0m\u001b[0;34m:\u001b[0m\u001b[0;34m\u001b[0m\u001b[0;34m\u001b[0m\u001b[0m\n\u001b[1;32m      7\u001b[0m    \u001b[0mprint\u001b[0m\u001b[0;34m(\u001b[0m\u001b[0mx\u001b[0m\u001b[0;34m.\u001b[0m\u001b[0marea\u001b[0m\u001b[0;34m(\u001b[0m\u001b[0;34m)\u001b[0m \u001b[0;34m)\u001b[0m\u001b[0;34m\u001b[0m\u001b[0;34m\u001b[0m\u001b[0m\n\u001b[0;32m----> 8\u001b[0;31m \u001b[0mdd_sorted\u001b[0m \u001b[0;34m=\u001b[0m \u001b[0msorted\u001b[0m\u001b[0;34m(\u001b[0m\u001b[0mdd\u001b[0m\u001b[0;34m)\u001b[0m\u001b[0;34m\u001b[0m\u001b[0;34m\u001b[0m\u001b[0m\n\u001b[0m\u001b[1;32m      9\u001b[0m \u001b[0;34m\u001b[0m\u001b[0m\n\u001b[1;32m     10\u001b[0m \u001b[0mprint\u001b[0m\u001b[0;34m(\u001b[0m\u001b[0;34m\"Sorted \"\u001b[0m\u001b[0;34m)\u001b[0m\u001b[0;34m\u001b[0m\u001b[0;34m\u001b[0m\u001b[0m\n",
      "\u001b[0;31mTypeError\u001b[0m: '<' not supported between instances of 'Rectangle' and 'Rectangle'"
     ]
    }
   ],
   "source": [
    "rectangle_a = Rectangle(100, 45)\n",
    "rectangle_b = Rectangle(10, 5)\n",
    "rectangle_c = Rectangle(10, 5)\n",
    "\n",
    "dd = [ rectangle_a , rectangle_b , rectangle_c  ] \n",
    "for x in dd:\n",
    "   print(x.area() )\n",
    "dd_sorted = sorted(dd)\n",
    "\n",
    "print(\"Sorted \")\n",
    "for x in dd_sorted:\n",
    "   print(x.area() )\n"
   ]
  },
  {
   "cell_type": "markdown",
   "id": "b45461f1",
   "metadata": {
    "slideshow": {
     "slide_type": "slide"
    }
   },
   "source": [
    "## Polymorphism\n",
    "\n",
    "**Polymorphism** means “many forms.\n",
    "\n",
    "* https://linuxhint.com/polymorphism_in_python/ \n",
    "* https://www.edureka.co/blog/polymorphism-in-python/\n",
    "\n",
    "* In C++ polymorphism is key feature of the object oriented features of the language. However, polymorphism is more complicated  in C++ than python.\n",
    "\n"
   ]
  },
  {
   "cell_type": "markdown",
   "id": "52e5c5ca",
   "metadata": {
    "slideshow": {
     "slide_type": "slide"
    }
   },
   "source": [
    "## Polymorphism example\n",
    "\n",
    "We have a collection of simple shapes in two dimensions.\n",
    "\n",
    "* Square class with an area method.\n",
    "* Rectangle class with an area method.\n",
    "\n",
    "\n",
    "We have a list of squares and rectangles. We want to find\n",
    "the total area."
   ]
  },
  {
   "cell_type": "markdown",
   "id": "e6e5b709",
   "metadata": {},
   "source": [
    "##  Polymorphism example \n",
    "\n"
   ]
  },
  {
   "cell_type": "code",
   "execution_count": 3,
   "id": "ac2341ac",
   "metadata": {},
   "outputs": [
    {
     "name": "stdout",
     "output_type": "stream",
     "text": [
      "Total area =  22\n"
     ]
    }
   ],
   "source": [
    "class Rectangle:\n",
    "    def __init__(self, x, y):\n",
    "        self.x = x\n",
    "        self.y = y\n",
    "    def area(self):\n",
    "        return self.x * self.y\n",
    "class Square:\n",
    "    def __init__(self, x):\n",
    "        self.x = x\n",
    "    def area(self):\n",
    "        return self.x**2 \n",
    "list_of_shapes = [Square(2),Rectangle(1,2),Square(4)] \n",
    "total_area = 0 \n",
    "for shape in list_of_shapes :\n",
    "  total_area += shape.area()\n",
    "print(\"Total area = \" ,  total_area)"
   ]
  },
  {
   "cell_type": "code",
   "execution_count": null,
   "id": "e9ea3c27",
   "metadata": {},
   "outputs": [],
   "source": []
  }
 ],
 "metadata": {
  "celltoolbar": "Slideshow",
  "kernelspec": {
   "display_name": "Python 3 (ipykernel)",
   "language": "python",
   "name": "python3"
  },
  "language_info": {
   "codemirror_mode": {
    "name": "ipython",
    "version": 3
   },
   "file_extension": ".py",
   "mimetype": "text/x-python",
   "name": "python",
   "nbconvert_exporter": "python",
   "pygments_lexer": "ipython3",
   "version": "3.10.0"
  }
 },
 "nbformat": 4,
 "nbformat_minor": 5
}
