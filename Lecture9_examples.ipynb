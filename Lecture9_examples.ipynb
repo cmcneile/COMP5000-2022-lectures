{
 "cells": [
  {
   "cell_type": "markdown",
   "id": "1832d00b",
   "metadata": {
    "slideshow": {
     "slide_type": "slide"
    }
   },
   "source": [
    "# Python examples in lecture 9\n",
    "* This file is a jupyter notebook. To run it you can download it from the DLE and run it on your own machine.\n",
    "* Or you can run it on google collab <https://colab.research.google.com> via your google account. This may be slower than running on your own machine\n",
    "* Information on downloading notebooks from the store to your computer https://youtu.be/1zY7hIj5tWg"
   ]
  },
  {
   "cell_type": "markdown",
   "id": "5979d09c",
   "metadata": {
    "slideshow": {
     "slide_type": "slide"
    }
   },
   "source": [
    "\n",
    "## Rectangle example\n",
    "\n",
    "* Consider a code to calculate the area of a rectangle "
   ]
  },
  {
   "cell_type": "code",
   "execution_count": 1,
   "id": "822d85ea",
   "metadata": {},
   "outputs": [
    {
     "name": "stdout",
     "output_type": "stream",
     "text": [
      "Area of rectangle= 4500\n"
     ]
    }
   ],
   "source": [
    "\n",
    "def area(x,y):\n",
    "  return  x*y\n",
    "\n",
    "# rectangle\n",
    "width = 45\n",
    "height = 100\n",
    "\n",
    "print (\"Area of rectangle=\" ,  area(width,height))"
   ]
  },
  {
   "cell_type": "markdown",
   "id": "50bff1be",
   "metadata": {
    "slideshow": {
     "slide_type": "slide"
    }
   },
   "source": [
    "## Object oriented programming\n",
    "\n",
    "\n",
    "In the previous example:\n",
    "\n",
    "* There were variables which store values.\n",
    "* There was a function which operated on the variables.\n",
    "\n",
    "\n",
    "\n",
    "However, there may be a better way to organize the code.\n",
    "\n",
    "\n",
    "* The program should model reality. It maybe better to think of a rectangle as an object.  \n",
    "*  If you are writing say a system to deal air traffic control, it would seem better to  use an object such as a **plane**.\n",
    "\n"
   ]
  },
  {
   "cell_type": "markdown",
   "id": "2f9b694c",
   "metadata": {
    "slideshow": {
     "slide_type": "slide"
    }
   },
   "source": [
    "##  Example of class in python"
   ]
  },
  {
   "cell_type": "code",
   "execution_count": 3,
   "id": "2210c00c",
   "metadata": {},
   "outputs": [
    {
     "name": "stdout",
     "output_type": "stream",
     "text": [
      "Area =  4500\n"
     ]
    }
   ],
   "source": [
    "class Rectangle:\n",
    "    def __init__(self, x, y):\n",
    "        self.x = x\n",
    "        self.y = y\n",
    "    def area(self):\n",
    "        return self.x * self.y\n",
    "\n",
    "rectangle = Rectangle(100, 45)\n",
    "print (\"Area = \" , rectangle.area())"
   ]
  },
  {
   "cell_type": "markdown",
   "id": "5877eea3",
   "metadata": {},
   "source": [
    "In the jargon of object orientation. \n",
    "\n",
    "* We defined the class Rectangle.\n",
    "* rectangle is an object\n",
    "* __init__ is a **constructor** and is called by Rectangle(100, 45).\n",
    "* self.x are variables internal to the object. They are known as **attributes**.\n",
    "* area() is a **method**."
   ]
  },
  {
   "cell_type": "markdown",
   "id": "ae6b1bcf",
   "metadata": {
    "slideshow": {
     "slide_type": "slide"
    }
   },
   "source": [
    "## Some examples of using objects in python\n",
    "\n",
    "We have already worked with objects, methods and attributes."
   ]
  },
  {
   "cell_type": "code",
   "execution_count": 4,
   "id": "540ff8e1",
   "metadata": {},
   "outputs": [
    {
     "name": "stdout",
     "output_type": "stream",
     "text": [
      "x =  [1. 2. 3.]\n",
      "Mean (via a method)  2.0\n",
      "Shape (via an attribute)  (3,)\n",
      "y =  [0.5 0.5 0.5]\n",
      "z =  [1.5 2.5 3.5]\n"
     ]
    }
   ],
   "source": [
    "import numpy as np\n",
    "x = np.array(  [ 1.0 , 2.0 , 3.0] )\n",
    "print(\"x = \" , x)\n",
    "print(\"Mean (via a method) \" , x.mean())\n",
    "\n",
    "print(\"Shape (via an attribute) \" , x.shape)\n",
    "y = np.array(  [ 0.5 , 0.5 , 0.5] )\n",
    "\n",
    "# call a magic method (see later)\n",
    "z = x + y \n",
    "print(\"y = \" , y)\n",
    "print(\"z = \" , z)\n"
   ]
  },
  {
   "cell_type": "markdown",
   "id": "1d2d8dee",
   "metadata": {
    "slideshow": {
     "slide_type": "slide"
    }
   },
   "source": [
    "##  Why would you do this?"
   ]
  },
  {
   "cell_type": "code",
   "execution_count": 5,
   "id": "3d08e17f",
   "metadata": {},
   "outputs": [
    {
     "name": "stdout",
     "output_type": "stream",
     "text": [
      "Area =  4500\n"
     ]
    }
   ],
   "source": [
    "rectangle = Rectangle(100, 45)\n",
    "print (\"Area = \" , rectangle.area())"
   ]
  },
  {
   "cell_type": "markdown",
   "id": "d56b16e4",
   "metadata": {},
   "source": [
    " The user of the class doesn't need to know the inner details of what the \n",
    "class is doing.\n",
    "\n",
    "* The idea is called **encapsulation.**\n",
    "\n",
    "\n",
    "\n",
    "For example in this application, I have not stored what the units of\n",
    "the area are: m, cm or pixels.\n"
   ]
  },
  {
   "cell_type": "markdown",
   "id": "91c3f012",
   "metadata": {
    "slideshow": {
     "slide_type": "slide"
    }
   },
   "source": [
    "##   Improved example of Rectangle class"
   ]
  },
  {
   "cell_type": "code",
   "execution_count": 7,
   "id": "5033015f",
   "metadata": {},
   "outputs": [
    {
     "name": "stdout",
     "output_type": "stream",
     "text": [
      "Area =  4500 cm^2\n"
     ]
    }
   ],
   "source": [
    "class Rectangle:\n",
    "    def __init__(self, x, y, unit):\n",
    "        self.x = x\n",
    "        self.y = y\n",
    "        self.unit  = unit\n",
    "    def area(self):\n",
    "        area = self.x * self.y\n",
    "        return str(area) + \" \" + self.unit + \"^2\"\n",
    "\n",
    "rectangle = Rectangle(100, 45, \"cm\")\n",
    "print (\"Area = \" , rectangle.area())"
   ]
  },
  {
   "cell_type": "markdown",
   "id": "4cb59993",
   "metadata": {
    "slideshow": {
     "slide_type": "slide"
    }
   },
   "source": [
    "## Comment on classes\n",
    "\n",
    "\n",
    "* In some languages, such as C++ the class variables can be hidden from the user of the class. You can only access the variables via methods.\n",
    "\n",
    "* In python you can access variables such as self.x and self.y\n",
    "\n",
    "* There are some \"tricks\" which can hide the internal variables."
   ]
  },
  {
   "cell_type": "code",
   "execution_count": 8,
   "id": "79b44245",
   "metadata": {},
   "outputs": [
    {
     "name": "stdout",
     "output_type": "stream",
     "text": [
      "Area(1) =  4500 cm^2\n",
      "x =  100\n",
      "y =  45\n",
      "Area(2) =  50 cm^2\n"
     ]
    }
   ],
   "source": [
    "class Rectangle:\n",
    "    def __init__(self, x, y, unit):\n",
    "        self.x = x\n",
    "        self.y = y\n",
    "        self.unit  = unit\n",
    "    def area(self):\n",
    "        area = self.x * self.y\n",
    "        return str(area) + \" \" + self.unit + \"^2\"\n",
    "\n",
    "rectangle_1 = Rectangle(100, 45, \"cm\")\n",
    "print (\"Area(1) = \" , rectangle_1.area())\n",
    "print (\"x = \" , rectangle_1.x)\n",
    "print (\"y = \" , rectangle_1.y)\n",
    "rectangle_2 = Rectangle(10, 5, \"cm\")\n",
    "print (\"Area(2) = \" , rectangle_2.area())\n"
   ]
  },
  {
   "cell_type": "code",
   "execution_count": null,
   "id": "86e0abca",
   "metadata": {},
   "outputs": [],
   "source": []
  }
 ],
 "metadata": {
  "celltoolbar": "Slideshow",
  "kernelspec": {
   "display_name": "Python 3 (ipykernel)",
   "language": "python",
   "name": "python3"
  },
  "language_info": {
   "codemirror_mode": {
    "name": "ipython",
    "version": 3
   },
   "file_extension": ".py",
   "mimetype": "text/x-python",
   "name": "python",
   "nbconvert_exporter": "python",
   "pygments_lexer": "ipython3",
   "version": "3.10.0"
  }
 },
 "nbformat": 4,
 "nbformat_minor": 5
}
