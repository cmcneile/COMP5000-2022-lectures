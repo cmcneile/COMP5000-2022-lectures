{
 "cells": [
  {
   "cell_type": "markdown",
   "id": "1832d00b",
   "metadata": {
    "slideshow": {
     "slide_type": "slide"
    }
   },
   "source": [
    "# Python examples in lecture 9\n",
    "* This file is a jupyter notebook. To run it you can download it from the DLE and run it on your own machine.\n",
    "* Or you can run it on google collab <https://colab.research.google.com> via your google account. This may be slower than running on your own machine\n",
    "* Information on downloading notebooks from the store to your computer https://youtu.be/1zY7hIj5tWg"
   ]
  },
  {
   "cell_type": "markdown",
   "id": "5979d09c",
   "metadata": {
    "slideshow": {
     "slide_type": "slide"
    }
   },
   "source": [
    "\n",
    "## Rectangle example\n",
    "\n",
    "* Consider a code to calculate the area of a rectangle \n",
    "* The rectangle has width x and height y\n",
    "\n",
    "![Rectangle](https://github.com/cmcneile/COMP5000-2022-lectures/blob/main/rectangle.png?raw=true)"
   ]
  },
  {
   "cell_type": "code",
   "execution_count": 1,
   "id": "822d85ea",
   "metadata": {
    "slideshow": {
     "slide_type": "slide"
    }
   },
   "outputs": [
    {
     "name": "stdout",
     "output_type": "stream",
     "text": [
      "Area of rectangle= 4500\n"
     ]
    }
   ],
   "source": [
    "\n",
    "def area(x,y):\n",
    "  return  x*y\n",
    "\n",
    "# rectangle\n",
    "width = 45\n",
    "height = 100\n",
    "\n",
    "print (\"Area of rectangle=\" ,  area(width,height))"
   ]
  },
  {
   "cell_type": "markdown",
   "id": "50bff1be",
   "metadata": {
    "slideshow": {
     "slide_type": "slide"
    }
   },
   "source": [
    "## Object oriented programming\n",
    "\n",
    "\n",
    "In the previous example:\n",
    "\n",
    "* There were variables which store values.\n",
    "* There was a function which operated on the variables.\n",
    "\n",
    "\n",
    "\n",
    "However, there may be a better way to organize the code.\n",
    "\n",
    "\n",
    "* The program should model reality. It maybe better to think of a rectangle as an object.  \n",
    "*  If you are writing say a system to deal air traffic control, it would seem better to  use an object such as a **plane**.\n",
    "\n"
   ]
  },
  {
   "cell_type": "markdown",
   "id": "2f9b694c",
   "metadata": {
    "slideshow": {
     "slide_type": "slide"
    }
   },
   "source": [
    "##  Example of class in python"
   ]
  },
  {
   "cell_type": "code",
   "execution_count": 3,
   "id": "2210c00c",
   "metadata": {},
   "outputs": [
    {
     "name": "stdout",
     "output_type": "stream",
     "text": [
      "Area =  4500\n"
     ]
    }
   ],
   "source": [
    "class Rectangle:\n",
    "    def __init__(self, x, y):\n",
    "        self.x = x\n",
    "        self.y = y\n",
    "    def area(self):\n",
    "        return self.x * self.y\n",
    "\n",
    "rectangle = Rectangle(100, 45)\n",
    "print (\"Area = \" , rectangle.area())"
   ]
  },
  {
   "cell_type": "markdown",
   "id": "5877eea3",
   "metadata": {},
   "source": [
    "In the jargon of object orientation. \n",
    "\n",
    "* We defined the class Rectangle.\n",
    "* rectangle is an object\n",
    "* __init__ is a **constructor** and is called by Rectangle(100, 45).\n",
    "* self.x are variables internal to the object. They are known as **attributes**.\n",
    "* area() is a **method**."
   ]
  },
  {
   "cell_type": "markdown",
   "id": "ae6b1bcf",
   "metadata": {
    "slideshow": {
     "slide_type": "slide"
    }
   },
   "source": [
    "## Some examples of using objects in python\n",
    "\n",
    "We have already worked with objects, methods and attributes."
   ]
  },
  {
   "cell_type": "code",
   "execution_count": 4,
   "id": "540ff8e1",
   "metadata": {},
   "outputs": [
    {
     "name": "stdout",
     "output_type": "stream",
     "text": [
      "x =  [1. 2. 3.]\n",
      "Mean (via a method)  2.0\n",
      "Shape (via an attribute)  (3,)\n",
      "y =  [0.5 0.5 0.5]\n",
      "z =  [1.5 2.5 3.5]\n"
     ]
    }
   ],
   "source": [
    "import numpy as np\n",
    "x = np.array(  [ 1.0 , 2.0 , 3.0] )\n",
    "print(\"x = \" , x)\n",
    "print(\"Mean (via a method) \" , x.mean())\n",
    "\n",
    "print(\"Shape (via an attribute) \" , x.shape)\n",
    "y = np.array(  [ 0.5 , 0.5 , 0.5] )\n",
    "\n",
    "# call a magic method (see later)\n",
    "z = x + y \n",
    "print(\"y = \" , y)\n",
    "print(\"z = \" , z)\n"
   ]
  },
  {
   "cell_type": "markdown",
   "id": "1d2d8dee",
   "metadata": {
    "slideshow": {
     "slide_type": "slide"
    }
   },
   "source": [
    "##  Why would you do this?"
   ]
  },
  {
   "cell_type": "code",
   "execution_count": 5,
   "id": "3d08e17f",
   "metadata": {},
   "outputs": [
    {
     "name": "stdout",
     "output_type": "stream",
     "text": [
      "Area =  4500\n"
     ]
    }
   ],
   "source": [
    "rectangle = Rectangle(100, 45)\n",
    "print (\"Area = \" , rectangle.area())"
   ]
  },
  {
   "cell_type": "markdown",
   "id": "d56b16e4",
   "metadata": {},
   "source": [
    " The user of the class doesn't need to know the inner details of what the \n",
    "class is doing.\n",
    "\n",
    "* The idea is called **encapsulation.**\n",
    "\n",
    "\n",
    "\n",
    "For example in this application, I have not stored what the units of\n",
    "the area are: m, cm or pixels.\n"
   ]
  },
  {
   "cell_type": "markdown",
   "id": "91c3f012",
   "metadata": {
    "slideshow": {
     "slide_type": "slide"
    }
   },
   "source": [
    "##   Improved example of Rectangle class"
   ]
  },
  {
   "cell_type": "code",
   "execution_count": 7,
   "id": "5033015f",
   "metadata": {},
   "outputs": [
    {
     "name": "stdout",
     "output_type": "stream",
     "text": [
      "Area =  4500 cm^2\n"
     ]
    }
   ],
   "source": [
    "class Rectangle:\n",
    "    def __init__(self, x, y, unit):\n",
    "        self.x = x\n",
    "        self.y = y\n",
    "        self.unit  = unit\n",
    "    def area(self):\n",
    "        area = self.x * self.y\n",
    "        return str(area) + \" \" + self.unit + \"^2\"\n",
    "\n",
    "rectangle = Rectangle(100, 45, \"cm\")\n",
    "print (\"Area = \" , rectangle.area())"
   ]
  },
  {
   "cell_type": "markdown",
   "id": "4cb59993",
   "metadata": {
    "slideshow": {
     "slide_type": "slide"
    }
   },
   "source": [
    "## Comment on classes\n",
    "\n",
    "\n",
    "* In some languages, such as C++ the class variables can be hidden from the user of the class. You can only access the variables via methods.\n",
    "\n",
    "* In python you can access variables such as self.x and self.y\n",
    "\n",
    "* There are some \"tricks\" which can hide the internal variables."
   ]
  },
  {
   "cell_type": "code",
   "execution_count": 8,
   "id": "79b44245",
   "metadata": {},
   "outputs": [
    {
     "name": "stdout",
     "output_type": "stream",
     "text": [
      "Area(1) =  4500 cm^2\n",
      "x =  100\n",
      "y =  45\n",
      "Area(2) =  50 cm^2\n"
     ]
    }
   ],
   "source": [
    "class Rectangle:\n",
    "    def __init__(self, x, y, unit):\n",
    "        self.x = x\n",
    "        self.y = y\n",
    "        self.unit  = unit\n",
    "    def area(self):\n",
    "        area = self.x * self.y\n",
    "        return str(area) + \" \" + self.unit + \"^2\"\n",
    "\n",
    "rectangle_1 = Rectangle(100, 45, \"cm\")\n",
    "print (\"Area(1) = \" , rectangle_1.area())\n",
    "print (\"x = \" , rectangle_1.x)\n",
    "print (\"y = \" , rectangle_1.y)\n",
    "rectangle_2 = Rectangle(10, 5, \"cm\")\n",
    "print (\"Area(2) = \" , rectangle_2.area())\n"
   ]
  },
  {
   "cell_type": "markdown",
   "id": "831b745d",
   "metadata": {
    "slideshow": {
     "slide_type": "slide"
    }
   },
   "source": [
    "##  Magic methods\n",
    "\n",
    "These are special methods which allow your objects to behave like\n",
    "built in types. For example, you define your own addition operator\n",
    "for your classes.\n",
    "\n",
    "$$\n",
    "c = a + b \n",
    "$$\n",
    "\n",
    "Examples of magic methods.\n",
    "\n",
    "* __init()__  the constructor\n",
    "* __str()__   called when str(a) is run where a is the object\n",
    "\n",
    "\n",
    "We shall see some examples later.\n",
    "\n",
    "See https://rszalski.github.io/magicmethods/ for more informtion.\n"
   ]
  },
  {
   "cell_type": "markdown",
   "id": "b4524d35",
   "metadata": {
    "slideshow": {
     "slide_type": "slide"
    }
   },
   "source": [
    "## str magic method\n",
    "\n",
    "* __str()__ method is called by str, which converts to a string.\n",
    "* Also the __str()__ is used in the print statement\n",
    "\n"
   ]
  },
  {
   "cell_type": "code",
   "execution_count": 1,
   "id": "4c2f8062",
   "metadata": {},
   "outputs": [
    {
     "name": "stdout",
     "output_type": "stream",
     "text": [
      "str(rectangle) =  Rectangle dimensions 100 x 45\n",
      "rectangle =  Rectangle dimensions 100 x 45\n"
     ]
    }
   ],
   "source": [
    "class Rectangle:\n",
    "    def __init__(self, x, y):\n",
    "        self.x = x\n",
    "        self.y = y\n",
    "    def area(self):\n",
    "        return self.x * self.y\n",
    "    def __str__(self):\n",
    "        return \"Rectangle dimensions \" + str(self.x) + \" x \" + str(self.y)\n",
    "\n",
    "rectangle = Rectangle(100, 45)\n",
    "print(\"str(rectangle) = \" , str(rectangle))\n",
    "print(\"rectangle = \" , rectangle)\n"
   ]
  },
  {
   "cell_type": "markdown",
   "id": "cbaf5700",
   "metadata": {
    "slideshow": {
     "slide_type": "slide"
    }
   },
   "source": [
    "## Magic method for equal\n",
    "\n",
    "* In this example I have coded the magic method __equal__ so that the classes can be used in a check for equality.\n",
    "* In this example I have coded the magic method __le__ so  that the classes can be used in a check for equality.\n",
    "\n",
    "See the code in the next cell\n"
   ]
  },
  {
   "cell_type": "code",
   "execution_count": 3,
   "id": "6d64df3e",
   "metadata": {},
   "outputs": [],
   "source": [
    "class Rectangle:\n",
    "    \"\"\"\"\n",
    "    Basic class to describe a rectangle\n",
    "    \"\"\"\n",
    "    def __init__(self, x, y):\n",
    "        self.x = x\n",
    "        self.y = y\n",
    "\n",
    "    def area(self):\n",
    "        return self.x * self.y\n",
    "\n",
    "    def __str__(self):\n",
    "        return \"Rectangle dimensions \" + str(self.x) + \" x \" + str(self.y)\n",
    "\n",
    "    def __repr__(self):\n",
    "        return \"Rectangle dimensions \" + str(self.x) + \" x \" + str(self.y)\n",
    "\n",
    "    def __eq__(self, aa):\n",
    "        return self.x == aa.x and  self.y == aa.y\n",
    "\n",
    "    def __lt__(self,other) :\n",
    "        return self.area() < other.area()\n",
    "\n"
   ]
  },
  {
   "cell_type": "code",
   "execution_count": 4,
   "id": "4430abba",
   "metadata": {},
   "outputs": [
    {
     "name": "stdout",
     "output_type": "stream",
     "text": [
      "4500\n",
      "50\n",
      "50\n",
      "Sorted \n",
      "50\n",
      "50\n",
      "4500\n"
     ]
    }
   ],
   "source": [
    "rectangle_a = Rectangle(100, 45)\n",
    "rectangle_b = Rectangle(10, 5)\n",
    "rectangle_c = Rectangle(10, 5)\n",
    "\n",
    "dd = [ rectangle_a , rectangle_b , rectangle_c  ] \n",
    "for x in dd:\n",
    "   print(x.area() )\n",
    "dd_sorted = sorted(dd)\n",
    "\n",
    "print(\"Sorted \")\n",
    "for x in dd_sorted:\n",
    "   print(x.area() )\n"
   ]
  },
  {
   "cell_type": "markdown",
   "id": "b45461f1",
   "metadata": {
    "slideshow": {
     "slide_type": "slide"
    }
   },
   "source": [
    "## Polymorphism\n",
    "\n",
    "**Polymorphism** means “many forms.\n",
    "\n",
    "* https://linuxhint.com/polymorphism_in_python/ \n",
    "* https://www.edureka.co/blog/polymorphism-in-python/\n",
    "\n",
    "* In C++ polymorphism is key feature of the object oriented features of the language. However, polymorphism is more complicated  in C++ than python.\n",
    "* In python there is Duck typing https://en.wikipedia.org/wiki/Duck_typing\n",
    "\n",
    "<blockquote>\n",
    "If it walks like a duck and it quacks like a duck, then it must be a duck\n",
    "</blockquote>"
   ]
  },
  {
   "cell_type": "markdown",
   "id": "52e5c5ca",
   "metadata": {
    "slideshow": {
     "slide_type": "slide"
    }
   },
   "source": [
    "## Polymorphism example\n",
    "\n",
    "We have a collection of simple shapes in two dimensions.\n",
    "\n",
    "* Square class with an area method.\n",
    "* Rectangle class with an area method.\n",
    "\n",
    "\n",
    "We have a list of squares and rectangles. We want to find\n",
    "the total area."
   ]
  },
  {
   "cell_type": "markdown",
   "id": "e6e5b709",
   "metadata": {
    "slideshow": {
     "slide_type": "slide"
    }
   },
   "source": [
    "##  Polymorphism example \n",
    "\n"
   ]
  },
  {
   "cell_type": "code",
   "execution_count": 3,
   "id": "ac2341ac",
   "metadata": {},
   "outputs": [
    {
     "name": "stdout",
     "output_type": "stream",
     "text": [
      "Total area =  22\n"
     ]
    }
   ],
   "source": [
    "class Rectangle:\n",
    "    def __init__(self, x, y):\n",
    "        self.x = x\n",
    "        self.y = y\n",
    "    def area(self):\n",
    "        return self.x * self.y\n",
    "class Square:\n",
    "    def __init__(self, x):\n",
    "        self.x = x\n",
    "    def area(self):\n",
    "        return self.x**2 \n",
    "list_of_shapes = [Square(2),Rectangle(1,2),Square(4)] \n",
    "total_area = 0 \n",
    "for shape in list_of_shapes :\n",
    "  total_area += shape.area()\n",
    "print(\"Total area = \" ,  total_area)"
   ]
  },
  {
   "cell_type": "markdown",
   "id": "621fa405",
   "metadata": {
    "slideshow": {
     "slide_type": "slide"
    }
   },
   "source": [
    "##  Using pickle to save dataframe"
   ]
  },
  {
   "cell_type": "code",
   "execution_count": 1,
   "id": "82e884c4",
   "metadata": {},
   "outputs": [
    {
     "name": "stdout",
     "output_type": "stream",
     "text": [
      "   Name  Age\n",
      "0   Tom   23\n",
      "1  Nick   35\n",
      "2  Jane   24\n"
     ]
    }
   ],
   "source": [
    "import pandas as pd \n",
    "import pickle\n",
    "data = [['Tom', 23], ['Nick', 35], ['Jane', 24]] \n",
    "df = pd.DataFrame(data, columns = ['Name', 'Age']) \n",
    "print(df)\n",
    "filename = 'storage'\n",
    "df.to_pickle(filename)"
   ]
  },
  {
   "cell_type": "markdown",
   "id": "f7fa66b7",
   "metadata": {},
   "source": [
    "## Using pickle to reload the pandas dataframe"
   ]
  },
  {
   "cell_type": "code",
   "execution_count": 2,
   "id": "8f2b818c",
   "metadata": {},
   "outputs": [
    {
     "name": "stdout",
     "output_type": "stream",
     "text": [
      "Name  Age\n",
      " Tom   23\n",
      "Nick   35\n",
      "Jane   24\n"
     ]
    }
   ],
   "source": [
    "import pandas as pd \n",
    "import pickle\n",
    "\n",
    "filename = 'storage'\n",
    "df = pd.read_pickle(filename)\n",
    "\n",
    "print(df.to_string(index=False))"
   ]
  },
  {
   "cell_type": "markdown",
   "id": "b08948ab",
   "metadata": {
    "slideshow": {
     "slide_type": "slide"
    }
   },
   "source": [
    "## Pandas and databases\n",
    "\n",
    "\n",
    "Pandas has powerful routines to directly work with databases\n",
    "using SQL.\n",
    "\n",
    "\n",
    "\n",
    "* **pandas.read_sql_table** read full table from sqlite database file into pandas dataframe.\n",
    "* **DataFrame.to_sql**  Write dataframe to sqlite database file.\n",
    "* **pandas.read_sql_query** Run SQL query on sqlite database file and put the result in  a dataframe\n",
    "\n",
    "See some examples later."
   ]
  },
  {
   "cell_type": "markdown",
   "id": "462f52af",
   "metadata": {
    "slideshow": {
     "slide_type": "slide"
    }
   },
   "source": [
    "##  Write a pandas dataframe to a sqlite database\n",
    "* filename **tips.ddb**\n",
    "* name of the table **my_tips**"
   ]
  },
  {
   "cell_type": "code",
   "execution_count": 7,
   "id": "94b42e92",
   "metadata": {},
   "outputs": [
    {
     "name": "stdout",
     "output_type": "stream",
     "text": [
      "   total_bill   tip     sex smoker  day    time  size\n",
      "0       16.99  1.01  Female     No  Sun  Dinner     2\n",
      "1       10.34  1.66    Male     No  Sun  Dinner     3\n",
      "2       21.01  3.50    Male     No  Sun  Dinner     3\n",
      "3       23.68  3.31    Male     No  Sun  Dinner     2\n",
      "4       24.59  3.61  Female     No  Sun  Dinner     4\n"
     ]
    }
   ],
   "source": [
    "import pandas as pd\n",
    "import numpy as np\n",
    "import sqlite3\n",
    "url = (\n",
    "    \"https://raw.github.com/pandas-dev\"\n",
    "    \"/pandas/master/pandas/tests/io/data/csv/tips.csv\"\n",
    ")\n",
    "df = pd.read_csv(url)\n",
    "print(df.head())\n",
    "conn = sqlite3.connect(\"tips.db\")\n",
    "df.to_sql(\"my_tips\", conn, if_exists=\"replace\")\n",
    "conn.close()\n"
   ]
  },
  {
   "cell_type": "markdown",
   "id": "f1dad002",
   "metadata": {},
   "source": [
    "## Comments\n",
    "\n",
    "* There is no schema or variables type defined by the python script.\n",
    "\n",
    "* May not be efficient to load the entire csv file into a dataframe.\n",
    "\n",
    "* Also remember the data may need to be cleaned."
   ]
  },
  {
   "cell_type": "markdown",
   "id": "8641c13c",
   "metadata": {
    "slideshow": {
     "slide_type": "slide"
    }
   },
   "source": [
    "## Run SQL on sqlite database and put in dataframe"
   ]
  },
  {
   "cell_type": "code",
   "execution_count": 8,
   "id": "820ed60a",
   "metadata": {},
   "outputs": [
    {
     "name": "stdout",
     "output_type": "stream",
     "text": [
      "   index  total_bill   tip     sex smoker  day    time  size\n",
      "0      0       16.99  1.01  Female     No  Sun  Dinner     2\n",
      "1      1       10.34  1.66    Male     No  Sun  Dinner     3\n",
      "2      2       21.01  3.50    Male     No  Sun  Dinner     3\n",
      "3      3       23.68  3.31    Male     No  Sun  Dinner     2\n",
      "4      4       24.59  3.61  Female     No  Sun  Dinner     4\n"
     ]
    }
   ],
   "source": [
    "import pandas as pd\n",
    "import sqlite3\n",
    "conn = sqlite3.connect(\"tips.db\")\n",
    "df = pd.read_sql_query(\"select * from my_tips limit 5;\", conn)\n",
    "print(df)\n"
   ]
  },
  {
   "cell_type": "markdown",
   "id": "fb26d23e",
   "metadata": {},
   "source": [
    "## SQL alchemy\n",
    "\n",
    "https://www.sqlalchemy.org/\n",
    "\n",
    "* SQLAlchemy is a Python library that provides an object\n",
    "  relational mapper (ORM). https://en.wikipedia.org/wiki/Object-relational_mapping\n",
    "\n",
    "*  SQLAlchemy maps your databases (tables, etc.) to Python objects, so that you can more easily and natively interact with them. \n",
    "\n",
    "* SQLAlchemy can be used with sqlite, MySQL, PostgreSQL.\n",
    "\n",
    "SQLAlchemy is used by:\n",
    "\n",
    "*    Yelp!\n",
    "*    reddit\n",
    "*    DropBox\n",
    "*    The OpenStack Project\n",
    "*    Survey Monkey\n"
   ]
  },
  {
   "cell_type": "markdown",
   "id": "51c8db11",
   "metadata": {
    "slideshow": {
     "slide_type": "slide"
    }
   },
   "source": [
    "##  Read table into pandas dataframe\n",
    "* The example I found on the web used sqlalchemy to load a table directly into a pandas dataframe"
   ]
  },
  {
   "cell_type": "code",
   "execution_count": 1,
   "id": "7475cb0a",
   "metadata": {},
   "outputs": [
    {
     "name": "stdout",
     "output_type": "stream",
     "text": [
      "     index  total_bill   tip     sex smoker   day    time  size\n",
      "0        0       16.99  1.01  Female     No   Sun  Dinner     2\n",
      "1        1       10.34  1.66    Male     No   Sun  Dinner     3\n",
      "2        2       21.01  3.50    Male     No   Sun  Dinner     3\n",
      "3        3       23.68  3.31    Male     No   Sun  Dinner     2\n",
      "4        4       24.59  3.61  Female     No   Sun  Dinner     4\n",
      "..     ...         ...   ...     ...    ...   ...     ...   ...\n",
      "239    239       29.03  5.92    Male     No   Sat  Dinner     3\n",
      "240    240       27.18  2.00  Female    Yes   Sat  Dinner     2\n",
      "241    241       22.67  2.00    Male    Yes   Sat  Dinner     2\n",
      "242    242       17.82  1.75    Male     No   Sat  Dinner     2\n",
      "243    243       18.78  3.00  Female     No  Thur  Dinner     2\n",
      "\n",
      "[244 rows x 8 columns]\n"
     ]
    }
   ],
   "source": [
    "import pandas as pd\n",
    "import sqlite3\n",
    "from sqlalchemy import create_engine\n",
    "  \n",
    "# SQLAlchemy connectable\n",
    "cnx = create_engine('sqlite:///tips.db').connect()\n",
    "df = pd.read_sql_table('my_tips', cnx)\n",
    "print(df)\n"
   ]
  },
  {
   "cell_type": "code",
   "execution_count": null,
   "id": "57f62072",
   "metadata": {},
   "outputs": [],
   "source": []
  }
 ],
 "metadata": {
  "celltoolbar": "Slideshow",
  "kernelspec": {
   "display_name": "Python 3 (ipykernel)",
   "language": "python",
   "name": "python3"
  },
  "language_info": {
   "codemirror_mode": {
    "name": "ipython",
    "version": 3
   },
   "file_extension": ".py",
   "mimetype": "text/x-python",
   "name": "python",
   "nbconvert_exporter": "python",
   "pygments_lexer": "ipython3",
   "version": "3.10.0"
  }
 },
 "nbformat": 4,
 "nbformat_minor": 5
}
