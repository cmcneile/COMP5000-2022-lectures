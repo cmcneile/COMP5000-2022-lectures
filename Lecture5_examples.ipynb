{
 "cells": [
  {
   "cell_type": "markdown",
   "id": "1832d00b",
   "metadata": {
    "slideshow": {
     "slide_type": "slide"
    }
   },
   "source": [
    "# Python examples in lecture 5\n",
    "* This file is a jupyter notebook. To run it you can download it from the DLE and run it on your own machine.\n",
    "* Or you can run it on google collab <https://colab.research.google.com> via your google account. This may be slower than running on your own machine\n",
    "* Information on downloading notebooks from the store to your computer https://youtu.be/1zY7hIj5tWg"
   ]
  },
  {
   "cell_type": "markdown",
   "id": "c1477f02",
   "metadata": {
    "slideshow": {
     "slide_type": "slide"
    }
   },
   "source": [
    "##  User interface\n",
    "* Often we want to control a python script with some parameters\n",
    "* Some machine learning algorithms depend on many parameters and you have to explore the different options\n",
    "* We often need to give python code to a non-expert\n",
    "\n",
    "The technical challenges\n",
    "* What is the best way to collect the parameters that control the script?\n",
    "* How do we make it easier for the non-expert user to change parameters and run the script"
   ]
  },
  {
   "cell_type": "markdown",
   "id": "1485e629",
   "metadata": {
    "slideshow": {
     "slide_type": "slide"
    }
   },
   "source": [
    "## Example of the problem\n",
    "* In a module the students obtained the marks: 22,87,5,43,56,73,55,54,11,20,51,5,79,31,27\n",
    "* We are asked to draw a histogram of the marks of he student.\n",
    "* We are asked to investigate the number of bins"
   ]
  },
  {
   "cell_type": "code",
   "execution_count": 1,
   "id": "731bd870",
   "metadata": {},
   "outputs": [
    {
     "data": {
      "image/png": "[encoded data removed]",
      "text/plain": [
       "<Figure size 432x288 with 1 Axes>"
      ]
     },
     "metadata": {
      "needs_background": "light"
     },
     "output_type": "display_data"
    }
   ],
   "source": [
    "the_number_of_bins = 2\n",
    "\n",
    "from matplotlib import pyplot as plt\n",
    "\n",
    "marks = [22,87,5,43,56,73,55,54,11,20,51,5,79,31,27]\n",
    "plt.hist(marks, bins = the_number_of_bins)\n",
    "plt.title(\"histogram of student results\")\n",
    "plt.xlabel('marks')\n",
    "plt.ylabel('no. of students')\n",
    "plt.show()"
   ]
  },
  {
   "cell_type": "code",
   "execution_count": 2,
   "id": "0b0ac59a",
   "metadata": {
    "slideshow": {
     "slide_type": "slide"
    }
   },
   "outputs": [
    {
     "name": "stdout",
     "output_type": "stream",
     "text": [
      "Input the number of bins 3\n",
      "The number of bins in the histogram 3\n"
     ]
    }
   ],
   "source": [
    "import sys\n",
    "try:\n",
    "  x_ = input(\"Input the number of bins \")\n",
    "  the_number_of_bins  = int(x_)\n",
    "except:\n",
    "  print(\"Error in the input\")\n",
    "  sys.exit(0)\n",
    "print(\"The number of bins in the histogram\", the_number_of_bins )\n"
   ]
  },
  {
   "cell_type": "markdown",
   "id": "b4aeab76",
   "metadata": {},
   "source": [
    "* This is a crude way to input parameters relative to other interfaces."
   ]
  },
  {
   "cell_type": "code",
   "execution_count": 4,
   "id": "28f2caef",
   "metadata": {
    "slideshow": {
     "slide_type": "slide"
    }
   },
   "outputs": [
    {
     "name": "stdout",
     "output_type": "stream",
     "text": [
      "Input the number of bins 6\n",
      "The number of bins in the histogram 6\n"
     ]
    },
    {
     "data": {
      "image/png": "[encoded data removed]",
      "text/plain": [
       "<Figure size 432x288 with 1 Axes>"
      ]
     },
     "metadata": {
      "needs_background": "light"
     },
     "output_type": "display_data"
    }
   ],
   "source": [
    "import sys\n",
    "try:\n",
    "  x_ = input(\"Input the number of bins \")\n",
    "  the_number_of_bins  = int(x_)\n",
    "except:\n",
    "  print(\"Error in the input\")\n",
    "  sys.exit(0)\n",
    "print(\"The number of bins in the histogram\", the_number_of_bins )\n",
    "\n",
    "marks = [22,87,5,43,56,73,55,54,11,20,51,5,79,31,27]\n",
    "plt.hist(marks, bins = the_number_of_bins)\n",
    "plt.title(\"histogram of student results\")\n",
    "plt.xlabel('marks')\n",
    "plt.ylabel('no. of students')\n",
    "plt.show()\n"
   ]
  },
  {
   "cell_type": "markdown",
   "id": "bf1c7457",
   "metadata": {
    "slideshow": {
     "slide_type": "slide"
    }
   },
   "source": [
    "##  Introduction to Graphical User Interfaces\n",
    "\n",
    "There are many different options for creating a GUI \n",
    "      with python.\n",
    "\n",
    "* We will use a module called tkinter https://docs.python.org/3/library/tkinter.html.\n",
    "* This module is cross-platform, so code will run on linux, Mac and Windows.\n",
    "* It is the standard / basic module for creating GUI\n",
    "* You don't have to write a large amount of code.\n",
    "\n",
    "Unfortunately, we are not going to cover:\n",
    "\n",
    "* Mobile App\n",
    "* Web App (For example, dash https://towardsdatascience.com/dash-for-beginners-create-interactive-python-dashboards-338bfcb6ffa4)"
   ]
  },
  {
   "cell_type": "markdown",
   "id": "0276af7b",
   "metadata": {
    "slideshow": {
     "slide_type": "slide"
    }
   },
   "source": [
    "## Background to tkinter\n",
    "\n",
    "Tk was created in 1988 by John Ousterhout, a computer science\n",
    "  professor.\n",
    "\n",
    "* Tk was designed to build GUIs from his scripting language TcL. TcL/Tk was an easy way to create GUIs. \n",
    "* Originally Tcl/Tk only ran on UNIX systems.\n",
    "* John Ousterhout joined a company called SUN, where the Windows and MacOS versions were developed. \n",
    "* Mid 2000s the development of Tcl/Tk was done by an open source organization. https://www.tcl.tk/\n",
    "\n"
   ]
  },
  {
   "cell_type": "code",
   "execution_count": 5,
   "id": "822d85ea",
   "metadata": {
    "slideshow": {
     "slide_type": "slide"
    }
   },
   "outputs": [],
   "source": [
    "import tkinter as tk\n",
    "tk.Label(text=\"Hello World\", \n",
    "   fg=\"white\", bg=\"black\").grid(row=0,column=0)\n",
    "tk.mainloop()"
   ]
  },
  {
   "cell_type": "markdown",
   "id": "17fdb39f",
   "metadata": {},
   "source": [
    "* **grid** is the geometry manager.\n",
    "* **Label** is a widget. The label widget displays the text.\n",
    "* **tk.mainloop()**  Tkinter event loop\n"
   ]
  },
  {
   "cell_type": "markdown",
   "id": "a33d1288",
   "metadata": {
    "slideshow": {
     "slide_type": "slide"
    }
   },
   "source": [
    "## Background to tkinter\n",
    "\n",
    "Tk was created in 1988 by John Ousterhout, a computer science\n",
    "  professor.\n",
    "\n",
    "* Tk was designed to build GUIs from his scripting language TcL. TcL/Tk was an easy way to create GUIs. \n",
    "* Originally Tcl/Tk only ran on UNIX systems.\n",
    "* John Ousterhout joined a company called SUN, where the Windows and MacOS versions were developed. \n",
    "* Mid 2000s the development of Tcl/Tk was done by an open source organization. https://www.tcl.tk/\n",
    "\n",
    "Tkinter is the earliest binding of python to Tk.\n"
   ]
  },
  {
   "cell_type": "markdown",
   "id": "df3ae454",
   "metadata": {
    "slideshow": {
     "slide_type": "slide"
    }
   },
   "source": [
    "##  Geometry manager\n",
    "\n",
    "The geometry manager organizes the positions of the widgets on the\n",
    "GUI.\n",
    "\n",
    "\n",
    "There are a number of different geometry managers \n",
    "\n",
    "* **grid** This is the recommenced geometry manager. The widgets are organized by column and row.\n",
    "* **pack** This is used in many examples online.\n",
    "* **place** You can use x-y coordinates to place the widgets.\n",
    "\n",
    "\n",
    "The grid geometry manager lays out the widgets:\n",
    "\n",
    "<pre>\n",
    "[row=0, column=0] **  [row=1, column=0] \n",
    "[row=0, column=1] **  [row=1, column=1]\n",
    "\n",
    "</pre>\n",
    "\n",
    "See https://www.python-course.eu/tkinter_layout_management.php for more information"
   ]
  },
  {
   "cell_type": "markdown",
   "id": "885be934",
   "metadata": {
    "slideshow": {
     "slide_type": "slide"
    }
   },
   "source": [
    "## Example of geometry manager\n",
    "\n",
    "The example below shows how the **grid** geometry manager works:\n",
    "\n"
   ]
  },
  {
   "cell_type": "code",
   "execution_count": 7,
   "id": "393bbff9",
   "metadata": {},
   "outputs": [],
   "source": [
    "import tkinter as tk\n",
    "tk.Label(text=\"Red Sun\", bg=\"red\", \n",
    "   fg=\"white\").grid(column=0, row=0)\n",
    "tk.Label(text=\"Green Grass\", bg=\"green\", \n",
    "   fg=\"black\").grid(column=0, row=1)\n",
    "tk.Label(text=\"Blue Sky\", bg=\"blue\", \n",
    "   fg=\"white\").grid(column=0, row=2)\n",
    "tk.mainloop()\n"
   ]
  },
  {
   "cell_type": "markdown",
   "id": "1e1c83f0",
   "metadata": {
    "slideshow": {
     "slide_type": "slide"
    }
   },
   "source": [
    "##  Widget\n",
    "\n",
    "The GUI is built out of widgets\n",
    "\n",
    "* **Label** Display basic text \n",
    "* **Button** Click to do something.\n",
    "* **Entry** Enter a line of text\n",
    "* **Radiobutton]**\n",
    "* **Scale Widget: Horizontal**\n",
    "* **Scale Widget: Vertical**\n",
    "* **Text Widget**  large areas of text\n",
    "* **Canvas** An area where you can draw\n",
    "* **Listbox**\n",
    "* **Menu Widget**\n",
    "\n",
    "https://www.dummies.com/programming/python/using-tkinter-widgets-in-python"
   ]
  },
  {
   "cell_type": "markdown",
   "id": "a0c8483b",
   "metadata": {
    "slideshow": {
     "slide_type": "slide"
    }
   },
   "source": [
    "##  Combining widgets\n",
    "* Example of the use of widgets.\n",
    "* Note the code doesn't do anything with values added."
   ]
  },
  {
   "cell_type": "code",
   "execution_count": 5,
   "id": "17e6f72b",
   "metadata": {},
   "outputs": [],
   "source": [
    "import tkinter as tk\n",
    "root = tk.Tk()\n",
    "v = tk.IntVar()\n",
    "\n",
    "tk.Label(text=\"List of widgets\", bg=\"red\", \n",
    "        fg=\"white\").grid(column=0, row=0)\n",
    "tk.Radiobutton(text=\"Python\",variable=v, \n",
    "               value=1).grid(column=0, row=1)\n",
    "tk.Scale(from_=0, to=4).grid(column=0, row=2)\n",
    "\n",
    "tk.Label(text=\"First Name\").grid(column=0, row=3)\n",
    "tk.Entry().grid(column=1, row=3)\n",
    "tk.mainloop()\n"
   ]
  },
  {
   "cell_type": "markdown",
   "id": "d97367e2",
   "metadata": {
    "slideshow": {
     "slide_type": "slide"
    }
   },
   "source": [
    "##  Customizing the widgets\n",
    "* Example of the use of customizing the widgets."
   ]
  },
  {
   "cell_type": "code",
   "execution_count": 6,
   "id": "9939e2a5",
   "metadata": {},
   "outputs": [],
   "source": [
    "import tkinter as tk\n",
    "tk.Label(text=\"Hello World\", \n",
    "   fg=\"white\", bg=\"black\",height = 5,\n",
    "   font=('Helvatical bold',20),\n",
    "   width =20).grid(row=0,column=0)\n",
    "tk.mainloop()"
   ]
  },
  {
   "cell_type": "markdown",
   "id": "0a2933b0",
   "metadata": {
    "slideshow": {
     "slide_type": "slide"
    }
   },
   "source": [
    "##  Event driven programming\n",
    "\n",
    "The program waits for input, such as pressing a button,\n",
    "      or entering some text.\n",
    "\n",
    "* When an event occurs,an event handler is run. The event handler is usually a function.\n",
    "* In the jargon, an event handler is **bound** to an event. \n",
    "* This is a very common form of programming for GUIs.\n",
    "\n",
    "![EventProg](https://github.com/cmcneile/COMP5000-2022-lectures/blob/main/convert.png?raw=true)"
   ]
  },
  {
   "cell_type": "markdown",
   "id": "ecb6c937",
   "metadata": {
    "slideshow": {
     "slide_type": "slide"
    }
   },
   "source": [
    "## Example of event driven programming\n",
    "* Clicking on quit will end the python script."
   ]
  },
  {
   "cell_type": "code",
   "execution_count": 8,
   "id": "4ec78aef",
   "metadata": {},
   "outputs": [],
   "source": [
    "import tkinter as tk\n",
    "root = tk.Tk()\n",
    "\n",
    "tk.Label(root, \n",
    "   text=\"Hello World!\").grid(column=0, row=0)\n",
    "tk.Button(root, text=\"Quit\", \n",
    "     command=root.destroy).grid(column=0, row=1)\n",
    "tk.mainloop()"
   ]
  },
  {
   "cell_type": "markdown",
   "id": "81844c02",
   "metadata": {
    "slideshow": {
     "slide_type": "slide"
    }
   },
   "source": [
    "##  Example of an event"
   ]
  },
  {
   "cell_type": "code",
   "execution_count": 7,
   "id": "57b6334b",
   "metadata": {
    "slideshow": {
     "slide_type": "-"
    }
   },
   "outputs": [
    {
     "name": "stdout",
     "output_type": "stream",
     "text": [
      "Text input  gggg\n"
     ]
    }
   ],
   "source": [
    "import tkinter as tk\n",
    "def print_SQL():\n",
    "    print(\"Text input \" , e1.get() )\n",
    "main = tk.Tk()\n",
    "tk.Label(text=\"SQL command\").grid(row=0,column=0)\n",
    "         \n",
    "e1 = tk.Entry()\n",
    "e1.grid(row=0, column=1)\n",
    "\n",
    "tk.Button(text='Quit',\n",
    "          command=main.quit).grid(row=1,column=0)\n",
    "tk.Button(text='Show SQL', \n",
    "   command=print_SQL).grid(row=1,column=1)  \n",
    "tk.mainloop()\n"
   ]
  },
  {
   "cell_type": "markdown",
   "id": "46b315e7",
   "metadata": {
    "slideshow": {
     "slide_type": "slide"
    }
   },
   "source": [
    "##  Example of larger GUI script\n",
    "\n",
    "* Geometry 3 rows and 2 columns.\n",
    "* Event handler **show\\_entry\\_fields**\n",
    "* Event handler master.quit (quits the event loop).\n",
    "* **sticky**  location of widget in the table. W stand for West.\n",
    "* e1.get() gets the text from the entry Widget.\n",
    "* **pady=4** additional padding.\n"
   ]
  },
  {
   "cell_type": "code",
   "execution_count": 8,
   "id": "ef25f2c5",
   "metadata": {},
   "outputs": [
    {
     "name": "stdout",
     "output_type": "stream",
     "text": [
      "First Name: Craig\n",
      "Last Name: McNeile\n"
     ]
    }
   ],
   "source": [
    "##\n",
    "##  https://www.python-course.eu/tkinter_entry_widgets.php\n",
    "##\n",
    "\n",
    "import tkinter as tk\n",
    "\n",
    "def show_entry_fields():\n",
    "    print(\"First Name: %s\\nLast Name: %s\" % (e1.get(), e2.get()))\n",
    "\n",
    "master = tk.Tk()\n",
    "tk.Label(master, \n",
    "         text=\"First Name\").grid(row=0)\n",
    "tk.Label(master, \n",
    "         text=\"Last Name\").grid(row=1)\n",
    "\n",
    "e1 = tk.Entry(master)\n",
    "e2 = tk.Entry(master)\n",
    "\n",
    "e1.grid(row=0, column=1)\n",
    "e2.grid(row=1, column=1)\n",
    "\n",
    "tk.Button(master, \n",
    "          text='Quit', \n",
    "          command=master.quit).grid(row=3, \n",
    "                                    column=0, \n",
    "                                    sticky=tk.W, \n",
    "                                    pady=4)\n",
    "tk.Button(master, \n",
    "          text='Show', command=show_entry_fields).grid(row=3, \n",
    "                                                       column=1, \n",
    "                                                       sticky=tk.W, \n",
    "                                                       pady=4)\n",
    "\n",
    "tk.mainloop()\n"
   ]
  },
  {
   "cell_type": "markdown",
   "id": "eb38e34b",
   "metadata": {
    "slideshow": {
     "slide_type": "slide"
    }
   },
   "source": [
    "##  Another example script\n",
    "\n",
    "\n",
    "* Two buttons which can increase or decrease the initial number.\n",
    "* The number is in the middle of the display"
   ]
  },
  {
   "cell_type": "code",
   "execution_count": 9,
   "id": "580b3b9b",
   "metadata": {},
   "outputs": [],
   "source": [
    "import tkinter as tk\n",
    "\n",
    "def increase():\n",
    "    value = int(lbl_value[\"text\"])\n",
    "    lbl_value[\"text\"] = str(value + 1)\n",
    "\n",
    "\n",
    "def decrease():\n",
    "    value = int(lbl_value[\"text\"])\n",
    "    lbl_value[\"text\"] = str(value - 1)\n",
    "\n",
    "window = tk.Tk()\n",
    "\n",
    "window.rowconfigure(0, minsize=50, weight=1)\n",
    "window.columnconfigure([0, 1, 2], minsize=50, weight=1)\n",
    "\n",
    "btn_decrease = tk.Button(master=window, text=\"-\", command=decrease)\n",
    "btn_decrease.grid(row=0, column=0, sticky=\"nsew\")\n",
    "\n",
    "lbl_value = tk.Label(master=window, text=\"0\")\n",
    "lbl_value.grid(row=0, column=1)\n",
    "\n",
    "btn_increase = tk.Button(master=window, text=\"+\", command=increase)\n",
    "btn_increase.grid(row=0, column=2, sticky=\"nsew\")\n",
    "\n",
    "window.mainloop()"
   ]
  },
  {
   "cell_type": "markdown",
   "id": "f0551c60",
   "metadata": {
    "slideshow": {
     "slide_type": "slide"
    }
   },
   "source": [
    "## Work flow\n",
    "\n",
    "![workFlow](https://github.com/cmcneile/COMP5000-2022-lectures/blob/main/GUI_overview.jpeg?raw=true)\n"
   ]
  },
  {
   "cell_type": "markdown",
   "id": "d28e31f9",
   "metadata": {
    "slideshow": {
     "slide_type": "slide"
    }
   },
   "source": [
    "##  Much bigger example\n",
    "\n",
    "* There is a much bigger example of a GUI at  https://github.com/amark23/Restaurant-Management-System-Python- \n",
    "* It is possible to package all the python as an executable  https://pyinstaller.org/en/stable/\n"
   ]
  },
  {
   "cell_type": "markdown",
   "id": "b2666e14",
   "metadata": {
    "slideshow": {
     "slide_type": "slide"
    }
   },
   "source": [
    "##  Working with tkinter\n",
    "\n",
    "* Working with tkinter requires some experimentation.\n",
    "\n",
    "* Some of the example codes on the web can be confusing. Some examples use the grid geometry manager, while others use the pack geometry manager.\n",
    "\n",
    "Sources of documentation.\n",
    "\n",
    "* Graphical User Interfaces with Tk https://docs.python.org/3/library/tk.html\n",
    "\n",
    "* Python GUI Programming With Tkinter https://realpython.com/python-gui-tkinter/\n",
    "\n",
    "\n",
    "* Linkedin learning video: Python GUI Development with Tkinter https://www.linkedin.com/learning/python-gui-development-with-tkinter-2/\n",
    "\n",
    "\n"
   ]
  },
  {
   "cell_type": "markdown",
   "id": "c3eaf086",
   "metadata": {
    "slideshow": {
     "slide_type": "slide"
    }
   },
   "source": [
    "##  Alternatives to Tkinter\n",
    "\n",
    "There are other libraries for building GUIs in python. \n",
    "\n",
    "* **PySimpleGUI** A simple library for creating GUIs in python https://pypi.org/project/PySimpleGUI/\n",
    "* **PyQt5**  https://riverbankcomputing.com/software/pyqt/intro\n",
    "* **Kivy** Kivy is an open source software library for the rapid development of applications equipped with novel user interfaces, such as multi-touch apps. It will also work on android. https://kivy.org/doc/stable/\n",
    "\n",
    "\n",
    "See this comparisons of different GUI libraries: https://www.activestate.com/blog/top-10-python-gui-frameworks-compared/"
   ]
  },
  {
   "cell_type": "markdown",
   "id": "d78fb49b",
   "metadata": {
    "slideshow": {
     "slide_type": "slide"
    }
   },
   "source": [
    " ## Jupyter widgets\n",
    " \n",
    " *  Widgets can be added to a notebook directly\n",
    " *  PyWidgets is a Python library of HTML interactive widgets for Jupyter notebook. \n",
    " * Each UI element in the library can respond to events and invokes specified event handler functions. \n",
    " * Widgets enhance the interactive feature of Jupyter notebook application.\n",
    " \n",
    " \n",
    " https://ipywidgets.readthedocs.io/en/7.x/examples/Widget%20Basics.html#What-can-they-be-used-for?\n",
    "\n"
   ]
  },
  {
   "cell_type": "markdown",
   "id": "07e94919",
   "metadata": {
    "slideshow": {
     "slide_type": "slide"
    }
   },
   "source": [
    "## Some examples "
   ]
  },
  {
   "cell_type": "code",
   "execution_count": 1,
   "id": "f840326e",
   "metadata": {},
   "outputs": [],
   "source": [
    "import ipywidgets as widgets"
   ]
  },
  {
   "cell_type": "code",
   "execution_count": 2,
   "id": "0df588d4",
   "metadata": {},
   "outputs": [
    {
     "data": {
      "application/vnd.jupyter.widget-view+json": {
       "model_id": "57d890a4c9864cc183debe570b78af09",
       "version_major": 2,
       "version_minor": 0
      },
      "text/plain": [
       "IntSlider(value=0)"
      ]
     },
     "metadata": {},
     "output_type": "display_data"
    }
   ],
   "source": [
    "widgets.IntSlider()"
   ]
  },
  {
   "cell_type": "markdown",
   "id": "38d21c75",
   "metadata": {
    "slideshow": {
     "slide_type": "slide"
    }
   },
   "source": [
    "##  Second example"
   ]
  },
  {
   "cell_type": "code",
   "execution_count": 3,
   "id": "51cc4c82",
   "metadata": {},
   "outputs": [
    {
     "data": {
      "application/vnd.jupyter.widget-view+json": {
       "model_id": "6b82542362a8479f948e6f1ca0960488",
       "version_major": 2,
       "version_minor": 0
      },
      "text/plain": [
       "IntSlider(value=0)"
      ]
     },
     "metadata": {},
     "output_type": "display_data"
    }
   ],
   "source": [
    "from IPython.display import display\n",
    "w = widgets.IntSlider()\n",
    "display(w)"
   ]
  },
  {
   "cell_type": "code",
   "execution_count": 4,
   "id": "c68a6dbd",
   "metadata": {},
   "outputs": [
    {
     "name": "stdout",
     "output_type": "stream",
     "text": [
      "w =  41\n"
     ]
    }
   ],
   "source": [
    "print(\"w = \" , w.value)"
   ]
  },
  {
   "cell_type": "markdown",
   "id": "5ae13e67",
   "metadata": {
    "slideshow": {
     "slide_type": "slide"
    }
   },
   "source": [
    "## Some more examples"
   ]
  },
  {
   "cell_type": "code",
   "execution_count": 5,
   "id": "0072b908",
   "metadata": {},
   "outputs": [
    {
     "data": {
      "application/vnd.jupyter.widget-view+json": {
       "model_id": "fd7c874575b240be9ec62782e3f3f7aa",
       "version_major": 2,
       "version_minor": 0
      },
      "text/plain": [
       "Text(value='Hello World!', disabled=True)"
      ]
     },
     "metadata": {},
     "output_type": "display_data"
    }
   ],
   "source": [
    "widgets.Text(value='Hello World!', disabled=True)"
   ]
  },
  {
   "cell_type": "code",
   "execution_count": 6,
   "id": "c0801664",
   "metadata": {},
   "outputs": [
    {
     "data": {
      "application/vnd.jupyter.widget-view+json": {
       "model_id": "ac0726609c6148a6b6d98f15a5f50a56",
       "version_major": 2,
       "version_minor": 0
      },
      "text/plain": [
       "FloatText(value=0.0)"
      ]
     },
     "metadata": {},
     "output_type": "display_data"
    },
    {
     "data": {
      "application/vnd.jupyter.widget-view+json": {
       "model_id": "a4bca41dc1a04ae991ae153f9492fe69",
       "version_major": 2,
       "version_minor": 0
      },
      "text/plain": [
       "FloatSlider(value=0.0)"
      ]
     },
     "metadata": {},
     "output_type": "display_data"
    }
   ],
   "source": [
    "a = widgets.FloatText()\n",
    "b = widgets.FloatSlider()\n",
    "display(a,b)\n",
    "\n",
    "mylink = widgets.jslink((a, 'value'), (b, 'value'))"
   ]
  },
  {
   "cell_type": "code",
   "execution_count": 7,
   "id": "89c03c7e",
   "metadata": {},
   "outputs": [
    {
     "name": "stdout",
     "output_type": "stream",
     "text": [
      "a =  13.2\n"
     ]
    }
   ],
   "source": [
    "print(\"a = \" , a.value)"
   ]
  },
  {
   "cell_type": "markdown",
   "id": "46771634",
   "metadata": {
    "slideshow": {
     "slide_type": "slide"
    }
   },
   "source": [
    "## Another example"
   ]
  },
  {
   "cell_type": "code",
   "execution_count": 8,
   "id": "8722dd6d",
   "metadata": {},
   "outputs": [
    {
     "data": {
      "application/vnd.jupyter.widget-view+json": {
       "model_id": "42b791b04c454bacb8d640669a617129",
       "version_major": 2,
       "version_minor": 0
      },
      "text/plain": [
       "HBox(children=(VBox(children=(Button(description='correct', style=ButtonStyle()), Button(description='horse', …"
      ]
     },
     "metadata": {},
     "output_type": "display_data"
    }
   ],
   "source": [
    "# https://ipywidgets.readthedocs.io/en/7.x/examples/Widget%20Styling.html\n",
    "from ipywidgets import Button, HBox, VBox\n",
    "\n",
    "words = ['correct', 'horse', 'battery', 'staple']\n",
    "items = [Button(description=w) for w in words]  #  listcomp \n",
    "left_box = VBox([items[0], items[1]])\n",
    "right_box = VBox([items[2], items[3]])\n",
    "HBox([left_box, right_box])"
   ]
  },
  {
   "cell_type": "markdown",
   "id": "7ca0e424",
   "metadata": {
    "slideshow": {
     "slide_type": "slide"
    }
   },
   "source": [
    "##  Comparison between  ipywidgets and tkinter\n",
    "\n",
    "* **ipywidgets** useful for making a notebook interactive, but it is less useful for someone who doesn't know python.\n",
    "*  **tkinter** This is a good way to Make an App that you could give to a non-technical person."
   ]
  },
  {
   "cell_type": "code",
   "execution_count": null,
   "id": "acf8b159",
   "metadata": {},
   "outputs": [],
   "source": []
  }
 ],
 "metadata": {
  "celltoolbar": "Slideshow",
  "kernelspec": {
   "display_name": "Python 3 (ipykernel)",
   "language": "python",
   "name": "python3"
  },
  "language_info": {
   "codemirror_mode": {
    "name": "ipython",
    "version": 3
   },
   "file_extension": ".py",
   "mimetype": "text/x-python",
   "name": "python",
   "nbconvert_exporter": "python",
   "pygments_lexer": "ipython3",
   "version": "3.10.0"
  }
 },
 "nbformat": 4,
 "nbformat_minor": 5
}
