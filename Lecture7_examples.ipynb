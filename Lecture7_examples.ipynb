{
 "cells": [
  {
   "cell_type": "markdown",
   "id": "1832d00b",
   "metadata": {
    "slideshow": {
     "slide_type": "slide"
    }
   },
   "source": [
    "# Python examples in lecture 3\n",
    "* This file is a jupyter notebook. To run it you can download it from the DLE and run it on your own machine.\n",
    "* Or you can run it on google collab <https://colab.research.google.com> via your google account. This may be slower than running on your own machine\n",
    "* Information on downloading notebooks from the store to your computer https://youtu.be/1zY7hIj5tWg"
   ]
  },
  {
   "cell_type": "markdown",
   "id": "4a01ef54",
   "metadata": {
    "slideshow": {
     "slide_type": "slide"
    }
   },
   "source": [
    "## Introduction to numpy\n",
    "\n",
    "We have used python lists to store numbers"
   ]
  },
  {
   "cell_type": "code",
   "execution_count": 2,
   "id": "822d85ea",
   "metadata": {},
   "outputs": [],
   "source": [
    "y = [ 2, \"hello\" ]\n",
    "x = [  1.0 , 2.0 , 3.0 ] "
   ]
  },
  {
   "cell_type": "markdown",
   "id": "8dd3aefe",
   "metadata": {},
   "source": [
    "There is a specialized module **numpy** to deal with vectors and arrays of numbers.\n",
    "\n",
    "Powerful N-dimensional arrays for **numbers**\n",
    "  \n",
    "* Using numpy is faster than using python lists.\n",
    "* There are functions (eg. mean), which can operate directly on the numpy arrays.\n",
    "* Numpy arrays are the building blocks of many higher level modules, which are used for machine learning.\n",
    "* See https://numpy.org/ for more detail.\n",
    "\n"
   ]
  },
  {
   "cell_type": "markdown",
   "id": "17c6c14a",
   "metadata": {
    "slideshow": {
     "slide_type": "slide"
    }
   },
   "source": [
    "## Basic example of numpy array\n",
    "\n",
    "* Below is an example of creating a numpy array"
   ]
  },
  {
   "cell_type": "code",
   "execution_count": 3,
   "id": "c996ea08",
   "metadata": {},
   "outputs": [
    {
     "name": "stdout",
     "output_type": "stream",
     "text": [
      "v =   [1. 2. 3.]\n",
      "sum v =  6.0\n",
      "mean v =  2.0\n"
     ]
    }
   ],
   "source": [
    "import numpy as np\n",
    "v =  np.array([1.0, 2.0, 3.0] )\n",
    "print(\"v =  \", v)\n",
    "print(\"sum v = \" , v.sum())\n",
    "print(\"mean v = \" , v.mean())"
   ]
  },
  {
   "cell_type": "markdown",
   "id": "6e01af89",
   "metadata": {
    "slideshow": {
     "slide_type": "slide"
    }
   },
   "source": [
    "## Indexing and slicing numpy\n",
    "* Often you need to extract part of the vector (to remove data)"
   ]
  },
  {
   "cell_type": "code",
   "execution_count": 4,
   "id": "b42f715c",
   "metadata": {},
   "outputs": [
    {
     "name": "stdout",
     "output_type": "stream",
     "text": [
      "v =  [ 1.  2.  3.  4.  5.  6.  7.  8.  9. 10.]\n",
      "v[1] =  2.0\n",
      "v[-1] =  10.0\n",
      "v[0:3] =  [1. 2. 3.]\n",
      "v[:4] =  [1. 2. 3. 4.]\n"
     ]
    }
   ],
   "source": [
    "import numpy as np\n",
    "v=np.array([1.0,2.0,3.0,4.0,5.0,6.0,7.0,8.0,9.0,10.])\n",
    "print(\"v = \" , v)\n",
    "print(\"v[1] = \", v[1])\n",
    "print(\"v[-1] = \", v[-1])\n",
    "print(\"v[0:3] = \" , v[0:3])\n",
    "print(\"v[:4] = \" , v[:4])"
   ]
  },
  {
   "cell_type": "markdown",
   "id": "3762d3e7",
   "metadata": {
    "slideshow": {
     "slide_type": "slide"
    }
   },
   "source": [
    "##  Class numpy\n",
    "\n",
    "* The bottom level of numpy is the class **ndarray**\n",
    "* See https://numpy.org/doc/stable/reference/generated/numpy.ndarray.html for more information."
   ]
  },
  {
   "cell_type": "code",
   "execution_count": 5,
   "id": "153568ca",
   "metadata": {},
   "outputs": [
    {
     "name": "stdout",
     "output_type": "stream",
     "text": [
      "<class 'numpy.ndarray'>\n",
      "(3,)\n"
     ]
    }
   ],
   "source": [
    "import numpy as np\n",
    "a = np.array([1, 2, 3]) \n",
    "print(type(a))\n",
    "print(a.shape) "
   ]
  },
  {
   "cell_type": "markdown",
   "id": "25279908",
   "metadata": {},
   "source": [
    "* **ndim**  Number of array dimensions\n",
    "* **shape** Tuple of array dimensions.\n",
    "* **size**  Number of elements in the array.\n",
    "* **dtype** Data-type of the array’s elements.\n",
    "\n",
    "And many others."
   ]
  },
  {
   "cell_type": "markdown",
   "id": "b23aecd5",
   "metadata": {
    "slideshow": {
     "slide_type": "slide"
    }
   },
   "source": [
    "##  Methods of ndarray"
   ]
  },
  {
   "cell_type": "code",
   "execution_count": 6,
   "id": "093ccc66",
   "metadata": {},
   "outputs": [
    {
     "name": "stdout",
     "output_type": "stream",
     "text": [
      "sum v =  6.0\n"
     ]
    }
   ],
   "source": [
    "import numpy as np\n",
    "v =  np.array([1.0, 2.0, 3.0] )\n",
    "print(\"sum v = \" , v.sum())"
   ]
  },
  {
   "cell_type": "markdown",
   "id": "f7045b10",
   "metadata": {},
   "source": [
    "* **sum()**  Return the sum of the array elements.\n",
    "* **mean()**  Returns the average of the array elements.\n",
    "* **sort()**  Sorts the array elements.\n",
    "* **std()**   Returns the standard deviation of the array elements\n",
    "\n",
    "And many others."
   ]
  },
  {
   "cell_type": "markdown",
   "id": "825c0db9",
   "metadata": {
    "slideshow": {
     "slide_type": "slide"
    }
   },
   "source": [
    "##  Multi-dimensional arrays"
   ]
  },
  {
   "cell_type": "code",
   "execution_count": 10,
   "id": "95103f96",
   "metadata": {
    "slideshow": {
     "slide_type": "slide"
    }
   },
   "outputs": [
    {
     "name": "stdout",
     "output_type": "stream",
     "text": [
      "[[2 3]\n",
      " [1 0]]\n",
      "x[0,0] =  2\n",
      "x[0,1] =  3\n",
      "x.shape =  (2, 2)\n"
     ]
    }
   ],
   "source": [
    "import numpy as np\n",
    "x = np.array([[2, 3] , [1, 0]])\n",
    "print(x)\n",
    "print(\"x[0,0] = \" , x[0,0])\n",
    "print(\"x[0,1] = \" , x[0,1])\n",
    "print(\"x.shape = \" , x.shape )"
   ]
  },
  {
   "cell_type": "markdown",
   "id": "7b8d6a5a",
   "metadata": {
    "slideshow": {
     "slide_type": "slide"
    }
   },
   "source": [
    "##  Images\n",
    "\n",
    "Images are just 2D numpy arrays in python"
   ]
  },
  {
   "cell_type": "code",
   "execution_count": 11,
   "id": "05ad9fb9",
   "metadata": {},
   "outputs": [
    {
     "ename": "ModuleNotFoundError",
     "evalue": "No module named 'matplotlib'",
     "output_type": "error",
     "traceback": [
      "\u001b[0;31m---------------------------------------------------------------------------\u001b[0m",
      "\u001b[0;31mModuleNotFoundError\u001b[0m                       Traceback (most recent call last)",
      "\u001b[0;32m<ipython-input-11-de7ce3801d0f>\u001b[0m in \u001b[0;36m<module>\u001b[0;34m\u001b[0m\n\u001b[1;32m      1\u001b[0m \u001b[0mff\u001b[0m \u001b[0;34m=\u001b[0m \u001b[0;34m\"NORMAL2-IM-1400-0001.jpeg\"\u001b[0m\u001b[0;34m\u001b[0m\u001b[0;34m\u001b[0m\u001b[0m\n\u001b[0;32m----> 2\u001b[0;31m \u001b[0;32mimport\u001b[0m \u001b[0mmatplotlib\u001b[0m\u001b[0;34m.\u001b[0m\u001b[0mpyplot\u001b[0m \u001b[0;32mas\u001b[0m \u001b[0mplt\u001b[0m\u001b[0;34m\u001b[0m\u001b[0;34m\u001b[0m\u001b[0m\n\u001b[0m\u001b[1;32m      3\u001b[0m \u001b[0;32mimport\u001b[0m \u001b[0mmatplotlib\u001b[0m\u001b[0;34m.\u001b[0m\u001b[0mimage\u001b[0m \u001b[0;32mas\u001b[0m \u001b[0mmpimg\u001b[0m\u001b[0;34m\u001b[0m\u001b[0;34m\u001b[0m\u001b[0m\n\u001b[1;32m      4\u001b[0m \u001b[0mimg\u001b[0m \u001b[0;34m=\u001b[0m \u001b[0mmpimg\u001b[0m\u001b[0;34m.\u001b[0m\u001b[0mimread\u001b[0m\u001b[0;34m(\u001b[0m\u001b[0mff\u001b[0m\u001b[0;34m)\u001b[0m\u001b[0;34m\u001b[0m\u001b[0;34m\u001b[0m\u001b[0m\n\u001b[1;32m      5\u001b[0m \u001b[0mprint\u001b[0m\u001b[0;34m(\u001b[0m\u001b[0mtype\u001b[0m\u001b[0;34m(\u001b[0m\u001b[0mimg\u001b[0m\u001b[0;34m)\u001b[0m\u001b[0;34m)\u001b[0m\u001b[0;34m\u001b[0m\u001b[0;34m\u001b[0m\u001b[0m\n",
      "\u001b[0;31mModuleNotFoundError\u001b[0m: No module named 'matplotlib'"
     ]
    }
   ],
   "source": [
    "ff = \"NORMAL2-IM-1400-0001.jpeg\"\n",
    "import matplotlib.pyplot as plt\n",
    "import matplotlib.image as mpimg\n",
    "img = mpimg.imread(ff)\n",
    "print(type(img))\n",
    "print(img.shape)\n",
    "print(img)\n",
    "imgplot = plt.imshow(img)\n",
    "plt.colorbar()\n",
    "plt.show()\n"
   ]
  },
  {
   "cell_type": "markdown",
   "id": "cf21687a",
   "metadata": {
    "slideshow": {
     "slide_type": "slide"
    }
   },
   "source": [
    "## Numpy is the building block of other modules\n",
    "\n",
    "* **panda** a dataframe module (good for working with spreadsheet like data) See  later.\n",
    "\n",
    "* **SciPy** Module of scientific routines (eg. Optimization, integration)    (https://www.scipy.org/)\n",
    "\n",
    "* **statsmodels** Module for statistics  https://www.statsmodels.org/stable/index.html\n",
    "\n",
    "* **scikit-learn**  machine learning library  https://scikit-learn.org/stable/\n",
    "\n",
    "* **keras**  Deep learning library https://keras.io/\n"
   ]
  },
  {
   "cell_type": "code",
   "execution_count": null,
   "id": "0a78b9a0",
   "metadata": {},
   "outputs": [],
   "source": []
  }
 ],
 "metadata": {
  "celltoolbar": "Slideshow",
  "kernelspec": {
   "display_name": "Python 3",
   "language": "python",
   "name": "python3"
  },
  "language_info": {
   "codemirror_mode": {
    "name": "ipython",
    "version": 3
   },
   "file_extension": ".py",
   "mimetype": "text/x-python",
   "name": "python",
   "nbconvert_exporter": "python",
   "pygments_lexer": "ipython3",
   "version": "3.9.4"
  }
 },
 "nbformat": 4,
 "nbformat_minor": 5
}
