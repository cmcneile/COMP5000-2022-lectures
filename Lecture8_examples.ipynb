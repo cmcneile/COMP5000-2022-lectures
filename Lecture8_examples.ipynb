{
 "cells": [
  {
   "cell_type": "markdown",
   "id": "1832d00b",
   "metadata": {
    "slideshow": {
     "slide_type": "slide"
    }
   },
   "source": [
    "# Python examples in lecture 8\n",
    "* This file is a jupyter notebook. To run it you can download it from the DLE and run it on your own machine.\n",
    "* Or you can run it on google collab <https://colab.research.google.com> via your google account. This may be slower than running on your own machine\n",
    "* Information on downloading notebooks from the store to your computer https://youtu.be/1zY7hIj5tWg"
   ]
  },
  {
   "cell_type": "markdown",
   "id": "4cdfdd2c",
   "metadata": {
    "slideshow": {
     "slide_type": "slide"
    }
   },
   "source": [
    "##  Creating a pandas dataframe\n",
    "\n",
    "Creating Pandas Dataframe from lists of lists.\n"
   ]
  },
  {
   "cell_type": "code",
   "execution_count": 1,
   "id": "822d85ea",
   "metadata": {},
   "outputs": [
    {
     "name": "stdout",
     "output_type": "stream",
     "text": [
      "   Name  Age\n",
      "0   Tom   23\n",
      "1  Nick   35\n",
      "2  Jane   24\n"
     ]
    }
   ],
   "source": [
    "import pandas as pd \n",
    "data = [['Tom', 23], ['Nick', 35], ['Jane', 24]] \n",
    "df = pd.DataFrame(data, columns = ['Name', 'Age']) \n",
    "print(df)"
   ]
  },
  {
   "cell_type": "markdown",
   "id": "cb31eba9",
   "metadata": {
    "slideshow": {
     "slide_type": "slide"
    }
   },
   "source": [
    "##  Creating a pandas dataframe\n",
    "\n",
    "Creating Pandas Dataframe from list of dictionaries"
   ]
  },
  {
   "cell_type": "code",
   "execution_count": 3,
   "id": "30c6e59e",
   "metadata": {},
   "outputs": [
    {
     "name": "stdout",
     "output_type": "stream",
     "text": [
      "    a   b   c\n",
      "0   1   2   3\n",
      "1  10  20  30\n"
     ]
    }
   ],
   "source": [
    "import pandas as pd \n",
    "dict1 = {'a': 1, 'b': 2, 'c':3}\n",
    "dict2 =  {'a':10, 'b': 20, 'c': 30}   \n",
    "data = [ dict1, dict2 ]\n",
    "df = pd.DataFrame(data) \n",
    "print(df)\n"
   ]
  },
  {
   "cell_type": "markdown",
   "id": "cb246446",
   "metadata": {
    "slideshow": {
     "slide_type": "slide"
    }
   },
   "source": [
    "##  Extracting variables from pandas dataframe\n",
    "\n",
    "We need to be able to get information out of the dataframe\n",
    "\n",
    "* **df['Age']**  where Age is a column name\n",
    "* **df.iloc[1,1]** element in first row and first column\n",
    "* **df.loc[1,'Age']** element in first row and first column=Age\n",
    "* **df['Age'].to\\_numpy()** extract a column to numpy array\n",
    "\n",
    "Note the difference between **iloc** and **loc**.\n"
   ]
  },
  {
   "cell_type": "code",
   "execution_count": 5,
   "id": "b37dfe0f",
   "metadata": {},
   "outputs": [
    {
     "name": "stdout",
     "output_type": "stream",
     "text": [
      "   Name  Age\n",
      "0   Tom   23\n",
      "1  Nick   35\n",
      "2  Jane   24\n",
      "df.iloc[1,1] =  35\n",
      "df.loc[1,Age] =  35\n",
      "df['Age'].to_numpy() [23 35 24]\n"
     ]
    }
   ],
   "source": [
    "import pandas as pd \n",
    "data = [['Tom', 23], ['Nick', 35], ['Jane', 24]] \n",
    "df = pd.DataFrame(data, columns = ['Name', 'Age']) \n",
    "print(df)\n",
    "print(\"df.iloc[1,1] = \" , df.iloc[1,1])\n",
    "print(\"df.loc[1,Age] = \" , df.loc[1,'Age'])\n",
    "print(\"df['Age'].to_numpy()\" , df['Age'].to_numpy())"
   ]
  },
  {
   "cell_type": "markdown",
   "id": "aec5b547",
   "metadata": {
    "slideshow": {
     "slide_type": "slide"
    }
   },
   "source": [
    "##  Changing numbers in a pandas dataframe"
   ]
  },
  {
   "cell_type": "code",
   "execution_count": 6,
   "id": "887fc885",
   "metadata": {},
   "outputs": [
    {
     "name": "stdout",
     "output_type": "stream",
     "text": [
      "   Name  Age\n",
      "0   Tom   23\n",
      "1  Nick   -1\n",
      "2  Jane   24\n"
     ]
    }
   ],
   "source": [
    "import pandas as pd \n",
    "data = [['Tom', 23], ['Nick', 35], ['Jane', 24]] \n",
    "df = pd.DataFrame(data, columns = ['Name', 'Age']) \n",
    "df.iloc[1,1] = -1\n",
    "print(df)\n"
   ]
  },
  {
   "cell_type": "markdown",
   "id": "362be60e",
   "metadata": {
    "slideshow": {
     "slide_type": "slide"
    }
   },
   "source": [
    "##  Deleting columns from pandas data frame\n",
    "\n",
    "* To remove a column from the dataframe use **drop**\n",
    "\n",
    "* The example blow deletes columns: pop and gdpPercap"
   ]
  },
  {
   "cell_type": "code",
   "execution_count": 7,
   "id": "998239f5",
   "metadata": {},
   "outputs": [
    {
     "name": "stdout",
     "output_type": "stream",
     "text": [
      "       country  year         pop continent  lifeExp   gdpPercap\n",
      "0  Afghanistan  1952   8425333.0      Asia   28.801  779.445314\n",
      "1  Afghanistan  1957   9240934.0      Asia   30.332  820.853030\n",
      "2  Afghanistan  1962  10267083.0      Asia   31.997  853.100710\n",
      "------------------------------\n",
      "       country  year continent  lifeExp\n",
      "0  Afghanistan  1952      Asia   28.801\n",
      "1  Afghanistan  1957      Asia   30.332\n",
      "2  Afghanistan  1962      Asia   31.997\n"
     ]
    }
   ],
   "source": [
    "import pandas as pd\n",
    "gapminder_url='https://bit.ly/2cLzoxH'\n",
    "gapminder = pd.read_csv(gapminder_url)\n",
    "print(gapminder.head(3))\n",
    "# pandas drop a column with drop function\n",
    "gapminder.drop(['pop', 'gdpPercap'], axis=1,inplace=True)\n",
    "print(\"------------------------------\")\n",
    "print(gapminder.head(3))\n"
   ]
  },
  {
   "cell_type": "code",
   "execution_count": null,
   "id": "073a59bf",
   "metadata": {},
   "outputs": [],
   "source": []
  }
 ],
 "metadata": {
  "celltoolbar": "Slideshow",
  "kernelspec": {
   "display_name": "Python 3 (ipykernel)",
   "language": "python",
   "name": "python3"
  },
  "language_info": {
   "codemirror_mode": {
    "name": "ipython",
    "version": 3
   },
   "file_extension": ".py",
   "mimetype": "text/x-python",
   "name": "python",
   "nbconvert_exporter": "python",
   "pygments_lexer": "ipython3",
   "version": "3.10.0"
  }
 },
 "nbformat": 4,
 "nbformat_minor": 5
}
