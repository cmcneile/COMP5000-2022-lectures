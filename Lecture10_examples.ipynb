{
 "cells": [
  {
   "cell_type": "markdown",
   "id": "b2df1707",
   "metadata": {},
   "source": [
    "# Python examples in lecture 10\n",
    "* This file is a jupyter notebook. To run it you can download it from the DLE and run it on your own machine.\n",
    "* Or you can run it on google collab <https://colab.research.google.com> via your google account. This may be slower than running on your own machine\n",
    "* Information on downloading notebooks from the store to your computer https://youtu.be/1zY7hIj5tWg"
   ]
  },
  {
   "cell_type": "markdown",
   "id": "e1e87888",
   "metadata": {
    "slideshow": {
     "slide_type": "slide"
    }
   },
   "source": [
    "#  Inserting  into and changing a SQLite database"
   ]
  },
  {
   "cell_type": "markdown",
   "id": "78d71936",
   "metadata": {
    "slideshow": {
     "slide_type": "slide"
    }
   },
   "source": [
    "Recall the CRUD model of interacting with a database  \n",
    "\n",
    "https://en.wikipedia.org/wiki/Create,_read,_update_and_delete\n",
    "\n",
    "\n",
    "* Create\n",
    "* Read\n",
    "* Update\n",
    "* Delete\n",
    "\n",
    "We will now review Create and introduce the Update and Delete."
   ]
  },
  {
   "cell_type": "markdown",
   "id": "6a554bdb",
   "metadata": {},
   "source": [
    "##  Component parts of SQL\n",
    "\n",
    "**data definition language (DDL)** https://en.wikipedia.org/wiki/Data_definition_language\n",
    "* create table\n",
    "* alter table\n",
    "* drop table   (delete a table)\n",
    "\n",
    "**data query language (DQL)** https://en.wikipedia.org/wiki/Data_query_language\n",
    "* select \n",
    "\n",
    "**A data manipulation language (DML)** is a computer programming language used for adding (inserting), deleting, and modifying (updating) data in a database. https://en.wikipedia.org/wiki/Data_manipulation_language\n"
   ]
  },
  {
   "cell_type": "markdown",
   "id": "4a9b8831",
   "metadata": {
    "slideshow": {
     "slide_type": "slide"
    }
   },
   "source": [
    "##  Example of adding a table into a database\n",
    "\n",
    "The example python code below creates a SQLite database in the file:  <b> example.db </b>\n",
    "\n",
    "The name of the table is:  <b> EMPLOYEE </b> with column headings\n",
    "\n",
    "*  FIRST_NAME\n",
    "*  AGE\n",
    "\n",
    "Note I have not added a key for the table.\n"
   ]
  },
  {
   "cell_type": "code",
   "execution_count": 1,
   "id": "4c5d8dc9",
   "metadata": {
    "slideshow": {
     "slide_type": "slide"
    }
   },
   "outputs": [
    {
     "name": "stdout",
     "output_type": "stream",
     "text": [
      "Table created successfully........\n"
     ]
    }
   ],
   "source": [
    "import sqlite3\n",
    "conn = sqlite3.connect('example.db')\n",
    "\n",
    "#Creating a cursor object using the cursor() method\n",
    "cursor = conn.cursor()\n",
    "#Creating table as per requirement. This is an example of a SQL schema.\n",
    "sql ='''CREATE TABLE IF NOT EXISTS EMPLOYEE(\n",
    "   FIRST_NAME CHAR(20),\n",
    "   AGE INT\n",
    ")'''\n",
    "cursor.execute(sql)\n",
    "print(\"Table created successfully........\")\n",
    "# Commit your changes in the database\n",
    "conn.commit()\n",
    "#Closing the connection\n",
    "conn.close()"
   ]
  },
  {
   "cell_type": "markdown",
   "id": "b4b245cb",
   "metadata": {
    "slideshow": {
     "slide_type": "subslide"
    }
   },
   "source": [
    "## Comment on the above code\n",
    "\n",
    "* The command <b> conn.commit() </b> makes the changes to the database file.\n",
    "* If the EMPLOYEE table is already in the file example.db you will get an error. So I would first delete the file <b> example.db </b>\n"
   ]
  },
  {
   "cell_type": "markdown",
   "id": "b2b4fff3",
   "metadata": {
    "slideshow": {
     "slide_type": "slide"
    }
   },
   "source": [
    "## Inserting a new row into SQLite database file\n",
    "\n",
    "* Now that we have created a database file we can add rows to the table.\n",
    "* In a previous lecture we have seen how to create a table using pandas.\n",
    "* This example puts constant values into the database."
   ]
  },
  {
   "cell_type": "code",
   "execution_count": 2,
   "id": "25dfdbb4",
   "metadata": {
    "slideshow": {
     "slide_type": "slide"
    }
   },
   "outputs": [
    {
     "name": "stdout",
     "output_type": "stream",
     "text": [
      "Records inserted........\n"
     ]
    }
   ],
   "source": [
    "import sqlite3\n",
    "conn = sqlite3.connect('example.db')\n",
    "#Creating a cursor object using the cursor() method\n",
    "cursor = conn.cursor()\n",
    "# Preparing SQL queries to INSERT a record into the database.\n",
    "cursor.execute('''INSERT INTO EMPLOYEE(\n",
    "   FIRST_NAME, AGE) VALUES \n",
    "   ('Ramya',  27)''')\n",
    "cursor.execute('''INSERT INTO EMPLOYEE(\n",
    "   FIRST_NAME,  AGE) VALUES \n",
    "   ('Tom',  20)''')\n",
    "cursor.execute('''INSERT INTO EMPLOYEE(\n",
    "   FIRST_NAME, AGE) VALUES \n",
    "   ('Jane',  35)''')\n",
    "cursor.execute('''INSERT INTO EMPLOYEE(\n",
    "   FIRST_NAME, AGE) VALUES \n",
    "   ('Roger', 22 )''')\n",
    "# Commit your changes in the database\n",
    "conn.commit()\n",
    "print(\"Records inserted........\")\n",
    "# Closing the connection\n",
    "conn.close()\n"
   ]
  },
  {
   "cell_type": "markdown",
   "id": "8737da37",
   "metadata": {
    "slideshow": {
     "slide_type": "slide"
    }
   },
   "source": [
    "We can check that the rows have been added to the table in the database\n",
    "\n",
    "* Use the python code to read the table to show the rows have been entered.\n",
    "* Or you can use a command line utility such as https://sqlite.org/cli.html\n",
    "* Or you can use the online https://inloop.github.io/sqlite-viewer/\n",
    "\n",
    "\n"
   ]
  },
  {
   "cell_type": "code",
   "execution_count": 3,
   "id": "60b4259f",
   "metadata": {
    "slideshow": {
     "slide_type": "slide"
    }
   },
   "outputs": [
    {
     "name": "stdout",
     "output_type": "stream",
     "text": [
      "('Ramya', 27, None)\n",
      "('Tom', 20, None)\n",
      "('Jane', 35, None)\n",
      "('Roger', 22, None)\n",
      "('John', 45, None)\n",
      "('Ramya', 27, None)\n",
      "('Tom', 20, None)\n",
      "('Jane', 35, None)\n",
      "('Roger', 22, None)\n",
      "('John', 45, None)\n",
      "('Ramya', 27, None)\n",
      "('Tom', 20, None)\n",
      "('Jane', 35, None)\n",
      "('Roger', 22, None)\n"
     ]
    }
   ],
   "source": [
    "import sqlite3\n",
    "connection = sqlite3.connect(\"example.db\")\n",
    "cursor = connection.cursor()\n",
    "cursor.execute(\"SELECT * FROM EMPLOYEE\") \n",
    "result = cursor.fetchall() \n",
    "for r in result:\n",
    "    print(r)"
   ]
  },
  {
   "cell_type": "markdown",
   "id": "252b5419",
   "metadata": {
    "slideshow": {
     "slide_type": "slide"
    }
   },
   "source": [
    "## Example of inserting values into a table\n",
    "\n",
    "* In this example, variables **name_** and **age_** are addded to the table."
   ]
  },
  {
   "cell_type": "code",
   "execution_count": 4,
   "id": "4f73a15e",
   "metadata": {
    "slideshow": {
     "slide_type": "-"
    }
   },
   "outputs": [
    {
     "name": "stdout",
     "output_type": "stream",
     "text": [
      "Records inserted........\n"
     ]
    }
   ],
   "source": [
    "import sqlite3\n",
    "\n",
    "conn = sqlite3.connect('example.db')\n",
    "\n",
    "#Creating a cursor object using the cursor() method\n",
    "cursor = conn.cursor()\n",
    "\n",
    "name_ = \"John\"\n",
    "age_  = 45\n",
    "\n",
    "# Preparing SQL queries to INSERT a record into the database.\n",
    "cursor.execute('''INSERT INTO EMPLOYEE(\n",
    "   FIRST_NAME, AGE) VALUES \n",
    "   (?, ?)''' , (name_, age_) )\n",
    "# Note that (name_, age_ ) is a tuple data type\n",
    "\n",
    "# Commit your changes in the database\n",
    "conn.commit()\n",
    "print(\"Records inserted........\")\n",
    "# Closing the connection\n",
    "conn.close()\n"
   ]
  },
  {
   "cell_type": "markdown",
   "id": "6821565e",
   "metadata": {
    "slideshow": {
     "slide_type": "slide"
    }
   },
   "source": [
    "##  Updating and changing the table\n",
    "\n",
    "The data in the table can be updated\n",
    "\n",
    "The SQL command sets all the ages to 35\n",
    "\n",
    "<b> UPDATE EMPLOYEE SET AGE = 35;  </b>\n",
    "\n",
    "The SQL commands adds 1 to each age\n",
    "\n",
    "<b> UPDATE EMPLOYEE SET AGE = AGE+1;  </b>\n",
    "\n",
    "The SQL command below sets Tom's age to 40\n",
    "\n",
    "<b> UPDATE EMPLOYEE SET AGE=40 WHERE FIRST_NAME = 'Tom'</b>\n",
    "\n",
    "See the file <b> update_example.py </b> for an example using python.\n",
    "\n",
    "See  https://www.w3schools.com/sql/sql_update.asp for more examples\n"
   ]
  },
  {
   "cell_type": "code",
   "execution_count": 5,
   "id": "29644932",
   "metadata": {
    "slideshow": {
     "slide_type": "slide"
    }
   },
   "outputs": [
    {
     "name": "stdout",
     "output_type": "stream",
     "text": [
      "Table updated...... \n",
      "('Ramya', 27, None)\n",
      "('Tom', 40, None)\n",
      "('Jane', 35, None)\n",
      "('Roger', 22, None)\n",
      "('John', 45, None)\n",
      "('Ramya', 27, None)\n",
      "('Tom', 40, None)\n",
      "('Jane', 35, None)\n",
      "('Roger', 22, None)\n",
      "('John', 45, None)\n"
     ]
    }
   ],
   "source": [
    "import sqlite3\n",
    "connection = sqlite3.connect(\"example.db\")\n",
    "cursor = connection.cursor()\n",
    "\n",
    "#Updating the records\n",
    "sql = \"UPDATE EMPLOYEE SET AGE=40 WHERE FIRST_NAME = 'Tom' \"\n",
    "cursor.execute(sql)\n",
    "print(\"Table updated...... \")\n",
    "\n",
    "cursor.execute(\"SELECT * FROM EMPLOYEE\") \n",
    "result = cursor.fetchall() \n",
    "for r in result:\n",
    "    print(r)"
   ]
  },
  {
   "cell_type": "markdown",
   "id": "7fee918b",
   "metadata": {
    "slideshow": {
     "slide_type": "slide"
    }
   },
   "source": [
    "###  Deletion \n",
    "Data in the tables can be deleted.\n",
    "\n",
    "The SQL command deletes the row with FIRST_NAME equal to Jane.\n",
    "\n",
    "<b> DELETE FROM EMPLOYEE WHERE FIRST_NAME = 'Jane'; </b>\n",
    "\n",
    "The SQL command deletes everything from the EMPLOYEE table.\n",
    "\n",
    "<b> DELETE FROM EMPLOYEE ;</b>\n",
    "\n",
    "See more information at: https://www.w3schools.com/sql/sql_delete.asp\n",
    "\n"
   ]
  },
  {
   "cell_type": "code",
   "execution_count": 6,
   "id": "b9b7be90",
   "metadata": {
    "slideshow": {
     "slide_type": "slide"
    }
   },
   "outputs": [
    {
     "name": "stdout",
     "output_type": "stream",
     "text": [
      "Table updated...... \n",
      "('Ramya', 27, None)\n",
      "('Tom', 20, None)\n",
      "('Roger', 22, None)\n",
      "('John', 45, None)\n",
      "('Ramya', 27, None)\n",
      "('Tom', 20, None)\n",
      "('Roger', 22, None)\n",
      "('John', 45, None)\n"
     ]
    }
   ],
   "source": [
    "import sqlite3\n",
    "connection = sqlite3.connect(\"example.db\")\n",
    "cursor = connection.cursor()\n",
    "\n",
    "#Updating the records. Remove row with First_Name Jane\n",
    "sql = \"DELETE FROM EMPLOYEE WHERE FIRST_NAME = 'Jane';\"\n",
    "cursor.execute(sql)\n",
    "print(\"Table updated...... \")\n",
    "\n",
    "cursor.execute(\"SELECT * FROM EMPLOYEE\") \n",
    "result = cursor.fetchall() \n",
    "for r in result:\n",
    "    print(r)"
   ]
  },
  {
   "cell_type": "markdown",
   "id": "78c17af6",
   "metadata": {
    "slideshow": {
     "slide_type": "slide"
    }
   },
   "source": [
    "##  Altering the TABLES\n",
    "\n",
    "The SQL command below adds a new column LAST_NAME to the EMPLOYEE table\n",
    "\n",
    "<b>  ALTER TABLE EMPLOYEE ADD COLUMN LAST_NAME ; </b>\n",
    "\n",
    "The SQL command renames the table EMPLOYEE to STAFF\n",
    "\n",
    "<b> ALTER TABLE EMPLOYEE RENAME to STAFF  ; </b>\n",
    "\n",
    "The SQL ccommand rename a column in table EMPLOYEE\n",
    "\n",
    "<b>  ALTER TABLE EMPLOYEE RENAME COLUMN Age TO StaffAge ; </b>\n",
    "\n",
    "\n",
    "Some database systems allow a column to be deleted. This is not so easy with SQLite https://www.sqlitetutorial.net/sqlite-alter-table/\n",
    "\n",
    "See  https://www.sqlite.org/lang_altertable.html  for additional information."
   ]
  },
  {
   "cell_type": "code",
   "execution_count": 4,
   "id": "96e05e38",
   "metadata": {
    "slideshow": {
     "slide_type": "slide"
    }
   },
   "outputs": [
    {
     "ename": "OperationalError",
     "evalue": "duplicate column name: LAST_NAME",
     "output_type": "error",
     "traceback": [
      "\u001b[0;31m---------------------------------------------------------------------------\u001b[0m",
      "\u001b[0;31mOperationalError\u001b[0m                          Traceback (most recent call last)",
      "\u001b[0;32m<ipython-input-4-5f1785a177af>\u001b[0m in \u001b[0;36m<module>\u001b[0;34m\u001b[0m\n\u001b[1;32m      5\u001b[0m \u001b[0;31m# Add a new column\u001b[0m\u001b[0;34m\u001b[0m\u001b[0;34m\u001b[0m\u001b[0;34m\u001b[0m\u001b[0m\n\u001b[1;32m      6\u001b[0m \u001b[0msql\u001b[0m \u001b[0;34m=\u001b[0m \u001b[0;34m\"ALTER TABLE EMPLOYEE ADD COLUMN LAST_NAME\"\u001b[0m\u001b[0;34m\u001b[0m\u001b[0;34m\u001b[0m\u001b[0m\n\u001b[0;32m----> 7\u001b[0;31m \u001b[0mcursor\u001b[0m\u001b[0;34m.\u001b[0m\u001b[0mexecute\u001b[0m\u001b[0;34m(\u001b[0m\u001b[0msql\u001b[0m\u001b[0;34m)\u001b[0m\u001b[0;34m\u001b[0m\u001b[0;34m\u001b[0m\u001b[0m\n\u001b[0m\u001b[1;32m      8\u001b[0m \u001b[0mprint\u001b[0m\u001b[0;34m(\u001b[0m\u001b[0;34m\"Table updated...... \"\u001b[0m\u001b[0;34m)\u001b[0m\u001b[0;34m\u001b[0m\u001b[0;34m\u001b[0m\u001b[0m\n\u001b[1;32m      9\u001b[0m \u001b[0;34m\u001b[0m\u001b[0m\n",
      "\u001b[0;31mOperationalError\u001b[0m: duplicate column name: LAST_NAME"
     ]
    }
   ],
   "source": [
    "import sqlite3\n",
    "connection = sqlite3.connect(\"example.db\")\n",
    "cursor = connection.cursor()\n",
    "\n",
    "# Add a new column\n",
    "sql = \"ALTER TABLE EMPLOYEE ADD COLUMN LAST_NAME\" \n",
    "cursor.execute(sql)\n",
    "print(\"Table updated...... \")\n",
    "\n",
    "cursor.execute(\"SELECT * FROM EMPLOYEE\") \n",
    "result = cursor.fetchall() \n",
    "for r in result:\n",
    "    print(r)"
   ]
  },
  {
   "cell_type": "code",
   "execution_count": null,
   "id": "cb943ee7",
   "metadata": {},
   "outputs": [],
   "source": []
  },
  {
   "cell_type": "code",
   "execution_count": null,
   "id": "da92a1bc",
   "metadata": {},
   "outputs": [],
   "source": []
  }
 ],
 "metadata": {
  "celltoolbar": "Slideshow",
  "kernelspec": {
   "display_name": "Python 3",
   "language": "python",
   "name": "python3"
  },
  "language_info": {
   "codemirror_mode": {
    "name": "ipython",
    "version": 3
   },
   "file_extension": ".py",
   "mimetype": "text/x-python",
   "name": "python",
   "nbconvert_exporter": "python",
   "pygments_lexer": "ipython3",
   "version": "3.9.4"
  }
 },
 "nbformat": 4,
 "nbformat_minor": 5
}
